{
 "cells": [
  {
   "cell_type": "markdown",
   "metadata": {},
   "source": [
    "# HW 5\n",
    "\n",
    "* Due on **Wed, Mar-5-2024** during reading week (1pm)\n",
    "* Please comment your code and upload the Jupyter notebook file to https://www.dropbox.com/request/HwZIxhQbg4eKPPwXADLy\n",
    "* Q&A: Team or email"
   ]
  },
  {
   "cell_type": "markdown",
   "metadata": {},
   "source": [
    "### 1. Load the following datasets into Pandas dataframes and print out the first 8 rows (30%)\n",
    "\n",
    "- Given the data sets \"ElementalAbundances.txt\". Here are more information about the data file:\n",
    "    - the data file is a \"tab (\\t)\" delimited .txt file\n",
    "    - the header is in the first line (0)\n",
    "\n",
    "- The mean temperature data recorded at Geneva is in the file \"159464-TAVG-Data.txt\". Make sure you use the options \"**skiprows**\" and \"**delim_whitespace**\" in order to get the data frame properly. \n",
    "\n",
    "- Download the data file \"SP_DeltaTime.txt\" and load it into Python as a data frame using the pandas function .read_csv(). \n",
    "  \n",
    "_NOTE_:\n",
    "   - We need to use the keyword argument **skiprows** in the read_csv() function to get the dataframe. \n",
    "   - **pd.read_csv( )** reads 'comma separated variables' by default but this file is _whitespace_ delimited. _whitespace_ is either spaces or tabs.   The keyword argument **delim_whitespace=True** will split on white space.\n",
    "   \n"
   ]
  },
  {
   "cell_type": "code",
   "execution_count": 4,
   "metadata": {},
   "outputs": [
    {
     "name": "stdout",
     "output_type": "stream",
     "text": [
      "    AtomicNumber Symbol          Name         Solar        System\n",
      "0              1      H      hydrogen  2.800000e+04  2.800000e+04\n",
      "1              2     He        helium  2.700000e+03  2.700000e+03\n",
      "2              3     Li       lithium  4.000000e-07  5.700000e-05\n",
      "3              4     Be     beryllium  4.000000e-07  7.000000e-07\n",
      "4              5      B         boron  1.100000e-05  2.100000e-05\n",
      "..           ...    ...           ...           ...           ...\n",
      "89            90     Th       thorium  5.000000e-08  4.500000e-08\n",
      "90            91     Pa  protactinium           NaN           NaN\n",
      "91            92      U       uranium           NaN  1.800000e-08\n",
      "92            93     Np     neptunium           NaN           NaN\n",
      "93            94     Pu     plutonium           NaN           NaN\n",
      "\n",
      "[94 rows x 5 columns]\n"
     ]
    }
   ],
   "source": [
    "import pandas as pd\n",
    "\n",
    "E_M = pd.read_csv(\"./ElementalAbundances.txt\", delimiter=\"\\t\")\n",
    "T_A = "
   ]
  },
  {
   "cell_type": "markdown",
   "metadata": {},
   "source": [
    "### 2. Seismology, P-waves and S-waves (30%)\n",
    "\n",
    "The farther away an earthquake is from a receiver, the more time there is between the arrivals of the P and S waves.  This makes sense if you think about racing a little kid (who is on a tricycle) around a track.  The distance between you will just keep increasing as you run because the kid on the trike is slower (like the S wave). [Well, until you lap the little tyke.] \n",
    "\n",
    "You can use the difference between the arrival times of the two waves to calculate the distance to the earthquake source, if we know the velocities of the waves through the Earth.  So first we need to know how these two waves behave.  \n",
    "\n",
    "There are plenty of data on earthquakes and the arrival times of different waves. Here is a short video demonstration. \n",
    "\n",
    "https://www.iris.edu/hq/inclass/animation/traveltime_curves_how_they_are_created  \n",
    "\n",
    "- The data file is \"SP_DeltaTime.txt\", you have already done the dataframe loading part, do the following analysis based on the dataframe you've got;\n",
    "- Use the head() function to take a look at what datasets are included in the data frame. We see that the  columns of **DeltaTimeData**  are: \n",
    "    - \"Deg\": the degrees away from the source (the angle from the center of the Earth)\n",
    "    - \"M\": the time of the P wave arrival in minutes\n",
    "    - \"S\": the  P wave arrival in seconds\n",
    "    - \"M.1\": the difference in the P and S wave arrival time in  minutes and \n",
    "    - \"S.1\" is same interval in seconds.  \n",
    "- Change the column names to be \"Degrees\", \"P_wave_minutes\", \"P_wave_seconds\", \"S-P_minutes\", \"S-P_seconds\"\n",
    "- What we really want for calculating the seismology is the arrival time in **decimal minutes**, not  minutes and seconds as in this data file.  Now defining a new column called \"P_decimal_minutes\" by converting the seconds data to decimal minutes (divide by 60) and add that to the minutes. \n",
    "- Now create another new column called \"S-P_decimal_minutes\" using the \"S-P_minutes\" and \"S-P_seconds\"\n",
    "- Which one travels faster? Estimate the mean speed for the P-waves and S-waves\n",
    "- **[Extra Credit (10%)]** Calculate wave speeds of P-wave and S-wave as a function of time, make a separate plot to show it.\n"
   ]
  },
  {
   "cell_type": "markdown",
   "metadata": {},
   "source": [
    "### 3. GDP versus Life expectancy (40%)\n",
    "\n",
    "- Download the data file named \"life-expectancy-vs-gdp-per-capita.csv\" from Moodle, this is the whole dataset of life expectance versus GDP for all the countries over the world (year 1952 - 2021)\n",
    "- Load the data file into a Pandas data Frame using the read_csv() function\n",
    "- Clear your data sets by e.g., remove NaNs, remove the outliers in your dataset if necessary\n",
    "- Now make a similar bubble plot of GDP versus Life Exp for year **2015** (e.g., https://www.gapminder.org/tag/life-expectancy/) with all the continents, by setting the size of the bubbles using the population and the color of the bubbles based on the continent, using the following definitions: \n",
    "    - Asia and Oceania (red)\n",
    "    - Europe (yellow)\n",
    "    - Africa (cyan)\n",
    "    - North & South America (yellow)\n",
    "- Mark the countries \"China\" and \"India\" in your plot. Other country names are optional - depends on how busy your plots are\n",
    "- Hint: 1) take a look at the data file before analysis; and 2) you can use a **for**-loop to generate the bubble plot (or whatever way you prefer).\n",
    "- Generate a similar plot for year 1998 and 2018"
   ]
  }
 ],
 "metadata": {
  "kernelspec": {
   "display_name": "Python 3.7.1 ('bert_chinese')",
   "language": "python",
   "name": "python3"
  },
  "language_info": {
   "codemirror_mode": {
    "name": "ipython",
    "version": 3
   },
   "file_extension": ".py",
   "mimetype": "text/x-python",
   "name": "python",
   "nbconvert_exporter": "python",
   "pygments_lexer": "ipython3",
   "version": "3.7.1"
  },
  "vscode": {
   "interpreter": {
    "hash": "53212d6bd219dd71a1dd1974b202da0e24447591239b9cfd3b7797526bde5b81"
   }
  }
 },
 "nbformat": 4,
 "nbformat_minor": 2
}
