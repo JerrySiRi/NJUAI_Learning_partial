{
 "cells": [
  {
   "cell_type": "markdown",
   "metadata": {},
   "source": [
    "## Homework Assignment #1 & 2\n",
    "\n",
    "* Due on **Tuesday, Jan-30-2024**, before class (1 PM)\n",
    "* Late submission is not accepted (because solutions will be posted in Moodle)\n",
    "* Please comment your code and upload your ipynb file using the following dropbox link provided in Moodle "
   ]
  },
  {
   "cell_type": "markdown",
   "metadata": {},
   "source": [
    "### 1. Create a set from each of the three lists (20%)\n",
    "\n",
    "* Make another code block that creates three lists using the range( ) function with series of numbers starting with 1, ending in 100 (inclusive) increasing by 2, 3 and 4, respectively, and then:\n",
    "* Use the **intersection** method to find the elements in common between the three sets."
   ]
  },
  {
   "cell_type": "code",
   "execution_count": null,
   "metadata": {},
   "outputs": [
    {
     "name": "stdout",
     "output_type": "stream",
     "text": [
      "{1, 97, 37, 73, 13, 49, 85, 25, 61}\n"
     ]
    }
   ],
   "source": [
    "list_step_2 = list(range(1,101,2))\n",
    "list_step_3 = list(range(1,101,3))\n",
    "list_step_4 = list(range(1,101,4))\n",
    "\n",
    "result = set(list_step_2).intersection(set(list_step_3)).intersection(set(list_step_4))\n",
    "print(result)"
   ]
  },
  {
   "cell_type": "markdown",
   "metadata": {},
   "source": [
    "### 2. Step through a Python dictionary (40%)\n",
    "*  **Create a dictionary** named **planets**, with the terrestrial-planet names as the keys and the corresponding planet mass (in kg) as the values (HINT: Terrestrial planets include Mercury, Venus, Earth and Mars)\n",
    "* **Expand the dictionary** by adding the outer planets to the dictionary (HINT: Jupiter, Saturn, Uranus, Neptune)\n",
    "* Write a **for** loop to step through all the planets in your dictionary, and print out the mass of each planet, using the following format: \"*The planet X has mass Y kg.*\", *X* is the name of a planet and *Y* is the mass of that planet\n",
    "* Now using the **for** loop you've written, calculate the *Schwarzschild radius* ($R_s$) of each planet using their mass, following the equation $R_s = \\frac{2GM}{c^2}$, where $M$ is the mass of the planet, $G = 6.67408 \\times 10^{-11} m^3/kg\\cdot s^2$ is the gravitational constant, and $c = 3\\times 10^8$ m/s is the speed of light.\n",
    "* Write a code to find the **maximum** *Schwarzschild radius* of solar system planets.  \n",
    "\n",
    "You can find infomation about solar planets here: https://nssdc.gsfc.nasa.gov/planetary/factsheet/. In case you're interested in the idea behind a Schwarzschild radius, check out this: https://youtu.be/Q7E-KA-MYjc"
   ]
  },
  {
   "cell_type": "code",
   "execution_count": null,
   "metadata": {},
   "outputs": [
    {
     "name": "stdout",
     "output_type": "stream",
     "text": [
      "------task3------\n",
      "The planet Mercury    has mass 3.3e+23                       kg\n",
      "The planet Venus      has mass 4.87e+24                      kg\n",
      "The planet Earth      has mass 5.969999999999999e+24         kg\n",
      "The planet Mars       has mass 6.42e+23                      kg\n",
      "The planet Juptier    has mass 1898000000000000000000000000  kg\n",
      "The planet Saturn     has mass 568000000000000000000000000   kg\n",
      "The planet Uranus     has mass 8.68e+25                      kg\n",
      "The planet Neptune    has mass 102000000000000000000000000   kg\n",
      "\n",
      "\n",
      "------task4------\n",
      "{'Mercury': 0.0004894325333333334, 'Venus': 0.007222837688888887, 'Earth': 0.008854279466666663, 'Mars': 0.0009521687466666666, 'Juptier': 2.814978631111111, 'Saturn': 0.8424172088888887, 'Uranus': 0.12873558755555553, 'Neptune': 0.15127914666666667} \n",
      "\n",
      "------task5------\n",
      "The planet with maximum Schwarzschild radius is [Juptier], which has mass: [2.814978631111111kg]\n"
     ]
    }
   ],
   "source": [
    "constant = 10**24 # unit:10**24 (kg)\n",
    "# task 1: create dictionary\n",
    "planets = {'Mercury':0.330*constant, 'Venus':4.87*constant, 'Earth':5.97*constant, 'Mars':0.642*constant}\n",
    "\n",
    "# task 2: expand dictionary\n",
    "planets['Juptier'] = 1898*constant\n",
    "planets['Saturn'] = 568*constant\n",
    "planets['Uranus'] = 86.8*constant\n",
    "planets['Neptune'] = 102*constant\n",
    "\n",
    "# task 3: step through\n",
    "print(\"------task3------\")\n",
    "for (key,values) in planets.items():\n",
    "    print('The planet {0:<10} has mass {1:<30}kg'.format(key,values))\n",
    "print('\\n')\n",
    "\n",
    "# task 4: calculate Schwarzschild radius\n",
    "print(\"------task4------\")\n",
    "G = 6.67408*10**(-11)\n",
    "c = 3*10**8\n",
    "answer_dict = dict()\n",
    "for (key,values) in planets.items():\n",
    "    R = 2*G*values/(c*c)\n",
    "    answer_dict[key] = R\n",
    "print(answer_dict,'\\n')\n",
    "\n",
    "# task 5: find maximum\n",
    "print(\"------task5------\")\n",
    "answer_tuple = answer_dict.items()\n",
    "def stan_second(item):\n",
    "    return item[1]\n",
    "anser_list_sorted = list(sorted(list(answer_tuple),key=stan_second))\n",
    "print('The planet with maximum Schwarzschild radius is [{0}], which has mass: [{1}kg]'\n",
    "    .format(anser_list_sorted[len(answer_tuple)-1][0],anser_list_sorted[len(answer_tuple)-1][1]))\n",
    "\n",
    "\n",
    "\n",
    "\n",
    "\n",
    "\n"
   ]
  },
  {
   "cell_type": "markdown",
   "metadata": {},
   "source": [
    "### 3. Program control (20%)\n",
    "\n",
    "* Write a Python program (use a **for** loop with **if** statements) that print all the numbers between 0 to 10 **except** 3 and 7\n",
    "* Write a Python program (use a **for** loop with **if** statements, together with the **type** function) that prints the type of each elements from the following list named **datalist**, **except** for _booleans_ and _integers_:   \n",
    "\n",
    " **datalist** = [1, 22, 11.3, 1+2j, True, 'electrons', 3.14, 9, 25569, (0,-1),[5,8],{\"class\":\"V\",\"grade\":\"A\"}]"
   ]
  },
  {
   "cell_type": "code",
   "execution_count": null,
   "metadata": {},
   "outputs": [
    {
     "name": "stdout",
     "output_type": "stream",
     "text": [
      "------task 1------\n",
      "0\n",
      "1\n",
      "2\n",
      "3\n",
      "4\n",
      "5\n",
      "6\n",
      "8\n",
      "9\n",
      "10\n",
      "\n",
      "\n",
      "------task 2------\n",
      "11.3                           in datalist, type: <class 'float'>\n",
      "(1+2j)                         in datalist, type: <class 'complex'>\n",
      "True                           in datalist, type: <class 'bool'>\n",
      "electrons                      in datalist, type: <class 'str'>\n",
      "3.14                           in datalist, type: <class 'float'>\n",
      "(0, -1)                        in datalist, type: <class 'tuple'>\n",
      "[5, 8]                         in datalist, type: <class 'list'>\n",
      "{'class': 'V', 'grade': 'A'}   in datalist, type: <class 'dict'>\n"
     ]
    }
   ],
   "source": [
    "print(\"------task 1------\")\n",
    "for item in range(0,11): # 10 is inclued\n",
    "    if item != (3 and 7):\n",
    "        # 【attention】need brackets to judge 2 conditions at the same time!!!\n",
    "        print(item)\n",
    "\n",
    "print('\\n')\n",
    "print(\"------task 2------\")\n",
    "datalist = [1, 22, 11.3, 1+2j, True, 'electrons', 3.14, 9, 25569, (0,-1),[5,8],{\"class\":\"V\",\"grade\":\"A\"}]\n",
    "for item in datalist:\n",
    "    if type(item)!= (bool and int):\n",
    "        print('{0:<30} in datalist, type: {1:<10}'.format(str(item), str(type(item))))\n"
   ]
  },
  {
   "cell_type": "markdown",
   "metadata": {},
   "source": [
    "### 4. Generate a dictionary (10%)\n",
    "\n",
    "Use Python to generate a dictionary where the keys are numbers between 1 and 25 (both included) and the values are string variables that equals to the square of the keys (i.e., use the **str()** function to convert integers to strings). For example, the dictionary should look like: \n",
    "\n",
    "example_dict = {1: '1', 2: '4', 3: '9', 4: '16', 5: '25' ... }\n",
    "\n",
    "Print out your dictionary"
   ]
  },
  {
   "cell_type": "code",
   "execution_count": null,
   "metadata": {},
   "outputs": [
    {
     "name": "stdout",
     "output_type": "stream",
     "text": [
      "{1: '1', 2: '4', 3: '9', 4: '16', 5: '25', 6: '36', 7: '49', 8: '64', 9: '81', 10: '100', 11: '121', 12: '144', 13: '169', 14: '196', 15: '225', 16: '256', 17: '289', 18: '324', 19: '361', 20: '400', 21: '441', 22: '484', 23: '529', 24: '576', 25: '625'}\n"
     ]
    }
   ],
   "source": [
    "answer_dict = dict()\n",
    "for item in range(1,26):\n",
    "    answer_dict[item] = str(item**2)\n",
    "print(answer_dict)"
   ]
  },
  {
   "cell_type": "markdown",
   "metadata": {},
   "source": [
    "### 5. Use a for-loop or while-loop to generate a series of file names (strings) using the following naming convention: (10%)\n",
    "- mhd5shell_0.png\n",
    "- mhd5shell_1.png\n",
    "- mhd5shell_2.png\n",
    "- ......\n",
    "- mhd5shell_24.png"
   ]
  },
  {
   "cell_type": "code",
   "execution_count": null,
   "metadata": {},
   "outputs": [
    {
     "name": "stdout",
     "output_type": "stream",
     "text": [
      "mhd5shell_0.png\n",
      "mhd5shell_1.png\n",
      "mhd5shell_2.png\n",
      "mhd5shell_3.png\n",
      "mhd5shell_4.png\n",
      "mhd5shell_5.png\n",
      "mhd5shell_6.png\n",
      "mhd5shell_7.png\n",
      "mhd5shell_8.png\n",
      "mhd5shell_9.png\n",
      "mhd5shell_10.png\n",
      "mhd5shell_11.png\n",
      "mhd5shell_12.png\n",
      "mhd5shell_13.png\n",
      "mhd5shell_14.png\n",
      "mhd5shell_15.png\n",
      "mhd5shell_16.png\n",
      "mhd5shell_17.png\n",
      "mhd5shell_18.png\n",
      "mhd5shell_19.png\n",
      "mhd5shell_20.png\n",
      "mhd5shell_21.png\n",
      "mhd5shell_22.png\n",
      "mhd5shell_23.png\n",
      "mhd5shell_24.png\n"
     ]
    }
   ],
   "source": [
    "for item in range(0,25):\n",
    "    print(\"mhd5shell_{0}.png\".format(item))"
   ]
  },
  {
   "cell_type": "markdown",
   "metadata": {},
   "source": [
    "### 6. Functions  working with numbers (20%)\n",
    "\n",
    "* **Write a Python function** using the **for**-loop to calculate the sum of the Basel series:\n",
    "$f(n)=\\sum^n_1\\frac{1}{n^2}=\\frac{1}{1^2}+\\frac{1}{2^2}+\\frac{1}{3^2}+...+\\frac{1}{n^2}$\n",
    "* calculate $f(10)$, $f(100)$ and $f(1000)$\n",
    "* show that when $n$ becomes very large, $f(n)\\approx \\pi^2/6$"
   ]
  },
  {
   "cell_type": "code",
   "execution_count": 132,
   "metadata": {},
   "outputs": [
    {
     "name": "stdout",
     "output_type": "stream",
     "text": [
      "test 1, f(10) is 1.5497677311665408\n",
      "test 2, f(100) is 1.6349839001848923\n",
      "test 3, f(1000) is 1.6439345666815615\n"
     ]
    },
    {
     "ename": "KeyboardInterrupt",
     "evalue": "",
     "output_type": "error",
     "traceback": [
      "\u001b[1;31m---------------------------------------------------------------------------\u001b[0m",
      "\u001b[1;31mKeyboardInterrupt\u001b[0m                         Traceback (most recent call last)",
      "\u001b[1;32m~\\AppData\\Local\\Temp\\ipykernel_18308\\1698341729.py\u001b[0m in \u001b[0;36m<module>\u001b[1;34m\u001b[0m\n\u001b[0;32m     15\u001b[0m \u001b[1;32mwhile\u001b[0m\u001b[1;33m(\u001b[0m\u001b[0mabs\u001b[0m\u001b[1;33m(\u001b[0m\u001b[0msum\u001b[0m\u001b[1;33m-\u001b[0m\u001b[0mconstant_pi\u001b[0m\u001b[1;33m)\u001b[0m\u001b[1;33m>=\u001b[0m\u001b[0mepsilon\u001b[0m\u001b[1;33m)\u001b[0m\u001b[1;33m:\u001b[0m\u001b[1;33m\u001b[0m\u001b[1;33m\u001b[0m\u001b[0m\n\u001b[0;32m     16\u001b[0m     \u001b[0mn\u001b[0m \u001b[1;33m+=\u001b[0m \u001b[1;36m1\u001b[0m\u001b[1;33m\u001b[0m\u001b[1;33m\u001b[0m\u001b[0m\n\u001b[1;32m---> 17\u001b[1;33m     \u001b[0msum\u001b[0m \u001b[1;33m+=\u001b[0m \u001b[1;36m1\u001b[0m\u001b[1;33m/\u001b[0m\u001b[0mn\u001b[0m\u001b[1;33m**\u001b[0m\u001b[1;36m2\u001b[0m\u001b[1;33m\u001b[0m\u001b[1;33m\u001b[0m\u001b[0m\n\u001b[0m\u001b[0;32m     18\u001b[0m \u001b[1;33m\u001b[0m\u001b[0m\n\u001b[0;32m     19\u001b[0m \u001b[0mprint\u001b[0m\u001b[1;33m(\u001b[0m\u001b[1;34m\"when n={0}, f(n)->pi^2/6 with error below 10^(-8)\"\u001b[0m\u001b[1;33m.\u001b[0m\u001b[0mformat\u001b[0m\u001b[1;33m(\u001b[0m\u001b[0mn\u001b[0m\u001b[1;33m)\u001b[0m\u001b[1;33m)\u001b[0m\u001b[1;33m\u001b[0m\u001b[1;33m\u001b[0m\u001b[0m\n",
      "\u001b[1;31mKeyboardInterrupt\u001b[0m: "
     ]
    }
   ],
   "source": [
    "import math\n",
    "def Basel_series(n):\n",
    "    sum = 0\n",
    "    for item in range(1,n+1):\n",
    "        sum += 1/(item**2)\n",
    "    return sum\n",
    "print(\"test 1, f(10) is\",Basel_series(10))\n",
    "print(\"test 2, f(100) is\",Basel_series(100))\n",
    "print(\"test 3, f(1000) is\",Basel_series(1000))\n",
    "\n",
    "epsilon = 10**(-8)\n",
    "sum = 0\n",
    "constant_pi = math.pi**2/6\n",
    "n = 0\n",
    "while(abs(sum-constant_pi)>=epsilon):\n",
    "    n += 1\n",
    "    sum += 1/n**2\n",
    "    \n",
    "print(\"when n={0}, f(n)->pi^2/6 with error below 10^(-8)\".format(n))"
   ]
  },
  {
   "cell_type": "markdown",
   "metadata": {},
   "source": [
    "### 7. Find Perfect Numbers (30%)\n",
    "\n",
    "* **Write a Python function** to return all the divisors of an integer, output the divisors to a list.  For exmaple, the number 8 has four divisors: 1,2,4,8, you can store all the divisors to a list. (HINT: use the % operator to decide whether an integer is a divisor of a given number)\n",
    "* **Write another Python function** to return the sum of a given list of numbers\n",
    "* Then **Write a main() program** to print all the numbers within 1000 whose sum of divisors (including 1 but excluding itself) equal to the number itself\n",
    "* That's called a *perfect* number\n",
    "\n",
    "For example, the integer 6 has three divisors: [1, 2, 3], the sum of the divisors is 1 + 2 + 3 = 6, which makes 6 a perfect number! Find all the perfect numbers less than 10000"
   ]
  },
  {
   "cell_type": "code",
   "execution_count": null,
   "metadata": {},
   "outputs": [
    {
     "name": "stdout",
     "output_type": "stream",
     "text": [
      "------task 1------\n",
      "test 1,divisor of 36, answer = [1, 2, 3, 4, 6, 9, 12, 18, 36]\n",
      "test 2,divisor of 48, answer = [1, 2, 3, 4, 6, 8, 12, 16, 24, 48]\n",
      "test 3,divisor of 64, answer = [1, 2, 4, 8, 16, 32, 64]\n",
      "\n",
      "\n",
      "------task 2------\n",
      "test 1,add_up [1,2,3,4,5], answer = 15\n",
      "\n",
      "\n",
      "------task 3------\n",
      "test 1,perfect number below 1000, answer = [1, 6, 28, 496]\n",
      "test 2,perfect number below 10000, answer = [1, 6, 28, 496, 8128]\n",
      "tip: Due to the defination, the answer might be tricky at number 1\n"
     ]
    }
   ],
   "source": [
    "import math\n",
    "import numpy as np\n",
    "\n",
    "# task 1: find all the divisors of an integer\n",
    "def divisor(n):\n",
    "    answer_list = []\n",
    "    for item in range(1,int(math.sqrt(n))+1):\n",
    "        if n % item == 0:\n",
    "            answer_list.append(item)\n",
    "            if item != int(n/item):\n",
    "                answer_list.append(int(n/item))\n",
    "    answer_list.sort()\n",
    "    return answer_list\n",
    "\n",
    "# task 2: sum of a given list of numbers\n",
    "def add_up(*args):\n",
    "    sum = 0\n",
    "    for item in args:\n",
    "        sum += item\n",
    "    return sum\n",
    "\n",
    "# task 3: find perfect number in range(1,n+1)\n",
    "def perfect_number(n):\n",
    "    answer_list = [1]\n",
    "    for item in range(2,n+1):\n",
    "        item_dis = divisor(item)\n",
    "        #print(sum(item_dis))\n",
    "        if item == np.sum(item_dis)-item:\n",
    "            answer_list.append(item)\n",
    "    return answer_list\n",
    "    \n",
    "\n",
    "\n",
    "def main():\n",
    "    print(\"------task 1------\")\n",
    "    print(\"test 1,divisor of 36, answer =\",divisor(36)) # task 1 \n",
    "    print(\"test 2,divisor of 48, answer =\",divisor(48))\n",
    "    print(\"test 3,divisor of 64, answer =\",divisor(64))\n",
    "    print('\\n')\n",
    "\n",
    "    print(\"------task 2------\")\n",
    "    print(\"test 1,add_up [1,2,3,4,5], answer =\", add_up(1,2,3,4,5)) # task 2\n",
    "    print('\\n')\n",
    "\n",
    "    print(\"------task 3------\")\n",
    "    print(\"test 1,perfect number below 1000, answer =\",perfect_number(1000)) # task 3\n",
    "    print(\"test 2,perfect number below 10000, answer =\",perfect_number(10000))\n",
    "    print(\"tip: Due to the defination, the answer might be tricky at number 1\")\n",
    "    \n",
    "\n",
    "main()\n",
    "\n",
    "    \n",
    "    \n",
    "\n",
    "\n",
    "\n",
    "\n",
    "\n"
   ]
  },
  {
   "cell_type": "markdown",
   "metadata": {},
   "source": [
    "### [Extra Credit] Fermat's last theorem (20%) \n",
    "\n",
    " - write a function to compute the solutions (x,y) to the equation $x^2+y^2 = N$, where x,  y, N are positive **integers**. \n",
    " - the input of the function should be N, and the output of the function should be a list of [x, y]. [hint]: you may think about use nested for-loops to go through integers x and y (e.g., 0<x<N, 0<y<N) respectively.\n",
    " - Test your function to see if the results are correct, print out the results. e.g., call the function Fermat(666) and you should get [15, 21] as the solutions for x and y.\n"
   ]
  },
  {
   "cell_type": "code",
   "execution_count": null,
   "metadata": {},
   "outputs": [
    {
     "name": "stdout",
     "output_type": "stream",
     "text": [
      "assumption: x < y (avoid repeated answer of (x,y) and (y,x) )\n",
      "test 1, N=666. answer =  [[15, 21]]\n",
      "test 2, N=85. answer =  [[6, 7]]\n",
      "test 3, N=461. answer =  [[10, 19]]\n"
     ]
    }
   ],
   "source": [
    "\n",
    "import math\n",
    "def Fermat(N):\n",
    "    answer_list = []\n",
    "    for x in range(0,int(math.sqrt(N))):\n",
    "        for y in range(x,int(math.sqrt(N))):\n",
    "            if x**2+y**2 == N:\n",
    "                answer_list.append([x,y])\n",
    "    return answer_list\n",
    "\n",
    "print(\"assumption: x < y (avoid repeated answer of (x,y) and (y,x) )\")\n",
    "print(\"test 1, N=666. answer = \", Fermat(666))\n",
    "print(\"test 2, N=85. answer = \", Fermat(85))\n",
    "print(\"test 3, N=461. answer = \", Fermat(461))\n",
    "\n",
    "\n",
    "\n",
    "\n",
    "\n",
    "\n"
   ]
  }
 ],
 "metadata": {
  "kernelspec": {
   "display_name": "Python 3.7.1 ('com_torch')",
   "language": "python",
   "name": "python3"
  },
  "language_info": {
   "codemirror_mode": {
    "name": "ipython",
    "version": 3
   },
   "file_extension": ".py",
   "mimetype": "text/x-python",
   "name": "python",
   "nbconvert_exporter": "python",
   "pygments_lexer": "ipython3",
   "version": "3.7.1"
  },
  "vscode": {
   "interpreter": {
    "hash": "2af8302a16cf6ed8ea0b8ddec60eac960f581ee85f49e07f3f8a491c7fcd9fb4"
   }
  }
 },
 "nbformat": 4,
 "nbformat_minor": 2
}
