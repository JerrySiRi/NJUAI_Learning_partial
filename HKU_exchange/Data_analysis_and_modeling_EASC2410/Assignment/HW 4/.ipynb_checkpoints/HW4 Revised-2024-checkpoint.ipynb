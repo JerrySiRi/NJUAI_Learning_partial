{
 "cells": [
  {
   "cell_type": "markdown",
   "id": "c55be989",
   "metadata": {},
   "source": [
    "# HW 4\n",
    "\n",
    "* Due on **Feb-20,2024** before class\n",
    "* Please comment your code and upload the Jupyter notebook file to the dropbox link given in Moodle\n",
    "* Q&A: Teams or Email (binzh@hku.hk), Katie (u3007888@connect.hku.hk), Fenn (fleppard@connect.hku.hk)"
   ]
  },
  {
   "cell_type": "markdown",
   "id": "d8e333f3",
   "metadata": {},
   "source": [
    "### 1. Airline Routes (20%)\n",
    "* Create a map of the world using **Cartopy** with the **PlateCarree** projection.\n",
    "* Add longitude and latitude grid lines to your map\n",
    "* Fill your map with colours (of your choice) using the **feature** attribute of cartopy\n",
    "* Draw country borders, and label three countries \"United States\", \"Argentina\", and \"China\" using the plt.text() function.\n",
    "* Mark Hong Kong, Buenos Aires and Los Angeles on your map and label them.\n",
    "* Draw 2 great cirlces, one connecting Hong Kong to Los Angeles, and one connecting Hong Kong to Buenos Aires.\n",
    "* Calculate the distance between Hong Kong and Buenos Aires/Los Angeles using the great_circle() function given below.\n",
    "* Annotate the distance on both of your plotted great circles using the function provided below:"
   ]
  },
  {
   "cell_type": "code",
   "execution_count": 1,
   "id": "95e11d0c",
   "metadata": {},
   "outputs": [],
   "source": [
    "def great_circle(lat_1,lon_1,lat_2,lon_2):\n",
    "    \"\"\"\n",
    "    This code calculates the distance between two spatial points on the Earth\n",
    "    INPUT: Point #1 (lat_1, lon_1) and Point #2 (lat_2, lon_2) in degrees\n",
    "    OUTPUT: Distance in km\n",
    "    Algorithm: Simple 3-D geometry calculation assuming the Earth is a perfect sphere\n",
    "    \"\"\"\n",
    "    # first we have to convert the latitudes to colatitudes:\n",
    "    colat_1,colat_2=90.-lat_1,90.-lat_2\n",
    "    # and alpha is the difference betwee the two longitudes\n",
    "    alpha=lon_2-lon_1\n",
    "    # Then lets make life easy on us and convert degrees to radians\n",
    "    colat_1,colat_2,alpha= np.radians(colat_1),np.radians(colat_2),np.radians(alpha)# continued line from above\n",
    "    # from spherical trig we know that:\n",
    "    cosa=np.cos(colat_1)*np.cos(colat_2)+np.sin(colat_1)*np.sin(colat_2)*np.cos(alpha)\n",
    "    # solve for a\n",
    "    a=np.arccos(cosa)# take the arc cosine of cosa\n",
    "    # remember to convert back to degrees!  \n",
    "    distance = a*6380 # distance in km\n",
    "    return distance"
   ]
  },
  {
   "cell_type": "markdown",
   "id": "d7fc0430",
   "metadata": {},
   "source": [
    "### 2. Recent Volcanic Eruptions (20%)\n",
    "\n",
    "* Download the data file \"recent_eruptions.txt\" and save it to your current directory where your .ipynb file is. This file contains information about all confirmed volcanic eruptions fron Jan 1st 2020 til Dec 31st 2022.\n",
    "* Load the data into python as stings using numpy **genfromtxt()**, the values are separated using Tab so you need to specify the delimiter as **\"\\t\"** and skip the first row using **skip_header=1** as this row contains the column headers. \n",
    "* Each row represents one eruption; the column data goes as \"Volcano Number\", \"Volcano Name\", \"Eruption Year\", \"Eruption Month\", \"Latitude\", \"Longitude\", \"VEI\".\n",
    "* **Produce a histogram** showing the distribution of earthquakes' VEI (Volcanic Explosivity Index). The higher the VEI the more explosive the eruption is. https://en.wikipedia.org/wiki/Volcanic_explosivity_index\n",
    "* Make a global map centered on the pacific ocean using **Cartopy with the PlateCarree projection**. colour the continents \"grey\" (i.e., use color = 'grey') and set the alpha kewward equals to 0.2 (i.e., alpha = 0.2 in the ax.add_feature() function)\n",
    "* Show the locations of volcanic eruptions on a global mapusing a global scale projection (your choice) using a scatter (or bubble) plot.\n",
    "* Set the size of the bubbles based on how recent the eruption is. The most recent eruptions should be large and the oldest the smallest.\n",
    "* Set the colour of the eruptions based on their VEI with the following rule: Black (VEI = 5), Red (VEI = 4), Orange (VEI = 3), Yellow (VEI = 2), Green (VEI = 1) and Blue (VEI = 0).\n",
    "* Label your figure properly and include a legend (ie. use the plt.legend() function)."
   ]
  },
  {
   "cell_type": "markdown",
   "id": "bc60cbba",
   "metadata": {},
   "source": [
    "### 3. Monthly Rainfall in China (30%)\n",
    "\n",
    "* import the **cartopy.io.shapereader** package\n",
    "* download the folder \"China Data\", this folder contains many files which describe the shapes of the regions in China.\n",
    "* create a variable and use the list() function to make a list from the downloaded data. Use the shapereader.Reader(\"filepath\").geometries() in the list function.\n",
    "* For the file path, start with the file called **gadm41_CHN_1.shp**.\n",
    "\n",
    "* Create a cartopy plot with a coastline resolution of 50m on a projection of your choice. Limit the plot using set_extent() to only show china and plot the variable you previously created.\n",
    "* You should produce a plot with the regional borders shown only in China. Try changing the number at the end of the .shp file (0,1,2,3) to see the different plots you can create.\n",
    "\n",
    "Plotting the monthly rainfall for July 2017:\n",
    "\n",
    "* Next download the china_rainfall.txt file and import it using genfromtxt() fron numpy. The delimiter in this data is tab (\"\\t\") and skip the header using skip_header=1.\n",
    "* This data has 4 columns: Region Name, Monthly Rainfall, Longitude, Latitude.\n",
    "* Produce a bubble plot with a bubble whos size corresponds to the amount of rainfall and is positioned over each region using the corresponding longitudes and latitudes.\n",
    "* Make sure your plot is well presented, has lon and lat gridlines and a title.\n",
    "\n",
    "* Find out which regions had the highest and lowest rainfalls in July 2017 and print the results (HINT: use np.where() to find the index of the region with the highets/lowest rainfall)"
   ]
  },
  {
   "cell_type": "markdown",
   "id": "cb907cdf",
   "metadata": {},
   "source": [
    "### 4. Typhoon Mangkhut (30%)\n",
    "\n",
    "* Download the data file \"mangkhut.txt\" to your current folder\n",
    "* Load the data file into Python using: the genfromtxt() function, using \"\\t\"(Tab) as the delimiter, and skip the first row (headers)\n",
    "* The column data goes as \"year\" \"month\" \"day\" \"hour\" \"latitude\" \"longitude\" \"pressure\" \"wind speed\" \"class\"\n",
    "* Plot both the pressure and wind speed as a function of **the lifetime** of the Typhoon (e.g., in hours) in the same figure, with two different y-axis. (Hint: use the \"day\" and \"hour\" information to construct a new array called \"lifetime\", which is basically the age of the Typhoon in hours)\n",
    "* Visualize the relationship between wind speed and pressure using a scatter plot. What do you get? Can you explain it?\n",
    "* Make a bubble plot to show the track of Hurrican Mangkhut, set the size of your bubbles to be the class of the Typhoon (you may need to scale it) and the color of the bubbles based on the speed of the Typhoon follow the rules: Red (speed>=100), Orange (60<=speed<100), Yellow (30<=speed<60), Green (otherwise)\n",
    "* Put on a local map with country boundaries (you may use the '50m' resolution in the .coastline() function) together with your Typhoon track, choose appropriate map boundaries to make sure the track of Mangkhut is highlighted in the center of your map. \n",
    "* What happened to the wind speed near the Luzon islands?\n",
    "* Calculate the **total distance** (in km) that Typhoon Mangkhut traveled and estimate the **average speed** of the center of the typhoon (Hint: break the Typhoon track into pieces and sum over all the great-circle distance, use the function given in Prob. 1)"
   ]
  },
  {
   "cell_type": "markdown",
   "id": "9e6845a3",
   "metadata": {},
   "source": [
    "### [Extra Credit] Atalantic Hurricanes in 2021 (30%)\n",
    "\n",
    "* This problem requires additional thinking/skills, since you're going to process multiple files of all the Atalantic hurricanes in 2020 (31 .csv files in this case);\n",
    "* Download the data folder \"AL2020\" from Moodle and save to your current folder (put in in the same directory as your jupyter notebook file); Each csv file contains the track information of a hurricane, including:\n",
    "    - 'Name','Year_','Month', 'Day', 'date_time','Latitude', 'Longitude', 'Maximum_sustained_wind_in_knots', 'Minimum_Pressure_in_millibars'\n",
    "    - the seperator is tab (\\t)\n",
    "* Try the following analysis (10% each):\n",
    "    1. Plot all the Atalantic Hurricane tracks in a map projection (your choice)\n",
    "    2. Use all the hurricane track data, plot the relationship between maximum wind speed and minimum pressure, what do you find?\n",
    "    3. Which hurricane traveled the most in terms of total distance during its lifetime? (you may consider using the code you've developed in Prob. 5)"
   ]
  }
 ],
 "metadata": {
  "kernelspec": {
   "display_name": "Python 3 (ipykernel)",
   "language": "python",
   "name": "python3"
  },
  "language_info": {
   "codemirror_mode": {
    "name": "ipython",
    "version": 3
   },
   "file_extension": ".py",
   "mimetype": "text/x-python",
   "name": "python",
   "nbconvert_exporter": "python",
   "pygments_lexer": "ipython3",
   "version": "3.11.4"
  }
 },
 "nbformat": 4,
 "nbformat_minor": 5
}
