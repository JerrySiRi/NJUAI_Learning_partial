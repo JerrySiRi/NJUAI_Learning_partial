{
 "cells": [
  {
   "cell_type": "markdown",
   "metadata": {},
   "source": [
    "## Homework #8\n",
    "\n",
    "* Due on **Tuesday, April-9-2024**, before class (1pm)\n",
    "* Please comment your code and upload the Jupyter notebook to the dropbox link provided in Moodle\n",
    "* Q&A: Team or email\n"
   ]
  },
  {
   "cell_type": "markdown",
   "metadata": {},
   "source": [
    "### Earth's orbit - pacemaker of the Ice Ages\n",
    "\n",
    "In Lecture 16 and the corresponding in-class practice, we have looked at the time series of insulation for three key parameters of the earth orbit: the _eccentricity_ (or ovalness of the orbit around the sun), the _obliquity_ (tilt) of the spin axis and the _precession_ of the spin axis.  You've also tried generate periodograms in order to find the characteristic frequencies for the three parameters - and you did find interesting frequencies in the periodograms, they are also known as \"modes\".\n",
    "\n",
    "But how do we relate these modes to the variations in ice ages?  Glaciers tend to over-ride the evidence of their older siblings, so how do we know the timing and extent of past glaciations?  The answer is marine fossils. Marine fossils, like formainifera, are made of calcium carbonate and retain a record of the oxygen isotopic ratios of the sea water in which they live.  And \"So?\", you say.  What does that have to do with ice volume?   Here is the answer in a nutshell: \n",
    "- There are several isotopes of oxygen, two of which are fairly common $^{18}$O and $^{16}$O.  \n",
    "- During evaporation, the lighter isotope is preferentially removed, leaving the water body enriched in the heavier isotope.  When the water condenses, the process is reversed- the heavier isotope is preferentially removed- so nothing should happen over time, right?  What goes up must come down.  But it isn't so simple.  \n",
    "- Evaporation occurs mostly in the tropics (due to the temperature) and then the clouds move north raining and snowing out as they go.  This process results in an enrichment of the light oxygen isotopes in the snow and an enrichment of the heavier isotope in the sea water. This process is called _Rayleigh distillation_. The ratio of the two isotopes is a proxy of the volume of ice.  \n",
    "\n",
    "We will need a measure of the isotopic ratios in foraminifera recovered from deep sea sediment cores and their DATES. The latter was done using magnetic stratigraphy (see, e.g., Shackleton and Opdyke, 1973, Quaternary Research, 3, 39-55, https://doi.org/10.1016/0033-5894(73)90052-5). A modern version of these data was published by Lisecki and Raymo (2005) called the LR04 stack.  This is a stack of 58 records of oxygen isotopic variations, several of which were independently dated using magnetostratigraphy, from all over the world's oceans. The data are cast as $\\delta ^{18}O$, defined as: \n",
    "\n",
    "$$\\delta ^{{18}}O={\\Biggl (}{\\frac  {{\\bigl (}{\\frac  {^{{18}}O}{^{{16}}O}}{\\bigr )}_{{sample}}}{{\\bigl (}{\\frac  {^{{18}}O}{^{{16}}O}}{\\bigr )}_{{standard}}}}-1{\\Biggr )}*1000\\ ^{{o}}\\!/\\!_{{oo}}$$\n",
    "\n",
    "Let's consider only the last million years for the following analysis on the pace maker of the Earth's ice ages. Here we go:\n",
    "\n",
    "- use the \"INSOLN.LA2004.BTL.100.csv\" dataset you've played in in-class practice, consider only the last million years (Age<1000 ka), find out the leading periodicities (modes) in _eccentricity_, _obliquity_ and _precession_ of the Earth's orbit (in ka). NOTE: each orbital data may have more than one mode.\n",
    "- use the \"LR04stack.csv\" data, plot the \"d18O\" column (which is calculated using the above equation) up for the last million years.\n",
    "- use a moving average method to remove variations faster than 5 ka in the d18O data, plot the smoothed d18O in a new figure. This is also called \"massage the data\". What happened to the \"d18O\" data after you \"massaged\" it? Why?\n",
    "- generate a periodograms for the smoothed time series of d18O you've just created. **NOTE**: remove any \"nan\" in your smoothed column data before using the periodogram( ) function\n",
    "- in the periodogram of d18O you've generated, label the frequency modes in Eccentricity, Obliquity and Precession you've found in the insulation data using **verticle lines**. You need to adjust your figure scale and axis limit etc. in order to highlight the frequency components that are physically meaningful\n",
    "- label your figure with a title and a legend\n",
    "- conclude you findings (this is 10% of the total grade)."
   ]
  }
 ],
 "metadata": {
  "kernelspec": {
   "display_name": "Python 3 (ipykernel)",
   "language": "python",
   "name": "python3"
  },
  "language_info": {
   "codemirror_mode": {
    "name": "ipython",
    "version": 3
   },
   "file_extension": ".py",
   "mimetype": "text/x-python",
   "name": "python",
   "nbconvert_exporter": "python",
   "pygments_lexer": "ipython3",
   "version": "3.9.12"
  }
 },
 "nbformat": 4,
 "nbformat_minor": 2
}
