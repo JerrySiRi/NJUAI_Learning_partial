{
 "cells": [
  {
   "cell_type": "markdown",
   "metadata": {},
   "source": [
    "## In-class practice for Lecture 16\n",
    "\n",
    "* SEIR model for pandemics\n",
    "* try develop an SEIR model based on the examples discussed in the lecture notes\n",
    "* work on the exercises class after the lecture"
   ]
  },
  {
   "cell_type": "markdown",
   "metadata": {},
   "source": [
    "### The S-E-I-R Model for Infectious Disease\n",
    "\n",
    "The S-E-I-R model of epidemics has four populations:\n",
    "\n",
    "- S[n]: Susceptible, which means anyone in the gould could be exposed to the virus\n",
    "- E[n]: exposed, which means people get exposed but no symptoms yet (incubation)\n",
    "- I[n]: infected, which is the group of people who's already ill \n",
    "- R[n]: removed, which denotes people recovered from the illness and immuned (removed from all the populations)\n",
    "\n",
    "The parameters used in an S-E-I-R model include:\n",
    "\n",
    "- $\\lambda$: contact rate, which creates newly exposed through $\\lambda\\cdot I \\cdot S$\n",
    "- $\\sigma$: incubation rate, which creates new infection through $\\sigma\\cdot E$ and equals $1/T_{inc}$, where $T_{inc}$ is the incubation period\n",
    "- $\\gamma$: recovered rate, which removes $\\gamma\\cdot I$ from the infected population\n",
    "\n",
    "#### a) Based on the discussions of the S-I-R model in the lecture notes, now extend the model to S-E-I-R by introducing a new population $E[n]$ with the parameter new $\\sigma$. First write down the reccurence relation for S, E, I and R;\n",
    "\n",
    "#### b) Show that the total number of population in the S-E-I-R model does not change with time, e.g., S+E+I+R = constant;\n",
    "\n",
    "#### c) Implement the S-E-I-R model using Python, and plot the S, E, I and R curves as a function of time (days) using the following two sets of parameters:\n",
    "- $\\lambda = 0.5$, $\\gamma = 0.08$, $T_{inc} = 4$ ($\\sigma = 1/T_{inc}$);\n",
    "- $\\lambda = 0.15$, $\\gamma = 0.22$, $T_{inc} = 12$ ($\\sigma = 1/T_{inc}$);\n",
    "\n",
    "Visualize the results and describe the difference you find in the model results.\n",
    "\n",
    "#### [Optional] d) Show the relationship between the incubation period $T_{inc}$ and the peak value of the infection curve $I[n]$, given $\\lambda = 0.5$, $\\gamma = 0.08$, e.g., you're generating a plot with $T_{inc}$ as the horizontal axis and peak value of $I[n]$ as the vertical axis."
   ]
  }
 ],
 "metadata": {
  "kernelspec": {
   "display_name": "Python 3 (ipykernel)",
   "language": "python",
   "name": "python3"
  },
  "language_info": {
   "codemirror_mode": {
    "name": "ipython",
    "version": 3
   },
   "file_extension": ".py",
   "mimetype": "text/x-python",
   "name": "python",
   "nbconvert_exporter": "python",
   "pygments_lexer": "ipython3",
   "version": "3.9.12"
  }
 },
 "nbformat": 4,
 "nbformat_minor": 2
}
