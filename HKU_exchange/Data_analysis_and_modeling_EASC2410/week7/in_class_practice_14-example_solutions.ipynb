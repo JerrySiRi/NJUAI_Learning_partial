{
 "cells": [
  {
   "cell_type": "markdown",
   "metadata": {},
   "source": [
    "## In-class practice for Lecture 14\n",
    "\n",
    "* Statistics basics: Distributions of data sets using histograms\n",
    "* New Python tricks: seaborn and scipy.stats\n",
    "* Answer each question using Python codes in a separate cell\n",
    "\n",
    "### 1.  Histograms for distributions\n",
    "\n",
    "Download the datafile named \"gradedata.xlsx\" from Moodle\n",
    "\n",
    "- load the excel file as a Pandas data frame, take a look at the data frame (know exactly what column data you have!)\n",
    "- use the describe() function to get the mean and standard deviation of the grade data. What's the median value?\n",
    "- Can you use the describe() function to find out the grade that is 80% of the maximum? (figure it out yourself)\n",
    "- use **matplotlib** to generate a histogram of all the grades\n",
    "- separate the histogram of the grades into two, filtering by: \"male\" and \"female\", plot the two histograms in the same plot \n",
    "- are there any gender differences evident in the grade data?\n",
    "- Test the whether grade distributions are Normal or not using the **normaltest()** function from **scipy.stats**\n",
    "- now, cut the dataset into four subgroups by hours of work (0-25%, 25-50%, 50-75%, 75-100%), and make four histograms to show your results. Is it better to squeeze all the groups in one plot or separate them? "
   ]
  },
  {
   "cell_type": "code",
   "execution_count": 25,
   "metadata": {},
   "outputs": [
    {
     "name": "stdout",
     "output_type": "stream",
     "text": [
      "     fname     lname  gender  age  exercise  hours  grade  \\\n",
      "0   Marcia      Pugh  female   17         3     10   82.4   \n",
      "1   Kadeem  Morrison    male   18         4      4   78.2   \n",
      "2     Nash    Powell    male   18         5      9   79.3   \n",
      "3  Noelani    Wagner  female   14         2      7   83.2   \n",
      "4  Noelani    Cherry  female   18         4     15   87.4   \n",
      "\n",
      "                                      address  \n",
      "0        7379 Highland Rd. , Dublin, GA 31021  \n",
      "1          8 Bayport St. , Honolulu, HI 96815  \n",
      "2           Encino, CA 91316, 3 Lilac Street   \n",
      "3  Riverview, FL 33569, 9998 North Smith Dr.   \n",
      "4   97 SE. Ocean Street , Bethlehem, PA 18015  \n"
     ]
    },
    {
     "data": {
      "text/html": [
       "<div>\n",
       "<style scoped>\n",
       "    .dataframe tbody tr th:only-of-type {\n",
       "        vertical-align: middle;\n",
       "    }\n",
       "\n",
       "    .dataframe tbody tr th {\n",
       "        vertical-align: top;\n",
       "    }\n",
       "\n",
       "    .dataframe thead th {\n",
       "        text-align: right;\n",
       "    }\n",
       "</style>\n",
       "<table border=\"1\" class=\"dataframe\">\n",
       "  <thead>\n",
       "    <tr style=\"text-align: right;\">\n",
       "      <th></th>\n",
       "      <th>age</th>\n",
       "      <th>exercise</th>\n",
       "      <th>hours</th>\n",
       "      <th>grade</th>\n",
       "    </tr>\n",
       "  </thead>\n",
       "  <tbody>\n",
       "    <tr>\n",
       "      <td>count</td>\n",
       "      <td>2000.000000</td>\n",
       "      <td>2000.000000</td>\n",
       "      <td>2000.000000</td>\n",
       "      <td>2000.000000</td>\n",
       "    </tr>\n",
       "    <tr>\n",
       "      <td>mean</td>\n",
       "      <td>16.578500</td>\n",
       "      <td>3.000500</td>\n",
       "      <td>10.988500</td>\n",
       "      <td>82.556050</td>\n",
       "    </tr>\n",
       "    <tr>\n",
       "      <td>std</td>\n",
       "      <td>1.696254</td>\n",
       "      <td>1.423205</td>\n",
       "      <td>4.063942</td>\n",
       "      <td>9.747593</td>\n",
       "    </tr>\n",
       "    <tr>\n",
       "      <td>min</td>\n",
       "      <td>14.000000</td>\n",
       "      <td>0.000000</td>\n",
       "      <td>0.000000</td>\n",
       "      <td>32.000000</td>\n",
       "    </tr>\n",
       "    <tr>\n",
       "      <td>25%</td>\n",
       "      <td>15.000000</td>\n",
       "      <td>2.000000</td>\n",
       "      <td>8.000000</td>\n",
       "      <td>75.575000</td>\n",
       "    </tr>\n",
       "    <tr>\n",
       "      <td>50%</td>\n",
       "      <td>17.000000</td>\n",
       "      <td>3.000000</td>\n",
       "      <td>11.000000</td>\n",
       "      <td>82.700000</td>\n",
       "    </tr>\n",
       "    <tr>\n",
       "      <td>75%</td>\n",
       "      <td>18.000000</td>\n",
       "      <td>4.000000</td>\n",
       "      <td>14.000000</td>\n",
       "      <td>89.700000</td>\n",
       "    </tr>\n",
       "    <tr>\n",
       "      <td>max</td>\n",
       "      <td>19.000000</td>\n",
       "      <td>5.000000</td>\n",
       "      <td>20.000000</td>\n",
       "      <td>100.000000</td>\n",
       "    </tr>\n",
       "  </tbody>\n",
       "</table>\n",
       "</div>"
      ],
      "text/plain": [
       "               age     exercise        hours        grade\n",
       "count  2000.000000  2000.000000  2000.000000  2000.000000\n",
       "mean     16.578500     3.000500    10.988500    82.556050\n",
       "std       1.696254     1.423205     4.063942     9.747593\n",
       "min      14.000000     0.000000     0.000000    32.000000\n",
       "25%      15.000000     2.000000     8.000000    75.575000\n",
       "50%      17.000000     3.000000    11.000000    82.700000\n",
       "75%      18.000000     4.000000    14.000000    89.700000\n",
       "max      19.000000     5.000000    20.000000   100.000000"
      ]
     },
     "execution_count": 25,
     "metadata": {},
     "output_type": "execute_result"
    }
   ],
   "source": [
    "import numpy as np\n",
    "import matplotlib.pyplot as plt\n",
    "from IPython.display import Image\n",
    "import pandas as pd\n",
    "import seaborn as sns\n",
    "%matplotlib inline\n",
    "\n",
    "file = '../Datasets/gradedata.xlsx'\n",
    "df = pd.read_excel(file)\n",
    "print(df.head()) # take a look at the data frame - get a sense of what column data you're working with\n",
    "df.describe()"
   ]
  },
  {
   "cell_type": "markdown",
   "metadata": {},
   "source": [
    "so the min grade is 32, and the max is 100. the median value is the one right at 50%, which is 82.7"
   ]
  },
  {
   "cell_type": "code",
   "execution_count": 8,
   "metadata": {},
   "outputs": [
    {
     "data": {
      "text/html": [
       "<div>\n",
       "<style scoped>\n",
       "    .dataframe tbody tr th:only-of-type {\n",
       "        vertical-align: middle;\n",
       "    }\n",
       "\n",
       "    .dataframe tbody tr th {\n",
       "        vertical-align: top;\n",
       "    }\n",
       "\n",
       "    .dataframe thead th {\n",
       "        text-align: right;\n",
       "    }\n",
       "</style>\n",
       "<table border=\"1\" class=\"dataframe\">\n",
       "  <thead>\n",
       "    <tr style=\"text-align: right;\">\n",
       "      <th></th>\n",
       "      <th>age</th>\n",
       "      <th>exercise</th>\n",
       "      <th>hours</th>\n",
       "      <th>grade</th>\n",
       "    </tr>\n",
       "  </thead>\n",
       "  <tbody>\n",
       "    <tr>\n",
       "      <td>count</td>\n",
       "      <td>2000.000000</td>\n",
       "      <td>2000.000000</td>\n",
       "      <td>2000.000000</td>\n",
       "      <td>2000.000000</td>\n",
       "    </tr>\n",
       "    <tr>\n",
       "      <td>mean</td>\n",
       "      <td>16.578500</td>\n",
       "      <td>3.000500</td>\n",
       "      <td>10.988500</td>\n",
       "      <td>82.556050</td>\n",
       "    </tr>\n",
       "    <tr>\n",
       "      <td>std</td>\n",
       "      <td>1.696254</td>\n",
       "      <td>1.423205</td>\n",
       "      <td>4.063942</td>\n",
       "      <td>9.747593</td>\n",
       "    </tr>\n",
       "    <tr>\n",
       "      <td>min</td>\n",
       "      <td>14.000000</td>\n",
       "      <td>0.000000</td>\n",
       "      <td>0.000000</td>\n",
       "      <td>32.000000</td>\n",
       "    </tr>\n",
       "    <tr>\n",
       "      <td>25%</td>\n",
       "      <td>15.000000</td>\n",
       "      <td>2.000000</td>\n",
       "      <td>8.000000</td>\n",
       "      <td>75.575000</td>\n",
       "    </tr>\n",
       "    <tr>\n",
       "      <td>50%</td>\n",
       "      <td>17.000000</td>\n",
       "      <td>3.000000</td>\n",
       "      <td>11.000000</td>\n",
       "      <td>82.700000</td>\n",
       "    </tr>\n",
       "    <tr>\n",
       "      <td>80%</td>\n",
       "      <td>18.000000</td>\n",
       "      <td>4.000000</td>\n",
       "      <td>15.000000</td>\n",
       "      <td>91.300000</td>\n",
       "    </tr>\n",
       "    <tr>\n",
       "      <td>max</td>\n",
       "      <td>19.000000</td>\n",
       "      <td>5.000000</td>\n",
       "      <td>20.000000</td>\n",
       "      <td>100.000000</td>\n",
       "    </tr>\n",
       "  </tbody>\n",
       "</table>\n",
       "</div>"
      ],
      "text/plain": [
       "               age     exercise        hours        grade\n",
       "count  2000.000000  2000.000000  2000.000000  2000.000000\n",
       "mean     16.578500     3.000500    10.988500    82.556050\n",
       "std       1.696254     1.423205     4.063942     9.747593\n",
       "min      14.000000     0.000000     0.000000    32.000000\n",
       "25%      15.000000     2.000000     8.000000    75.575000\n",
       "50%      17.000000     3.000000    11.000000    82.700000\n",
       "80%      18.000000     4.000000    15.000000    91.300000\n",
       "max      19.000000     5.000000    20.000000   100.000000"
      ]
     },
     "execution_count": 8,
     "metadata": {},
     "output_type": "execute_result"
    }
   ],
   "source": [
    "# use the describe() method to the 80% \n",
    "df.describe(percentiles = [.25, .5, .8])"
   ]
  },
  {
   "cell_type": "markdown",
   "metadata": {},
   "source": [
    "now we know the 80% cut is 91.3"
   ]
  },
  {
   "cell_type": "code",
   "execution_count": 37,
   "metadata": {},
   "outputs": [
    {
     "data": {
      "image/png": "[encoded data removed]",
      "text/plain": [
       "<Figure size 864x288 with 2 Axes>"
      ]
     },
     "metadata": {
      "needs_background": "light"
     },
     "output_type": "display_data"
    }
   ],
   "source": [
    "# histogram for all gender\n",
    "plt.figure(figsize=(12,4))\n",
    "plt.subplot(1,2,1)\n",
    "df.grade.hist(bins=30)\n",
    "plt.xlabel('Grade')\n",
    "plt.ylabel('# of Students')\n",
    "plt.title('Distribution of Grades (all)')\n",
    "\n",
    "# plot seperate histograms for male and female students\n",
    "plt.subplot(1,2,2)\n",
    "df.grade[df.gender=='male'].hist(bins=30,alpha=0.5,label='Male')\n",
    "df.grade[df.gender=='female'].hist(bins=30,alpha=0.5,label='Female')\n",
    "plt.legend()\n",
    "plt.xlabel('Grade')\n",
    "plt.ylabel('# of Students')\n",
    "plt.title('Distribution of Grades (gender seperated)')\n",
    "plt.show()"
   ]
  },
  {
   "cell_type": "markdown",
   "metadata": {},
   "source": [
    "the distributio of the grades does not look like gender-dependent"
   ]
  },
  {
   "cell_type": "code",
   "execution_count": 24,
   "metadata": {},
   "outputs": [
    {
     "name": "stdout",
     "output_type": "stream",
     "text": [
      "For distributon of the grade (all), the p value is  9.06973324721894e-05\n",
      "Grade does not look Gaussian\n"
     ]
    }
   ],
   "source": [
    "# now test weather the grade follows a normal distribution\n",
    "from scipy import stats\n",
    "\n",
    "k2, p = stats.normaltest(df.grade.dropna())\n",
    "\n",
    "print('For distributon of the grade (all), the p value is ', p)\n",
    "\n",
    "if p > 0.05:\n",
    "    print('Grade looks Gaussian')\n",
    "else:\n",
    "    print('Grade does not look Gaussian')"
   ]
  },
  {
   "cell_type": "code",
   "execution_count": 39,
   "metadata": {
    "scrolled": false
   },
   "outputs": [
    {
     "name": "stdout",
     "output_type": "stream",
     "text": [
      "     fname     lname  gender  age  exercise  hours  grade  \\\n",
      "0   Marcia      Pugh  female   17         3     10   82.4   \n",
      "1   Kadeem  Morrison    male   18         4      4   78.2   \n",
      "2     Nash    Powell    male   18         5      9   79.3   \n",
      "3  Noelani    Wagner  female   14         2      7   83.2   \n",
      "4  Noelani    Cherry  female   18         4     15   87.4   \n",
      "\n",
      "                                      address  Efficiency  \n",
      "0        7379 Highland Rd. , Dublin, GA 31021  8-11 hours  \n",
      "1          8 Bayport St. , Honolulu, HI 96815   0-8 hours  \n",
      "2           Encino, CA 91316, 3 Lilac Street   8-11 hours  \n",
      "3  Riverview, FL 33569, 9998 North Smith Dr.    0-8 hours  \n",
      "4   97 SE. Ocean Street , Bethlehem, PA 18015   >14 hours  \n"
     ]
    },
    {
     "data": {
      "image/png": "[encoded data removed]",
      "text/plain": [
       "<Figure size 432x288 with 1 Axes>"
      ]
     },
     "metadata": {
      "needs_background": "light"
     },
     "output_type": "display_data"
    }
   ],
   "source": [
    "# based on the describe() function we know that the hour of work distrbution looks like:\n",
    "# 0  - 25%: <=8 hours\n",
    "# 25 - 50%: 8-11 hours\n",
    "# 50 - 75%: 11-14 hours\n",
    "# 75 - 100%: >14 hours\n",
    "\n",
    "# you can cut it manually but i'd love to try the cut() function\n",
    "bins = [0, 8, 11, 14, 20] # define 4 groups (bins) based on the hour of work\n",
    "group_names = ['0-8 hours','8-11 hours','11-14 hours','>14 hours'] # define group names\n",
    "\n",
    "df['Efficiency']=pd.cut(df['hours'],bins,labels=group_names) # bin the data, create a new column\n",
    "print(df.head())\n",
    "\n",
    "# now lets generate histograms\n",
    "for group in group_names:\n",
    "    df.grade[df.Efficiency==group].hist(bins = 30, alpha = 0.5, label = group)\n",
    "    \n",
    "plt.legend()\n",
    "plt.xlabel('Grade')\n",
    "plt.ylabel('# of Students')\n",
    "plt.title('Distribution of Grades (gender seperated)')\n",
    "plt.show()"
   ]
  },
  {
   "cell_type": "markdown",
   "metadata": {},
   "source": [
    "so, the more hours you spent on your study, the better grade you get!"
   ]
  },
  {
   "cell_type": "markdown",
   "metadata": {},
   "source": [
    "### 2.  Histograms using the seaborn module\n",
    "\n",
    "Download the datafile named \"gdp_data.txt\" from Moodle\n",
    "\n",
    "- load the txt file as a Pandas data frame, take a look at the data frame (know exactly what column data you have!)\n",
    "- make histograms to show the distribution of life expectancy for each continent at year 2007, using the **seaborn** module, show the kernel density estimation (ked=True). \n",
    "- Choose either showing them on the same plot, or separately. Make sure adjusting the axis and labels appropiately.\n",
    "- identify the mode for each continent\n",
    "\n",
    "as a good practice, using for loops to step through each continents"
   ]
  },
  {
   "cell_type": "code",
   "execution_count": 70,
   "metadata": {},
   "outputs": [
    {
     "name": "stdout",
     "output_type": "stream",
     "text": [
      "       country  year         pop continent  lifeExp   gdpPercap\n",
      "0  Afghanistan  1952   8425333.0      Asia   28.801  779.445314\n",
      "1  Afghanistan  1957   9240934.0      Asia   30.332  820.853030\n",
      "2  Afghanistan  1962  10267083.0      Asia   31.997  853.100710\n",
      "3  Afghanistan  1967  11537966.0      Asia   34.020  836.197138\n",
      "4  Afghanistan  1972  13079460.0      Asia   36.088  739.981106\n",
      "The mode for lifeExp in Oceania is 0    80.204\n",
      "1    81.235\n",
      "dtype: float64\n"
     ]
    },
    {
     "data": {
      "image/png": "[encoded data removed]",
      "text/plain": [
       "<Figure size 864x288 with 2 Axes>"
      ]
     },
     "metadata": {
      "needs_background": "light"
     },
     "output_type": "display_data"
    }
   ],
   "source": [
    "import warnings\n",
    "warnings.filterwarnings(\"ignore\")\n",
    "\n",
    "file = '../Datasets/gdp_data.txt'\n",
    "df = pd.read_csv(file)\n",
    "print(df.head())\n",
    "\n",
    "conti = set(df.continent) # set is unique - or you can use np.unique() to find out how many continents\n",
    "\n",
    "plt.figure(figsize=(12,4))\n",
    "for continent in conti:\n",
    "    \n",
    "    df_filtered = df.lifeExp[(df.year==2007)&(df.continent==continent)]    # filter year==2007 and continent\n",
    "    \n",
    "    if continent=='Oceania': # seperate oceanic data since there's only two points\n",
    "        plt.subplot(1,2,2) \n",
    "        sns.distplot(df_filtered,label=continent,kde=False)\n",
    "        plt.legend()\n",
    "        print('The mode for lifeExp in',continent,'is',df_filtered.mode())\n",
    "    else:                    # plot the rest\n",
    "        plt.subplot(1,2,1) \n",
    "        sns.distplot(df_filtered,label=continent,kde=True)\n",
    "        #print('The mode for lifeExp in',continent,'is',df_filtered.mode())\n",
    "\n",
    "plt.legend()\n",
    "plt.show()"
   ]
  },
  {
   "cell_type": "markdown",
   "metadata": {},
   "source": [
    "### 3. Boxplots [optional]\n",
    "\n",
    "- Download the data set \"weekdata_000.xlsx\" from Moodle\n",
    "- take a look at the data frame using the .head() function\n",
    "- use either the set() function or the .unique() function to count the number of \"ReasonForCall\", \"AnsweringAgent\" and \"DaysOfWeek\"\n",
    "- Generate a box plot using the .boxplot() function of the **seaborn** module, with the horizontal axis showing \"DayOfWeek\" and the vertical axis showing \"CallDuration\"\n",
    "- Now filter the data frame by the \"AnsweringAgent\" column using the **isin** keyword as follows: \n",
    "\n",
    "    - new_df = df[df['AnsweringAgent'].isin(['Cameron','Nicki','David','Kyle'])]   \n",
    "    \n",
    "- use the new_df data frame (which has only four names of the agents), to generate another boxplot showing the comparison of \"CallDuration\" among the above four agents.\n"
   ]
  },
  {
   "cell_type": "code",
   "execution_count": 80,
   "metadata": {},
   "outputs": [
    {
     "name": "stdout",
     "output_type": "stream",
     "text": [
      "  CallingNumber DayOfWeek TimeOfDay  CallDuration      ReasonForCall  \\\n",
      "0  774-823-8593       thu     10:30            20    Product Inquiry   \n",
      "1  432-403-9821       fri     11:24            10          Complaint   \n",
      "2  274-683-6814       tue     15:43            17  Technical Support   \n",
      "3  681-402-6913       tue     13:44             2  Technical Support   \n",
      "4  242-336-6459       wed     10:50            19  Technical Support   \n",
      "\n",
      "  AnsweringAgent  \n",
      "0        Cameron  \n",
      "1        Cameron  \n",
      "2        Kennedy  \n",
      "3           Lisa  \n",
      "4        Kennedy  \n",
      "the # of calls for Product Inquiry is 342\n",
      "the # of calls for Technical Support is 316\n",
      "the # of calls for Complaint is 299\n",
      "the # of calls for Return is 302\n"
     ]
    }
   ],
   "source": [
    "file = '../Datasets/weekly_call_data/weekdata_000.xlsx'\n",
    "df = pd.read_excel(file,index_col=0)\n",
    "print(df.head())\n",
    "\n",
    "reasons = set(df.ReasonForCall) \n",
    "#print(reasons)\n",
    "\n",
    "for res in reasons:\n",
    "    df1 = df[df.ReasonForCall==res]\n",
    "    print('the # of calls for',res,'is',df1['ReasonForCall'].size)"
   ]
  },
  {
   "cell_type": "code",
   "execution_count": 82,
   "metadata": {},
   "outputs": [
    {
     "data": {
      "image/png": "[encoded data removed]",
      "text/plain": [
       "<Figure size 432x288 with 1 Axes>"
      ]
     },
     "metadata": {
      "needs_background": "light"
     },
     "output_type": "display_data"
    }
   ],
   "source": [
    "sns.boxplot(y='CallDuration',x='DayOfWeek',data = df, width=0.5) \n",
    "plt.show()"
   ]
  },
  {
   "cell_type": "code",
   "execution_count": 84,
   "metadata": {},
   "outputs": [
    {
     "data": {
      "image/png": "[encoded data removed]",
      "text/plain": [
       "<Figure size 432x288 with 1 Axes>"
      ]
     },
     "metadata": {
      "needs_background": "light"
     },
     "output_type": "display_data"
    }
   ],
   "source": [
    "new_df = df[df['AnsweringAgent'].isin(['Cameron','Nicki','David','Kyle'])]\n",
    "sns.boxplot(y='CallDuration',x='AnsweringAgent',data = new_df, width=0.5) \n",
    "plt.show()"
   ]
  }
 ],
 "metadata": {
  "kernelspec": {
   "display_name": "Python 3",
   "language": "python",
   "name": "python3"
  },
  "language_info": {
   "codemirror_mode": {
    "name": "ipython",
    "version": 3
   },
   "file_extension": ".py",
   "mimetype": "text/x-python",
   "name": "python",
   "nbconvert_exporter": "python",
   "pygments_lexer": "ipython3",
   "version": "3.7.4"
  }
 },
 "nbformat": 4,
 "nbformat_minor": 2
}
