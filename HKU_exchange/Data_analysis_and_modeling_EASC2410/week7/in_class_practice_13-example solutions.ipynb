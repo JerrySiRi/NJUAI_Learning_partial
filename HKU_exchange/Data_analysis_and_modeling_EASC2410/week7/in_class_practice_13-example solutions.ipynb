{
 "cells": [
  {
   "cell_type": "markdown",
   "metadata": {},
   "source": [
    "## In-class practice for Lecture 13\n",
    "\n",
    "* Statistics basics: Probability Distribution Functions and Monte Carlo Simulations\n",
    "* Answer each question using Python codes in a separate cell"
   ]
  },
  {
   "cell_type": "markdown",
   "metadata": {},
   "source": [
    "### 1. Normal distributions\n",
    "\n",
    "The theoretical form for a normal distribution is:\n",
    "\n",
    "$$P=f(x,\\mu, \\sigma)= \\frac{1}{\\sigma\\sqrt{2\\pi}} e^{-\\frac{(x-\\mu)^2}{2\\sigma^2}},-\\infty < x < \\infty$$\n",
    "\n",
    "- Calculate the theoretical distribution of grades on an exam with a mean of 60 ($\\mu = 60$) and a standard deviation of $\\pm$ 15 ($\\sigma = 15$). Assume the grades are integers between 0 and 100. \n",
    "- Use the **random.normal(mu,sigma,Nmc)** function to simulate the results of an exam taken by 35 students\n",
    "- Calculate the mean and standard deviation of your simulated results. \n",
    "- Plot theoretical and simulated results as a bar graph and histogram respectively.\n",
    "- Add a title, x-label, y-label, and legend\n",
    "- To get As, students need to have a grade > 90. Now how many students in your simulation get As? Is it reasonable?"
   ]
  },
  {
   "cell_type": "code",
   "execution_count": 2,
   "metadata": {},
   "outputs": [
    {
     "data": {
      "image/png": "[encoded data removed]",
      "text/plain": [
       "<Figure size 432x288 with 1 Axes>"
      ]
     },
     "metadata": {
      "needs_background": "light"
     },
     "output_type": "display_data"
    }
   ],
   "source": [
    "import numpy as np\n",
    "import matplotlib.pyplot as plt\n",
    "from IPython.display import Image\n",
    "import pandas as pd\n",
    "from scipy.special import factorial\n",
    "\n",
    "def Normal(x,mu,sigma):\n",
    "    \"\"\"\n",
    "    Normal Distribution Function\n",
    "    \"\"\"\n",
    "    Prob = (1./(sigma*np.sqrt(2.**np.pi)))*np.e**(-(x-mu)**2/(2.*sigma**2))\n",
    "    return Prob\n",
    "\n",
    "mu,sigma,incr=60,15,1 # set the mean, standard deviation and bin width (1)\n",
    "xs=np.arange(0,100,incr) # make an array of test values\n",
    "Probability=Normal(xs,mu,sigma) # get probabilities \n",
    "plt.bar(xs,Probability,width=incr,color='lightgrey', edgecolor='k') # make the bar chart\n",
    "plt.plot(xs,Probability,'r-',linewidth=2) # plot as a continuous probability distribution\n",
    "plt.xlabel('x (Grades)')\n",
    "plt.ylabel('Probability')\n",
    "plt.text(5,.02,'$\\mu$ = '+str(mu)) # stick on some notes\n",
    "plt.text(5,.017,'$\\sigma$ ='+str(sigma))\n",
    "plt.title('Normal');"
   ]
  },
  {
   "cell_type": "code",
   "execution_count": 4,
   "metadata": {},
   "outputs": [
    {
     "name": "stdout",
     "output_type": "stream",
     "text": [
      "The mean grade of the 35 student is 62.53459812184488\n",
      "The standard deviation of the 35 student is 13.921245886805231\n"
     ]
    },
    {
     "data": {
      "image/png": "[encoded data removed]",
      "text/plain": [
       "<Figure size 432x288 with 1 Axes>"
      ]
     },
     "metadata": {
      "needs_background": "light"
     },
     "output_type": "display_data"
    }
   ],
   "source": [
    "from numpy import random\n",
    "\n",
    "# simulate a normal distribution iwht 35 students:\n",
    "\n",
    "Nmc=35 # number of monte carlo simultions - here we need 35 students\n",
    "Grade_Sim=random.normal(mu,sigma,Nmc) # get Nmc  simulated data points from distribution\n",
    "\n",
    "print('The mean grade of the 35 student is',Grade_Sim.mean())\n",
    "print('The standard deviation of the 35 student is',Grade_Sim.std())\n",
    "\n",
    "plt.bar(xs,Probability,width=incr, edgecolor='k',label='Theoretical',color='lightgrey') # make the bar chart\n",
    "plt.hist(Grade_Sim, density=True,histtype='step',color='orange',linewidth=2.,\\\n",
    "         bins=35,label='Simulated') # plot them\n",
    "plt.legend();"
   ]
  },
  {
   "cell_type": "code",
   "execution_count": 5,
   "metadata": {},
   "outputs": [
    {
     "name": "stdout",
     "output_type": "stream",
     "text": [
      "The number of students get A is 3 , which is 8.57 % of the total students\n"
     ]
    }
   ],
   "source": [
    "# how many students get A? the criteria is Grade>80\n",
    "Grade_A = Grade_Sim[Grade_Sim>80]\n",
    "print('The number of students get A is',Grade_A.size,', which is',round(Grade_A.size/Nmc*100,2),'% of the total students')"
   ]
  },
  {
   "cell_type": "markdown",
   "metadata": {},
   "source": [
    "### 2. Write a code to simulate the Roulette game\n",
    "\n",
    "Recall the house advantage mentioned in class (e.g., the Roulette game). Let's use Python to simulate such a game and see if you can/cannot win. You can use the uniform() function, choices() function we talked about in class, or use the random module for such a simulation:\n",
    "\n",
    "- load the module \"random\" using **import random**\n",
    "- we will use the **randint** function from the _random_ module to generate a random integer between 0 and 38 (00, 0, 1, 2, 3, ..., 36, total = 38 numbers). For example randit(0,38) returns one integer between 0 and 38.\n",
    "- now define a new variable as your **bet**, which is also an integer\n",
    "- you can set your **bet** as a constant, or use the randint() function to set a random bet for every play\n",
    "- then use relational operation to determine whether your bet is the same as the randint(0, 38) output\n",
    "    - if **bet** is the same as the random integer generated by randint(), then you win 35 times more (35$\\times bet$)\n",
    "    - if **bet** is not the same as the random integer, you lose\n",
    "    - then calculate how much you win (either 0 or bet\\*35)\n",
    "- use a for loop to simulate this game 100000 times to see if the expectation is approaching the theoretical value (-1/38) as discussed in class (-1/38)"
   ]
  },
  {
   "cell_type": "code",
   "execution_count": 40,
   "metadata": {},
   "outputs": [
    {
     "name": "stdout",
     "output_type": "stream",
     "text": [
      "The total money spent is 10000\n",
      "After 1000 plays, you won 9720\n",
      "Your total income is -280\n"
     ]
    }
   ],
   "source": [
    "from random import randint\n",
    "\n",
    "bet = 10 # i'm fixing my bet every time for 10!\n",
    "         # you can also do bet = randint(0,38) or others...\n",
    "plays = 1000 # let's play 1000 times...\n",
    "expect = 0 # total amount won\n",
    "cost = 0 # total money spent\n",
    "wins = 0 # total times of win\n",
    "\n",
    "for _ in range(plays): \n",
    "    \n",
    "    number = randint(0, 38) # generate a random number between 0 and 38, that's the wheel spinning\n",
    "    expect = expect + (bet==number)*36*bet # for each play, if bet==number, then you win 35 times\n",
    "    wins = wins + (bet==number) # count the total win times\n",
    "    cost = cost + bet # count the total money spent (I'm doing this because bet can be changed randomly)\n",
    "\n",
    "money_won = expect-cost # eventually how much I won...\n",
    "win_rate = wins/plays # rate of winning, ~1/38\n",
    "\n",
    "print('The total money spent is',cost)\n",
    "print('After',plays,'plays, you won',expect)\n",
    "print('Your total income is',money_won)"
   ]
  }
 ],
 "metadata": {
  "kernelspec": {
   "display_name": "Python 3 (ipykernel)",
   "language": "python",
   "name": "python3"
  },
  "language_info": {
   "codemirror_mode": {
    "name": "ipython",
    "version": 3
   },
   "file_extension": ".py",
   "mimetype": "text/x-python",
   "name": "python",
   "nbconvert_exporter": "python",
   "pygments_lexer": "ipython3",
   "version": "3.9.12"
  }
 },
 "nbformat": 4,
 "nbformat_minor": 2
}
