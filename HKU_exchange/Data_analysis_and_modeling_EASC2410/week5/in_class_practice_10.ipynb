{
 "cells": [
  {
   "cell_type": "markdown",
   "metadata": {},
   "source": [
    "## In-class practice for Lecture 10\n",
    "\n",
    "* Here's the complete documentation for the Pandas library: https://pandas.pydata.org\n",
    "* Answer each question using Python codes in a separate cell"
   ]
  },
  {
   "cell_type": "markdown",
   "metadata": {},
   "source": [
    "### 1.  Formatting strings\n",
    "- set a variable to the value of $\\pi$ (3.14159265358979323846264)\n",
    "- print the value of pi\n",
    "- format the value to have four significant figures.  \n",
    "- print out a sentence with the formatted value of $\\pi$ in it.  \n",
    "- multiply $\\pi$ by 50 and use the exponential form of string formatting to print out 4 significant digits."
   ]
  },
  {
   "cell_type": "code",
   "execution_count": 12,
   "metadata": {},
   "outputs": [
    {
     "name": "stdout",
     "output_type": "stream",
     "text": [
      "3.14159\n"
     ]
    }
   ],
   "source": [
    "import numpy as np\n",
    "\n",
    "print(\"%3.5f\"%(np.pi))"
   ]
  },
  {
   "cell_type": "markdown",
   "metadata": {},
   "source": [
    "### 2. Data wrangling with Pandas (Typhoon Mangkhut)  \n",
    "\n",
    "- Download the Excel data file named \"mangkhut.xlsx\" from Moodle\n",
    "- Load the data file into Python as a data Frame use the read_excel() function, make sure you specify the proper path and file name according to the location of your data file\n",
    "- Show the first and last five rows of the data Frame using the head() and tail() functions \n",
    "- Rename the column mane \"Pressure (hPa)\" as \"Pres\"\n",
    "- Rename the column name \"Wind (kt)\" as \"Wind\"\n",
    "- Filter the data by removing rows with zero wind speed\n",
    "- Find the max, minumum and mean wind speed using the functions mangkhut['Wind'].max(), .min() and .mean()\n",
    "- Create a new column named \"gradP\", which is the absolute pressure difference between the measured pressure and the maximum pressure (note: values in \"gradP\" should be all positive or zero). You can access the maximum pressure by using mangkhut['Pres'].max()\n",
    "- Make a scatter plot showing the relationship between gradP and Wind speed, what do you find? "
   ]
  },
  {
   "cell_type": "markdown",
   "metadata": {},
   "source": [
    "### 3. Processing multiple data files\n",
    "\n",
    "- Download the folder named 'Grades' from Moodle, there are several Excel files in it\n",
    "- Use the glob module to generate a list of all the Excel file  names\n",
    "- Write a for-loop to load each data file as a data frame\n",
    "- For each data frame, use the .cut() function to generate a new column named \"grade report\", based on the following rules:\n",
    "    - \"A\" for \"grade\" greater than or equal to 90\n",
    "    - \"B\" for \"grade\" greater than or equal to 80 and less than 90\n",
    "    - \"C\" for \"grade\" greater than or equal to 70 and less than 80\n",
    "    - \"D\" for \"grade\" greater than or equal to 60 and less than 70\n",
    "    - \"F\" for \"grade\" less than 60\n",
    "- How many students get \"A\"s in each grade book?"
   ]
  }
 ],
 "metadata": {
  "kernelspec": {
   "display_name": "Python 3.7.1 ('bert_chinese')",
   "language": "python",
   "name": "python3"
  },
  "language_info": {
   "codemirror_mode": {
    "name": "ipython",
    "version": 3
   },
   "file_extension": ".py",
   "mimetype": "text/x-python",
   "name": "python",
   "nbconvert_exporter": "python",
   "pygments_lexer": "ipython3",
   "version": "3.7.1"
  },
  "vscode": {
   "interpreter": {
    "hash": "53212d6bd219dd71a1dd1974b202da0e24447591239b9cfd3b7797526bde5b81"
   }
  }
 },
 "nbformat": 4,
 "nbformat_minor": 2
}
