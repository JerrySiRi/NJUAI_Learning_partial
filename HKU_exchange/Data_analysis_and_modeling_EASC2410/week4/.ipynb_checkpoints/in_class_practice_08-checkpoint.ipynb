{
 "cells": [
  {
   "cell_type": "markdown",
   "metadata": {},
   "source": [
    "## In-class practice for Lecture 8\n",
    "\n",
    "\n",
    "* Here's the complete basemap documentation: https://scitools.org.uk/cartopy/docs/latest/\n",
    "* Answer each question using Python codes in a separate cell"
   ]
  },
  {
   "cell_type": "markdown",
   "metadata": {},
   "source": [
    "### 1. Install Cartopy in your Anaconda  \n",
    "\n",
    "- first open your Anaconda Navigator\n",
    "- then click the tab on the left named **environment**, here you can see what modules are installed in your Python environment\n",
    "- Select the \"Not installed\" option from the first drop-down manu\n",
    "- find the module called \"cartopy\", select it and click the **apply** button in the bottom right corner\n",
    "- a window will pop out and just proceed, now Anacoda is installing the cartopy module for you automatically"
   ]
  },
  {
   "cell_type": "markdown",
   "metadata": {},
   "source": [
    "### 2. Load all the modules needed to make maps  \n",
    "\n",
    "* import the numpy module\n",
    "* import the matplotlib.pyplot module\n",
    "* import the cartopy module"
   ]
  },
  {
   "cell_type": "markdown",
   "metadata": {},
   "source": [
    "### 3. PlateCarree projections\n",
    "- Make a PlateCarree projection with center longitude at 114\n",
    "- Color the oceans the continents \n",
    "- Draw on parallels and meridians\n",
    "- Place a pentagon where you were born and set the markersize to make it visible"
   ]
  },
  {
   "cell_type": "markdown",
   "metadata": {},
   "source": [
    "\n",
    "### 4. Orthographic maps\n",
    "- Make an orthographic map using cartopy\n",
    "- draw the contries\n",
    "- Color the continents\n",
    "- Plot a large magenta square at the North Pole (90, 170)\n",
    "- change the view so you're looking down the globe right above the geographic north pole"
   ]
  },
  {
   "cell_type": "markdown",
   "metadata": {},
   "source": [
    "### 5. Map + Hurricane Maria Track\n",
    "- Make a map projection (whichever you like) for visualizing the track of Hurricane Maria (North America)\n",
    "- Add the continents to your map - what region of the globe should you have?\n",
    "- Add reasonable latitude and longitude grid lines and label them.\n",
    "- Load the data file maria_data.txt from last lecture and plot the track of the hurricane Maria on your map \n",
    "\n",
    "recall how to load the hurricane data into Python:\n",
    "\n",
    "* Load the data file into Python using: maria = np.genfromtxt('maria_data.txt', delimiter=',')\n",
    "* The column data goes as \"date\", \"Time\", \"Latitude\", \"Longitude\", \"Wind Speed\", \"Pressure\"\n",
    "* use index slicing (columns) to get latitude and longitude"
   ]
  }
 ],
 "metadata": {
  "kernelspec": {
   "display_name": "Python 3 (ipykernel)",
   "language": "python",
   "name": "python3"
  },
  "language_info": {
   "codemirror_mode": {
    "name": "ipython",
    "version": 3
   },
   "file_extension": ".py",
   "mimetype": "text/x-python",
   "name": "python",
   "nbconvert_exporter": "python",
   "pygments_lexer": "ipython3",
   "version": "3.9.7"
  }
 },
 "nbformat": 4,
 "nbformat_minor": 2
}
