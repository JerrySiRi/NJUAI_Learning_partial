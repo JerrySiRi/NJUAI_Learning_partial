{
 "cells": [
  {
   "cell_type": "markdown",
   "metadata": {},
   "source": [
    "## Review of Lecture 3\n",
    "\n",
    "### In lecture 3, we learned \n",
    "\n",
    "* Dictionaries \n",
    "* Basic Python code structures \n",
    "* Condition Statements \n",
    "* **if**, **if-else**, **if-elif-else** loops \n",
    "* **while** loops \n",
    "* **for** loops   \n",
    "* Nested loops"
   ]
  },
  {
   "cell_type": "markdown",
   "metadata": {},
   "source": [
    "## Lecture 4, Functions and Modules\n",
    "\n",
    "### A. Introduction to Functions\n",
    "\n",
    "#### 1. Why we need functions? Code re-use  \n",
    "\n",
    "When you are doing a large amount of data analysis using a similar type of algorithms, you would probably expect that many bits of your Python code that you wrote can be re-used, so you don't need to start from scratch for every data set (may need some changes but the core codes are re-usable). For exmaple, in the US people uses Fahrenheit (F) for air temperatures while here we are more familiar with Celsius (C). So whenever you see temperatures in degrees F, you want to convert it to degrees C. This is where **functions** are useful. You can simply define a simple piece of Python code, assign it a name and specify a list of input arguments, then keep re-using it anytime you would like to convert F to C.   \n",
    "\n",
    "Here's the basic structure a Python function that does the conversion from F to C:"
   ]
  },
  {
   "cell_type": "code",
   "execution_count": 15,
   "metadata": {},
   "outputs": [
    {
     "data": {
      "text/plain": [
       "35.0"
      ]
     },
     "execution_count": 15,
     "metadata": {},
     "output_type": "execute_result"
    }
   ],
   "source": [
    "def convertF2C(in_args = 95):\n",
    "    \"\"\"\n",
    "    This code convert Fahrenheit (F) to Celsius (C)\n",
    "    INPUT    : temperature in F\n",
    "    OUTPUT   : temperature in C\n",
    "    Algorithm: C = 9/5*(F-32)\n",
    "    \"\"\"\n",
    "    out_args = (in_args - 32.0)*5.0/9.0\n",
    "    return out_args\n",
    "\n",
    "# now lets call the function here by simply type in the function name\n",
    "convertF2C()"
   ]
  },
  {
   "cell_type": "markdown",
   "metadata": {},
   "source": [
    "Here's how the above code works (line-by-line analysis): \n",
    "\n",
    "*Line 1* <span style=\"color:green\">**def**</span> <span style=\"color:blue\">convertF2C</span>(in_args):  \n",
    "* <span style=\"color:green\">**def**</span>: the first line of a function must have def as the first three letters, it tells Python that you're defining a function\n",
    "* <span style=\"color:blue\">convertF2C</span>: the function name following **def**\n",
    "* (in_args): input arguments \n",
    "* **:** the first line of a function always ends with a terminal colon (DON'T FORGET IT!)\n",
    "\n",
    "\n",
    "*Line 2-7*\n",
    "<span style=\"color:red\">\"\"\"    \n",
    " &nbsp;  &nbsp;  &nbsp;  &nbsp;  &nbsp;   &nbsp;  &nbsp;   This code convert Fahrenheit (F) to Celsius (C)    \n",
    " &nbsp;  &nbsp;  &nbsp;  &nbsp;  &nbsp;   &nbsp;  &nbsp;   INPUT:  temperature in F    \n",
    " &nbsp;  &nbsp;  &nbsp;  &nbsp;  &nbsp;   &nbsp;  &nbsp;   OUTPUT: temperature in C          \n",
    " &nbsp;  &nbsp;  &nbsp;  &nbsp;  &nbsp;   &nbsp;  &nbsp;   \"\"\"</span>   \n",
    "\n",
    "* The line or lines between the **triple quotes** right after the function definition is a **doc string** (doc for documentation). \n",
    "* The **doc string** is a description of what the function does, which can be accessed later by using the **help()** function.\n",
    "* what I useually do is to document the input, output and basic algorithm of the function\n",
    "\n",
    "*Line 8* out_args = 5.0/9.0*(in_args - 32.0)\n",
    "\n",
    "* The body of the **convertF2C** function\n",
    "* First calculates the temperature using **in_args** through $\\frac{5}{9}\\left(in\\_args - 32.0\\right)$\n",
    "* Then assign the calculated value to a variable named **out_args**\n",
    "\n",
    "*Line 9 <span style=\"color:green\">return</span> out_args\n",
    "\n",
    "* The **return** statement returns the results of whatever the function did.\n",
    "* Here it returns the value of temperature in C (that's why you get the output)\n",
    "\n",
    "*Line 12 convertF2C<span style=\"color:green\">(100)</span> \n",
    "\n",
    "* Call the function you just defined above and give it an input argument of 100 degrees\n",
    "* Now the function will convert 100 degrees to radians and return the results to screen\n",
    "\n"
   ]
  },
  {
   "cell_type": "markdown",
   "metadata": {},
   "source": [
    "#### 2. A couple of notes on our first function example:\n",
    "\n",
    "* The **help()** function will print out the doc string in your function, for exmaple:"
   ]
  },
  {
   "cell_type": "code",
   "execution_count": 2,
   "metadata": {},
   "outputs": [
    {
     "name": "stdout",
     "output_type": "stream",
     "text": [
      "Help on function convertF2C in module __main__:\n",
      "\n",
      "convertF2C(in_args)\n",
      "    This code convert Fahrenheit (F) to Celsius (C)\n",
      "    INPUT    : temperature in F\n",
      "    OUTPUT   : temperature in C\n",
      "    Algorithm: C = 9/5*(F-32)\n",
      "\n"
     ]
    }
   ],
   "source": [
    "help(convertF2C)"
   ]
  },
  {
   "cell_type": "markdown",
   "metadata": {},
   "source": [
    "* The **doc string**   \n",
    "\n",
    "Although you can certainly write functional code without a document string, make a habit of always including one. Trust me - you'll be glad you did. The Doc String briefly describes what the code does; weeks after you've written your code, it will remind you of what you did. In addition, you can use it to print out a help message that lets others know what the program does. You should define what the input and output variables are and what the function does.\n",
    "Notice the use of the triple quotes before and after the documentation string - this means that you can write as many lines as you want.   \n",
    "<br>\n",
    "* The function body   \n",
    "\n",
    "This part of the code MUST be *indented*, just like in a **for** loop, or other block of Python code.   \n",
    "<br>\n",
    "* The **return** statement   \n",
    "\n",
    "Python separates the input and output arguments. Incoming arguments are passed through the def statement and returning arguments get shipped out with the return statement. Here is an example with no input arguments, just a return statement:"
   ]
  },
  {
   "cell_type": "code",
   "execution_count": 3,
   "metadata": {},
   "outputs": [
    {
     "name": "stdout",
     "output_type": "stream",
     "text": [
      "6.283185307179586\n"
     ]
    }
   ],
   "source": [
    "def gimmepi():  # define the function\n",
    "    \"\"\"\n",
    "    returns the value of pi     \n",
    "    \"\"\"\n",
    "    return 3.141592653589793\n",
    "\n",
    "twoPi = 2*gimmepi()\n",
    "print (twoPi)"
   ]
  },
  {
   "cell_type": "markdown",
   "metadata": {},
   "source": [
    "* The **scope** of variables (*local* versus *global*) \n",
    "\n",
    "Inside a function, variable names have their own meaning which in many cases will be different from outside the calling function. In other words, variable names declared inside a function stay in the function and cannot be accessed outside the function. For example if we run the following code, you will get a very descriptive error:"
   ]
  },
  {
   "cell_type": "code",
   "execution_count": 20,
   "metadata": {
    "scrolled": true
   },
   "outputs": [
    {
     "ename": "NameError",
     "evalue": "name 'V' is not defined",
     "output_type": "error",
     "traceback": [
      "\u001b[0;31m---------------------------------------------------------------------------\u001b[0m",
      "\u001b[0;31mNameError\u001b[0m                                 Traceback (most recent call last)",
      "\u001b[0;32m<ipython-input-20-5bb8632b1a7f>\u001b[0m in \u001b[0;36m<module>\u001b[0;34m()\u001b[0m\n\u001b[1;32m      6\u001b[0m \u001b[0;34m\u001b[0m\u001b[0m\n\u001b[1;32m      7\u001b[0m \u001b[0mLasVegas\u001b[0m\u001b[0;34m(\u001b[0m\u001b[0;34m)\u001b[0m\u001b[0;34m\u001b[0m\u001b[0m\n\u001b[0;32m----> 8\u001b[0;31m \u001b[0mprint\u001b[0m \u001b[0;34m(\u001b[0m\u001b[0mV\u001b[0m\u001b[0;34m)\u001b[0m\u001b[0;34m\u001b[0m\u001b[0m\n\u001b[0m",
      "\u001b[0;31mNameError\u001b[0m: name 'V' is not defined"
     ]
    }
   ],
   "source": [
    "def LasVegas():\n",
    "    \"\"\" This is a test function\n",
    "    \"\"\"\n",
    "    V='Casinos!' # assign a string to V\n",
    "    return       # V only valid inside LasVegas()\n",
    "\n",
    "LasVegas() # call LasVegas()\n",
    "print (V)"
   ]
  },
  {
   "cell_type": "markdown",
   "metadata": {
    "slideshow": {
     "slide_type": "-"
    }
   },
   "source": [
    "What happened in LasVegas stayed in LasVegas because V was defined in the function and doesn't exist outside.\n",
    "\n",
    "\n",
    "This is true unless you declare a variable to be global. Then it is known outside the function. Here's an example"
   ]
  },
  {
   "cell_type": "code",
   "execution_count": 21,
   "metadata": {},
   "outputs": [
    {
     "name": "stdout",
     "output_type": "stream",
     "text": [
      "Surfing!\n"
     ]
    }
   ],
   "source": [
    "def SanDiego():\n",
    "    \"\"\" This is another test function\n",
    "    \"\"\"\n",
    "    global G     # now G is a global variable\n",
    "    G='Surfing!' # assign a string to V\n",
    "    return # G valid inside and outside SanDiego()\n",
    "\n",
    "SanDiego() # call SanDiego()\n",
    "print (G)"
   ]
  },
  {
   "cell_type": "markdown",
   "metadata": {},
   "source": [
    "Oops - it seems like what happened in **SanDiego** didn't want to stay in **SanDiego**.\n"
   ]
  },
  {
   "cell_type": "markdown",
   "metadata": {},
   "source": [
    "#### 3. More on passing arguments to functions\n",
    "\n",
    "There are three ways to pass arguments into a function:\n",
    "\n",
    "**3.1** Pass one or more arguments, e.g., FuncName(arg1, arg2, ...). This is the most useful way of defining functions. For example the following function only has one argument:"
   ]
  },
  {
   "cell_type": "code",
   "execution_count": 6,
   "metadata": {},
   "outputs": [
    {
     "name": "stdout",
     "output_type": "stream",
     "text": [
      "42 degrees in radians is 0.6981317007977318\n"
     ]
    }
   ],
   "source": [
    "def deg2rad(degrees):  \n",
    "    \"\"\"\n",
    "    This code converts degrees to radians\n",
    "    INPUT:  degree\n",
    "    OUTPUT: radians\n",
    "    \"\"\"\n",
    "    return degrees*3.141592653589793/180.\n",
    "\n",
    "# now let's use the function with input  = 40 degrees\n",
    "print ('42 degrees in radians is',deg2rad(40))"
   ]
  },
  {
   "cell_type": "markdown",
   "metadata": {},
   "source": [
    "In the above function definition, only one parameter is *REQUIRED* for the code to work properly. In some cases you may want to give the function a default value by assign a number to the input argument, simply using **degrees = 0.0**:"
   ]
  },
  {
   "cell_type": "code",
   "execution_count": 7,
   "metadata": {},
   "outputs": [
    {
     "name": "stdout",
     "output_type": "stream",
     "text": [
      "I'm too lazy to give an input argument, so deg2rad() = 0.0\n"
     ]
    }
   ],
   "source": [
    "def deg2rad(degrees=0.0):  # now if you don't specify any input arguments, it sets degrees to zero\n",
    "    \"\"\"\n",
    "    This code converts degrees to radians\n",
    "    INPUT:  degree\n",
    "    OUTPUT: radians\n",
    "    \"\"\"\n",
    "    return degrees*3.141592653589793/180.\n",
    "\n",
    "# now let's use the function without input\n",
    "print ('I\\'m too lazy to give an input argument, so deg2rad() =',deg2rad())"
   ]
  },
  {
   "cell_type": "markdown",
   "metadata": {},
   "source": [
    "Anothe example, the following function takes two parameters "
   ]
  },
  {
   "cell_type": "code",
   "execution_count": 1,
   "metadata": {},
   "outputs": [
    {
     "name": "stdout",
     "output_type": "stream",
     "text": [
      "Please enter yes or no: yes\n"
     ]
    },
    {
     "data": {
      "text/plain": [
       "True"
      ]
     },
     "execution_count": 1,
     "metadata": {},
     "output_type": "execute_result"
    }
   ],
   "source": [
    "def ask_ok(retries=2, reminder='Please try again!'):\n",
    "    \n",
    "    while True:\n",
    "        ok = input('Please enter yes or no: ')\n",
    "        if ok in ('y', 'ye', 'yes', 'yup'):\n",
    "            return True\n",
    "        if ok in ('n', 'no', 'nop', 'nope'):\n",
    "            return False\n",
    "        retries = retries - 1\n",
    "        if retries <= 0:\n",
    "            print('too many tries...invalid user response, exiting!')\n",
    "            return \n",
    "\n",
    "# let's try call the function ask_ok() without arguments\n",
    "# in this case, Python will use the default values as specified in the function definition\n",
    "# with retires = 2 and reminder = 'Please try again!'\n",
    "ask_ok()"
   ]
  },
  {
   "cell_type": "markdown",
   "metadata": {},
   "source": [
    "**3.2** Another way to pass arguments is with a variable number of input arguments. Functions that accept a variable number of arguments are called *variadic functions*. You do this by putting *args* at the **end** of the list of required arguments if any, e.g., (write_multiple_items(file, separator, *args)) Here is a simple example of passing a tuple (variable size) to a function for printing:"
   ]
  },
  {
   "cell_type": "code",
   "execution_count": 3,
   "metadata": {},
   "outputs": [
    {
     "name": "stdout",
     "output_type": "stream",
     "text": [
      "<class 'tuple'>\n",
      "You sent me these arguments: \n",
      "42\n",
      "True\n",
      "[1, 4, 'hi there']\n"
     ]
    }
   ],
   "source": [
    "def print_args(*args):\n",
    "    \"\"\"\n",
    "    prints argument list\n",
    "    \"\"\"\n",
    "    print (type(args))  # args is a tuple that you can step (like a list)\n",
    "    print ('You sent me these arguments: ')\n",
    "    for element in args: # step through all the elements in the input argument\n",
    "        print (element)  # print each element in the input argument\n",
    "        \n",
    "# now let's try call the print_args function with different \n",
    "print_args(42, True, [1,4,'hi there'])"
   ]
  },
  {
   "cell_type": "markdown",
   "metadata": {},
   "source": [
    "**3.3** Another way is to use any number of so-called *keyword-value* pairs. This is done by putting double * (e.g., **args) as the last argument in the argument list. kwargs stands for key word arguments and is treated like a list in the funtion. This is probably not gonna be used a lot throughout this course, so we are not going to talk too much about it. Here's more information from the Python documentation/tutorial:  \n",
    "https://docs.python.org/3/tutorial/controlflow.html#keyword-arguments"
   ]
  },
  {
   "cell_type": "markdown",
   "metadata": {},
   "source": [
    "#### 4. Run the \"Main program\" as a function\n",
    "\n",
    "It is usually considered as good Python style to treat your main program block as a function too. (This helps with using the \"doc string\" as a help function and building good program documentation in a large project.) As a good practice, I recommend that you try start doing it that way too.   \n",
    "\n",
    "To do this, it is really simple, you just have to call the main program (usually called **main()**) in the final (not indented) line. Here's an example:"
   ]
  },
  {
   "cell_type": "code",
   "execution_count": 10,
   "metadata": {},
   "outputs": [
    {
     "name": "stdout",
     "output_type": "stream",
     "text": [
      "75.0 degrees in radians is 1.3089969389957472\n",
      "75.0 F in Celsius is 23.88888888888889\n"
     ]
    }
   ],
   "source": [
    "# fist define all the functions that's needed in your python main program\n",
    "def deg2rad(degrees):  \n",
    "    \"\"\"\n",
    "    converts degrees to radians\n",
    "    \"\"\"\n",
    "    return degrees*3.141592653589793/180.\n",
    "\n",
    "def convertF2C(in_args):\n",
    "    \"\"\"\n",
    "    This code convert Fahrenheit (F) to Celsius (C)\n",
    "    INPUT    : temperature in F\n",
    "    OUTPUT   : temperature in C\n",
    "    Algorithm: C = 9/5*(F-32)\n",
    "    \"\"\"\n",
    "    out_args = (in_args - 32.0)*5.0/9.0\n",
    "    return out_args\n",
    "\n",
    "# then put all the codes together in the main() program\n",
    "def main():\n",
    "    \n",
    "    my_degree     = 75.0\n",
    "    my_fahrenheit = 75.0\n",
    "    \n",
    "    my_radian  = deg2rad(my_degree)\n",
    "    my_celsius = convertF2C(my_fahrenheit)\n",
    "    \n",
    "    print(my_degree,'degrees in radians is',my_radian)\n",
    "    print(my_fahrenheit,'F in Celsius is',my_celsius)\n",
    "    \n",
    "# now run the main program, it's in the last line of your code without indentation  \n",
    "main()"
   ]
  },
  {
   "cell_type": "markdown",
   "metadata": {},
   "source": [
    "Notice how all the functions precede the main function. This is because Python is not compiled and executes things in order. All of the functions and variables must be defined before they're called, otherwise the interpreter won't recognize them.   \n",
    "\n",
    "You may wonder how we've called functions (e.g., str( ), int( ), and float( )) that we did not define in our script. These are more built in Python functions that are accessible to every Python script. Here is a list for more build-in functions in Python that you can use directly withou defining them by yourself:   \n",
    "\n",
    "https://docs.python.org/3/library/functions.html\n",
    "\n"
   ]
  },
  {
   "cell_type": "markdown",
   "metadata": {},
   "source": [
    "### B. Introduction to Modules"
   ]
  },
  {
   "cell_type": "markdown",
   "metadata": {},
   "source": [
    "#### 1. What are modules? Why we need modules? How to write a module?\n",
    "\n",
    "Before we start to learn popular Python modules, let's try something more fundamental - why do we need modules and how do you develop your own module (you probably don't need to do that for this course but it's always good to know the very basics for your future reference.  \n",
    "\n",
    "Recall that we have defined a couple of \"useful\" functions in the previous notebook, e.g., <span style=\"color:blue\">gimmepi</span>(), <span style=\"color:blue\">deg2rad</span>(), and <span style=\"color:blue\">SanDiego</span>() etc., What if you wanted to use those functions later in a different Jupyter notebook for your homework assignment? Of course you can re-define them by simply copy-paste to your new Jupyter notebook. But when you have more than 100 functions to copy-paste, it's not efficient and definitely a waste of time. Here when **modules** get handy.   \n",
    "\n",
    "So let's say I put those three functions in a new file called myfuncs.py and save it to the current directly where your Jupyter notebook files are located. To do this, you can click on the 'Home' button in you Jupyter notebook page, then go to the directory where your working notebook file is. Click on 'New' and choose Text File.\n",
    "\n",
    "Copy the following code to the new text file:"
   ]
  },
  {
   "cell_type": "code",
   "execution_count": 11,
   "metadata": {},
   "outputs": [],
   "source": [
    "def deg2rad(degrees):  \n",
    "    \"\"\"\n",
    "    converts degrees to radians\n",
    "    \"\"\"\n",
    "    return degrees*3.141592653589793/180.\n",
    "\n",
    "def convertF2C(in_args):\n",
    "    \"\"\"\n",
    "    This code convert Fahrenheit (F) to Celsius (C)\n",
    "    INPUT    : temperature in F\n",
    "    OUTPUT   : temperature in C\n",
    "    Algorithm: C = 9/5*(F-32)\n",
    "    \"\"\"\n",
    "    out_args = (in_args - 32.0)*5.0/9.0\n",
    "    return out_args\n",
    "    \n",
    "def SanDiego():\n",
    "    global G\n",
    "    G='Surfing!'"
   ]
  },
  {
   "cell_type": "markdown",
   "metadata": {},
   "source": [
    "Then save it as a python script named **myfuncs.py**. Now you can import myfuncs, which will make all your hard work available to you in your notebook. To access a particular function, use the syntax **module.function( )**. Here is an example:"
   ]
  },
  {
   "cell_type": "code",
   "execution_count": 12,
   "metadata": {},
   "outputs": [
    {
     "name": "stdout",
     "output_type": "stream",
     "text": [
      "0.7853981633974483\n",
      "7.222222222222222\n"
     ]
    }
   ],
   "source": [
    "import myfuncs # import your own module calld myfuncs (that's the .py script you just saved to your directory)\n",
    "               # this module has three functions, deg2rad(), convertF2C(), SanDiego()\n",
    "\n",
    "print(myfuncs.deg2rad(45))    # call the function deg2rad and print the results\n",
    "print(myfuncs.convertF2C(45)) # call the function convertF2C and print the results"
   ]
  },
  {
   "cell_type": "markdown",
   "metadata": {},
   "source": [
    "And some other things become possible like getting the document string. Try help( ) as we used before:"
   ]
  },
  {
   "cell_type": "code",
   "execution_count": 13,
   "metadata": {
    "scrolled": false
   },
   "outputs": [
    {
     "name": "stdout",
     "output_type": "stream",
     "text": [
      "Help on module myfuncs:\n",
      "\n",
      "NAME\n",
      "    myfuncs\n",
      "\n",
      "FUNCTIONS\n",
      "    SanDiego()\n",
      "    \n",
      "    convertF2C(in_args)\n",
      "        This code convert Fahrenheit (F) to Celsius (C)\n",
      "        INPUT    : temperature in F\n",
      "        OUTPUT   : temperature in C\n",
      "        Algorithm: C = 9/5*(F-32)\n",
      "    \n",
      "    deg2rad(degrees)\n",
      "        converts degrees to radians\n",
      "\n",
      "FILE\n",
      "    /Users/bzhang/Dropbox/Teaching/Python for Earth Sciences/Notebooks/myfuncs.py\n",
      "\n",
      "\n"
     ]
    }
   ],
   "source": [
    "help(myfuncs) "
   ]
  },
  {
   "cell_type": "markdown",
   "metadata": {},
   "source": [
    "And here's more basic information about Python modules:  https://docs.python.org/3/tutorial/modules.html#modules   \n",
    "\n",
    "#### 2. Useful modules for scientific data analysis\n",
    "\n",
    "##### Standard Modules\n",
    "\n",
    "* the **os** module: provides functions for interacting with the operating system\n",
    "* the **sys** module: provides access to some variables used or maintained by the interpreter and to functions that interact strongly with the interpreter\n",
    "* the **math** module: provides access to the mathematical functions defined by the C standard.\n",
    "* the **datetime** module: supplies classes for manipulating dates and times in both simple and complex ways.   \n",
    "\n",
    "  These modules are always available. For more details, see the Python documentation here:  https://docs.python.org/3/tutorial/stdlib.html#brief-tour-of-the-standard-library   \n",
    "  \n",
    "Let's try the **os** and **math** modules here to learn how you load and use functions from a standard module"
   ]
  },
  {
   "cell_type": "code",
   "execution_count": 14,
   "metadata": {
    "scrolled": false
   },
   "outputs": [
    {
     "data": {
      "text/plain": [
       "'/Users/bzhang/Dropbox/Teaching/Python for Earth Sciences/Notebooks'"
      ]
     },
     "execution_count": 14,
     "metadata": {},
     "output_type": "execute_result"
    }
   ],
   "source": [
    "import os # import the \"os\" module\n",
    "\n",
    "os.getcwd() # Return the current working directory "
   ]
  },
  {
   "cell_type": "markdown",
   "metadata": {},
   "source": [
    "Here's how the above code works (line-by-line analysis): \n",
    "\n",
    "*Line 1* <span style=\"color:green\">**import**</span> os:  \n",
    "* To load a module into your current working environment, simply use the reserved word <span style=\"color:green\">**import**</span>: the first line here tells the system that you want to use a module named **os**\n",
    "\n",
    "*Line 3* os.getcwd():  \n",
    "* Now we are calling a function from **os** named \"getcwd\" (which means \"**g**et **c**urrent **d**irectory\"). This function returns the current working directory and print it on you screen.   \n",
    "\n",
    "More about the **os** module can be found in https://docs.python.org/3/tutorial/stdlib.html#operating-system-interface  \n",
    "\n",
    "Now let's try load the **math** module"
   ]
  },
  {
   "cell_type": "code",
   "execution_count": 15,
   "metadata": {},
   "outputs": [
    {
     "name": "stdout",
     "output_type": "stream",
     "text": [
      "3.141592653589793\n",
      "0.8090169943749475\n",
      "10.0\n"
     ]
    }
   ],
   "source": [
    "import math # import the \"math\" module, and use \"mt\" as a short name\n",
    "\n",
    "print(math.pi)                 # give me pi\n",
    "print(math.cos(math.pi/5.0))   # cosine function\n",
    "print(math.log(1024,2))        # logrithm function"
   ]
  },
  {
   "cell_type": "markdown",
   "metadata": {},
   "source": [
    "You can also re-name your **math** module such as **mt**:"
   ]
  },
  {
   "cell_type": "code",
   "execution_count": 16,
   "metadata": {},
   "outputs": [
    {
     "name": "stdout",
     "output_type": "stream",
     "text": [
      "3.141592653589793\n",
      "0.8090169943749475\n",
      "10.0\n"
     ]
    }
   ],
   "source": [
    "import math as mt # import the \"math\" module, and use \"mt\" as a short name\n",
    "print(mt.pi)                 # give me pi\n",
    "print(mt.cos(mt.pi/5.0))   # cosine function\n",
    "print(mt.log(1024,2))        # logrithm function"
   ]
  },
  {
   "cell_type": "markdown",
   "metadata": {},
   "source": [
    "You can also use the * operator to tell the system that you don't want use a prefix when you are using all the functions from the **math** module. In this case you use: the following syntax:  \n",
    "\n",
    "**from** XXX **import** *"
   ]
  },
  {
   "cell_type": "code",
   "execution_count": 17,
   "metadata": {},
   "outputs": [
    {
     "name": "stdout",
     "output_type": "stream",
     "text": [
      "3.141592653589793\n",
      "0.8090169943749475\n",
      "10.0\n"
     ]
    }
   ],
   "source": [
    "from math import *   # import the \"math\" module, and use no prefix \n",
    "print(pi)            # give me pi\n",
    "print(cos(pi/5.0))   # cosine function\n",
    "print(log(1024,2)) "
   ]
  },
  {
   "cell_type": "markdown",
   "metadata": {},
   "source": [
    "More functions included in the **math** module can be found at https://docs.python.org/3/tutorial/stdlib.html#mathematics\n",
    "\n",
    "Now you don't need to use the prefix **math** or **mt** when calling all the functions and variables in the **math** module.  It looks very convenient, but what's a potential problem here?"
   ]
  },
  {
   "cell_type": "markdown",
   "metadata": {},
   "source": [
    "Here is another useful module called \"**datetime**\", which is frequently used in Python codes to manipulate dates and times"
   ]
  },
  {
   "cell_type": "code",
   "execution_count": 14,
   "metadata": {
    "scrolled": true
   },
   "outputs": [
    {
     "name": "stdout",
     "output_type": "stream",
     "text": [
      "<class 'datetime.date'>\n",
      "2019-01-22\n",
      "875\n"
     ]
    }
   ],
   "source": [
    "from datetime import date # only load the \"date\" module from the datetime module\n",
    "\n",
    "now = date.today()        # \"now\" is an object of \"date\", use the method .today(), gives your the current date\n",
    "print(type(now))          # print the data type\n",
    "print(now)                # print the date today\n",
    "\n",
    "graduate = date(2021, 6, 15) # define a new \"date\" object\n",
    "days_left = graduate - now          # calculate the difference bewteen now and birthday\n",
    "print(days_left.days)               # print out the difference in days"
   ]
  },
  {
   "cell_type": "markdown",
   "metadata": {},
   "source": [
    "More functions included in the **datetime** module can be found at  https://docs.python.org/3/library/datetime.html\n",
    "\n",
    "Airhgt, you've done Lecture 5, we will spend next week on the following three important modules: \n",
    "\n",
    "##### Numerical Analysis Modules\n",
    "\n",
    "* the **numpy** module: the fundamental package for scientific computing and analysis with Python.\n",
    "* the **scipy** module: a collection of numerical algorithms and domain-specific toolboxes, including signal processing, optimization, statistics and much more\n",
    "\n",
    "##### Visualization Modules\n",
    "\n",
    "* the **matplotlib** module: a mature and popular plotting package, that provides publication-quality 2D plotting as well as rudimentary 3D plotting"
   ]
  }
 ],
 "metadata": {
  "kernelspec": {
   "display_name": "Python 3.7.1 ('bert_chinese')",
   "language": "python",
   "name": "python3"
  },
  "language_info": {
   "codemirror_mode": {
    "name": "ipython",
    "version": 3
   },
   "file_extension": ".py",
   "mimetype": "text/x-python",
   "name": "python",
   "nbconvert_exporter": "python",
   "pygments_lexer": "ipython3",
   "version": "3.7.1"
  },
  "vscode": {
   "interpreter": {
    "hash": "53212d6bd219dd71a1dd1974b202da0e24447591239b9cfd3b7797526bde5b81"
   }
  }
 },
 "nbformat": 4,
 "nbformat_minor": 2
}
