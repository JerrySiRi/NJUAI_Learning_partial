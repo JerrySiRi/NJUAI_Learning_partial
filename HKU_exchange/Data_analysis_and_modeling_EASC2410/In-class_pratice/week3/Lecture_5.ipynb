{
 "cells": [
  {
   "cell_type": "markdown",
   "metadata": {},
   "source": [
    "## Review of Lecture 4\n",
    "\n",
    "### In lecture 4, we learned \n",
    "\n",
    "* Functions\n",
    "* Modules"
   ]
  },
  {
   "cell_type": "markdown",
   "metadata": {},
   "source": [
    "## Lecture 5, Numpy and Matplotlib\n",
    "\n",
    "In this lecture, we will take a first look at two very useful Python modules called **numpy** and **matplotlib**. Most of the data analysis in this class will be done nicely by using these two maodules (also the **pandas** module which will be introduced later). \n",
    "\n",
    "### A. Introduction to numpy\n"
   ]
  },
  {
   "cell_type": "markdown",
   "metadata": {},
   "source": [
    "How do you pronounce the word \"**numpy**\"? - the standard should be \"Num\" as in \"Number\" and \"Pie\" as it is (or **Py**thon). You can also call it *Num-Pee*...  \n",
    "\n",
    "Now remember how do we load a module in Python? the **import** command. Let's first try load **numpy** into you Python and use the square root function sqrt( ):"
   ]
  },
  {
   "cell_type": "code",
   "execution_count": 23,
   "metadata": {},
   "outputs": [
    {
     "name": "stdout",
     "output_type": "stream",
     "text": [
      "3.141592653589793\n",
      "3.0\n"
     ]
    }
   ],
   "source": [
    "import numpy\n",
    "\n",
    "# This import command makes all the functions in NumPy available to you for analyzing your data.\n",
    "# Remember, you must call them with the numpy.FUNC() syntax unless you give it a nickname\n",
    "\n",
    "print(numpy.pi)   # pi\n",
    "print(numpy.sqrt(9)) # sqrt function"
   ]
  },
  {
   "cell_type": "markdown",
   "metadata": {},
   "source": [
    "Remember from the last lecture, there are many different ways you can use the import command. Each way allows your program to access the functions and variables defined in the imported package, but differs in how you call the function after importing:"
   ]
  },
  {
   "cell_type": "code",
   "execution_count": 25,
   "metadata": {},
   "outputs": [
    {
     "name": "stdout",
     "output_type": "stream",
     "text": [
      "3.141592653589793\n",
      "3.0\n"
     ]
    }
   ],
   "source": [
    "# Here is another way to import a module:  \n",
    "import numpy as np  # or any other variable e.g.:  N\n",
    "# This does the same as the first, but allows you to set NumPy as a variable\n",
    "\n",
    "# In this case, you substitute \"np\" for numpy:\n",
    "\n",
    "print(np.pi)\n",
    "print(np.sqrt(9))  # or N.pi in the second case."
   ]
  },
  {
   "cell_type": "markdown",
   "metadata": {},
   "source": [
    "Or the most lazy way to import the **numpy** module by using the * (not recommanded):"
   ]
  },
  {
   "cell_type": "code",
   "execution_count": 3,
   "metadata": {},
   "outputs": [
    {
     "name": "stdout",
     "output_type": "stream",
     "text": [
      "3.141592653589793\n",
      "3.0\n",
      "1.2246467991473532e-16\n"
     ]
    }
   ],
   "source": [
    "from numpy import * # now all the functions are available directly, without the initial module name\n",
    "\n",
    "print(pi)\n",
    "print(sqrt(9.0))\n",
    "print(sin(pi))"
   ]
  },
  {
   "cell_type": "markdown",
   "metadata": {},
   "source": [
    "**TIP**: I would recommand you to import the numpy package using the **np** option above, which is very commonly used in other people's Python codes. That way you know clearly where the functions come from (they are from numpy). This is useful, becuase we don't use or know ALL of the functions available in any given package. A function defined in the package could conflict with one defined in your program. Similarly, two different packages or modules could have the same function or variable name."
   ]
  },
  {
   "cell_type": "markdown",
   "metadata": {},
   "source": [
    "### (Partial) List of NumPy functions\n",
    "\n",
    "**1. Basic functions**:\n",
    "\n",
    "|function | purpose|\n",
    "|------------ |--------------|\n",
    "| absolute(x)  | absolute value|\n",
    "| degrees(x)   |Convert angles from radians to degrees |\n",
    "| radians(x)    | Convert angles from degrees to radians |\n",
    "| deg2rad(x)    | Convert angles from degrees to radians |\n",
    "| rad2deg(x)  |Convert angles from radians to degrees| \n"
   ]
  },
  {
   "cell_type": "markdown",
   "metadata": {},
   "source": [
    "**2. Trigonometric functions**:\n",
    "\n",
    "|function | purpose|\n",
    "|------------ |--------------|\n",
    "| arccos(x)   |arccosine |\n",
    "| arcsin(x)    | arcsine |\n",
    "| arctan(x)    | arctangent |\n",
    "| arctan2(y,x)  |arctangent of y/x in correct quadrant| \n",
    "| cos(x)        |cosine |\n",
    "| sin(x)       | sine |\n",
    "| tan(x)      |  tangent |"
   ]
  },
  {
   "cell_type": "markdown",
   "metadata": {},
   "source": [
    "**3. Exponents and Logarithms functions**:\n",
    "\n",
    "|function | purpose|\n",
    "|------------ |--------------|\n",
    "| exp(x)   |Calculate the exponential of all elements in the input array |\n",
    "| log(x)    | Natural logarithm, element-wise |\n",
    "| log2(x)    | Base-2 logarithm of x |\n",
    "| log10(x)        |Return the base 10 logarithm of the input array, element-wise |"
   ]
  },
  {
   "cell_type": "markdown",
   "metadata": {},
   "source": [
    "**4. Rounding functions**:\n",
    "\n",
    "|function | purpose|\n",
    "|------------ |--------------|\n",
    "| round(x)   |Round an array to the given number of decimals |\n",
    "| floor(y,x)  |Return the floor of the input, element-wise | \n",
    "| ceil(x)        |Return the ceiling of the input, element-wise |\n",
    "| trunc(x)      | Return the truncated value of the input, element-wise |\n",
    "\n"
   ]
  },
  {
   "cell_type": "markdown",
   "metadata": {},
   "source": [
    "**5. Sums, products, differences**:\n",
    "\n",
    "|function | purpose|\n",
    "|------------ |--------------|\n",
    "| sum(x)  | Sum of array elements over a given axis|\n",
    "| prod(x)   |Return the product of array elements over a given axis |\n",
    "| trunc(x)      | Return the truncated value of the input, element-wise |\n",
    "| diff(x)  | Calculate the n-th discrete difference along given axis|\n",
    "| gradient(x)   |Return the gradient of an N-dimensional array |\n",
    "| cross(x,y)      | Return the cross product of two (arrays of) vectors |\n",
    "| trapz(x,y)      | Integrate along the given axis using the composite trapezoidal rule |\n",
    "\n"
   ]
  },
  {
   "cell_type": "markdown",
   "metadata": {},
   "source": [
    "**6. Miscellaneous**:\n",
    "\n",
    "|function | purpose|\n",
    "|------------ |--------------|\n",
    "| sqrt(x)  | Return the positive square-root of an array, element-wise|\n",
    "| square(x)   |Return the element-wise square of the input |\n",
    "| fabs(x)      | Compute the absolute values element-wise |\n",
    "| sign(x)  | Returns an element-wise indication of the sign of a number|\n",
    "| max(x)   |Element-wise maximum of array elements |\n",
    "| min(x)      | Element-wise minimum of array elements|\n",
    "\n",
    "\n"
   ]
  },
  {
   "cell_type": "markdown",
   "metadata": {},
   "source": [
    "More information about basic math functions in numpy can be found here: https://docs.scipy.org/doc/numpy-1.13.0/reference/routines.math.html"
   ]
  },
  {
   "cell_type": "markdown",
   "metadata": {},
   "source": [
    "### arrays in Python - please see the lecture notes\n",
    "\n",
    "### Defining numpy arrays\n",
    "\n",
    "Arrays are somewhat similar to lists \n",
    "\n",
    "**Recall**: Arrays are collection of data with different types, they are:  \n",
    "* Powerful\n",
    "* hold different data types\n",
    "* change, append, remove, etc.\n",
    "* Need for data analysis: mathematical operations over collections and speed  \n",
    "\n",
    "For example, you have a list of weight and another list of height of your patients:\n",
    "\n"
   ]
  },
  {
   "cell_type": "code",
   "execution_count": 4,
   "metadata": {},
   "outputs": [
    {
     "data": {
      "text/plain": [
       "(list, list)"
      ]
     },
     "execution_count": 4,
     "metadata": {},
     "output_type": "execute_result"
    }
   ],
   "source": [
    "# here are the list of heights and weights\n",
    "height = [1.73, 1.68, 1.71, 1.89, 1.79]\n",
    "weight = [65.4, 59.2, 63.6, 88.4, 68.7]\n",
    "\n",
    "# print the types of the two lists - of course they are lists..\n",
    "type(height), type(weight)"
   ]
  },
  {
   "cell_type": "markdown",
   "metadata": {},
   "source": [
    "Now what if I wand to calculate the body mass ratio (BMI) of my patients using the height and weight list using $BMI = \\frac{weight}{height^2}$. If you try working with the list directly using mathematical operators */* and ****, you get an error message:"
   ]
  },
  {
   "cell_type": "code",
   "execution_count": 5,
   "metadata": {},
   "outputs": [
    {
     "ename": "TypeError",
     "evalue": "unsupported operand type(s) for ** or pow(): 'list' and 'int'",
     "output_type": "error",
     "traceback": [
      "\u001b[0;31m---------------------------------------------------------------------------\u001b[0m",
      "\u001b[0;31mTypeError\u001b[0m                                 Traceback (most recent call last)",
      "\u001b[0;32m<ipython-input-5-05b4eda41695>\u001b[0m in \u001b[0;36m<module>\u001b[0;34m\u001b[0m\n\u001b[0;32m----> 1\u001b[0;31m \u001b[0mbmi\u001b[0m \u001b[0;34m=\u001b[0m \u001b[0mweight\u001b[0m \u001b[0;34m/\u001b[0m \u001b[0mheight\u001b[0m \u001b[0;34m**\u001b[0m \u001b[0;36m2\u001b[0m\u001b[0;34m\u001b[0m\u001b[0;34m\u001b[0m\u001b[0m\n\u001b[0m",
      "\u001b[0;31mTypeError\u001b[0m: unsupported operand type(s) for ** or pow(): 'list' and 'int'"
     ]
    }
   ],
   "source": [
    "bmi = weight / height ** 2"
   ]
  },
  {
   "cell_type": "markdown",
   "metadata": {},
   "source": [
    "In this case, you need to write a **for**-loop or a **while**-loop to step through all the numbers in you list, such as:"
   ]
  },
  {
   "cell_type": "code",
   "execution_count": 1,
   "metadata": {},
   "outputs": [
    {
     "name": "stdout",
     "output_type": "stream",
     "text": [
      "[21.85171572722109, 20.97505668934241, 21.750282138093777, 25.027294868564713, 21.44127836209856]\n"
     ]
    }
   ],
   "source": [
    "# here are the list of heights and weights\n",
    "height = [1.73, 1.68, 1.71, 1.89, 1.79]\n",
    "weight = [65.4, 59.2, 63.6, 89.4, 68.7]\n",
    "\n",
    "N = len(height) # len() function gives the length of the list, then assign to N\n",
    "bmi = []        # define an empty list named \"bmi\" to store the values of each BMI\n",
    "for i in range(N):\n",
    "    bmi.append(weight[i]/height[i]**2) # calculate BMI for each element and append to the bmi list\n",
    "\n",
    "print(bmi) # print the results"
   ]
  },
  {
   "cell_type": "markdown",
   "metadata": {},
   "source": [
    "Or, we can use the zip( ) function to loop through two lists at the same time:"
   ]
  },
  {
   "cell_type": "code",
   "execution_count": 5,
   "metadata": {},
   "outputs": [
    {
     "name": "stdout",
     "output_type": "stream",
     "text": [
      "[21.85171572722109, 20.97505668934241, 21.750282138093777, 25.027294868564713, 21.44127836209856]\n"
     ]
    }
   ],
   "source": [
    "height = [1.73, 1.68, 1.71, 1.89, 1.79]\n",
    "weight = [65.4, 59.2, 63.6, 89.4, 68.7]\n",
    "\n",
    "bmi = [] # create an empty list for bmi\n",
    "for (i,j) in zip(weight, height): # here i will iterate through the list \"weight\", \n",
    "                                  #  and j will interate through \"height\"\n",
    "    bmi.append(i/j**2) # compute BMI\n",
    "    \n",
    "print(bmi) # print the results"
   ]
  },
  {
   "cell_type": "markdown",
   "metadata": {},
   "source": [
    "The **for** loop does get the job done by stepping through each element in the lists, however, it's quite tedious and, actually, unnecessary. This is when **numpy** comes handy. In this case, you can define both *height* and *weight* as **numpy arrays**, and you can do the element-wise calculations directly using the operators:"
   ]
  },
  {
   "cell_type": "code",
   "execution_count": 19,
   "metadata": {},
   "outputs": [
    {
     "name": "stdout",
     "output_type": "stream",
     "text": [
      "<class 'list'> <class 'list'>\n",
      "<class 'numpy.ndarray'> <class 'numpy.ndarray'>\n",
      "<class 'numpy.ndarray'>\n",
      "[21.85171573 20.97505669 21.75028214 27.82676857 30.80428201]\n"
     ]
    }
   ],
   "source": [
    "import numpy as np  # or any other variable e.g.:  N\n",
    "\n",
    "# first let's define two Python lists called height and weight\n",
    "height = [1.73, 1.68, 1.71, 1.89, 1.79]\n",
    "weight = [65.4, 59.2, 63.6, 99.4, 98.7]\n",
    "\n",
    "print(type(weight), type(height))\n",
    "\n",
    "# now let's make corresponding numpy arrays using the .array() method\n",
    "np_height = np.array(height)\n",
    "np_weight = np.array(weight)\n",
    "\n",
    "print(type(np_weight), type(np_height))\n",
    "\n",
    "bmi = np_weight/np_height**2\n",
    "\n",
    "print(type(bmi))\n",
    "print(bmi)"
   ]
  },
  {
   "cell_type": "markdown",
   "metadata": {},
   "source": [
    "So the numpy arrays are better solutions to this kind of element-wise calculations for numerical lists:\n",
    "\n",
    "* Numeric calculations in Python\n",
    "* Numpy arrays are alternative to Python Lists\n",
    "* Calculations over entire arrays\n",
    "* Easy to use and very fast  \n",
    "\n",
    "You can work with your numpy arrays using most of the operators we've learned in previous lectures, Python knows that it's a numpy array, it steps through all the elements in a numpy array. For example, if we want to know whether someone's BMI is greater or less than 25, simply do:"
   ]
  },
  {
   "cell_type": "code",
   "execution_count": 4,
   "metadata": {},
   "outputs": [
    {
     "name": "stdout",
     "output_type": "stream",
     "text": [
      "<class 'numpy.ndarray'> [False False False  True  True]\n"
     ]
    }
   ],
   "source": [
    "fat = bmi > 25 # relational operation see whose bmi is greater than 25\n",
    "print(type(fat),fat)"
   ]
  },
  {
   "cell_type": "markdown",
   "metadata": {},
   "source": [
    "here \"fat\" is another array that each element gives you True or False depending on whether the bmi is greater than 25, and if you do the following, it gives you the numbers of bmi which are greater than 25:"
   ]
  },
  {
   "cell_type": "code",
   "execution_count": 5,
   "metadata": {},
   "outputs": [
    {
     "data": {
      "text/plain": [
       "array([27.82676857, 30.80428201])"
      ]
     },
     "execution_count": 5,
     "metadata": {},
     "output_type": "execute_result"
    }
   ],
   "source": [
    "bmi[fat] # slice to the value with BMI > 25"
   ]
  },
  {
   "cell_type": "markdown",
   "metadata": {},
   "source": [
    "### More operations using NumPy arrays  \n",
    "\n",
    "Note that, to specify a condition, you can also make use of the logical operators or and and. For example you want to see if there's anyone whose weight is greater than 65 and height is less than 1.75, you can simply use the relational operator \">\" and \"<\" we've learned before, and combine them with the logical operator \"&\" (and): (the \"or\" operator is \"|\")"
   ]
  },
  {
   "cell_type": "code",
   "execution_count": 62,
   "metadata": {},
   "outputs": [
    {
     "name": "stdout",
     "output_type": "stream",
     "text": [
      "[ True False False False False]\n"
     ]
    }
   ],
   "source": [
    "heavy_and_short = (np_weight > 65.0) & (np_height < 1.75) # find if someone is both heavier than 65kg and shorter than 1.75m\n",
    "print(heavy_and_short)"
   ]
  },
  {
   "cell_type": "markdown",
   "metadata": {},
   "source": [
    "Now the array heavy_and_short consists of a series of booleans which tells you whether someone satifies both of your criteria. To access the weight and height of that person, you can use the array heavy_and_short as your numpy array index:"
   ]
  },
  {
   "cell_type": "code",
   "execution_count": 63,
   "metadata": {},
   "outputs": [
    {
     "name": "stdout",
     "output_type": "stream",
     "text": [
      "[65.4]\n",
      "[1.73]\n"
     ]
    }
   ],
   "source": [
    "print( np_weight[heavy_and_short] ) # print the weight of the persion who's both heavy and short\n",
    "print( np_height[heavy_and_short] ) # print the weight of the persion who's both heavy and short"
   ]
  },
  {
   "cell_type": "markdown",
   "metadata": {},
   "source": [
    "You can also use numpy *methods* to do simple statistics on numpy arrays, let's try the min, max, mean, sum and standard deviation functions"
   ]
  },
  {
   "cell_type": "code",
   "execution_count": 73,
   "metadata": {},
   "outputs": [
    {
     "name": "stdout",
     "output_type": "stream",
     "text": [
      "59.2\n",
      "99.4\n",
      "77.26\n",
      "386.3\n",
      "17.906825514311574\n"
     ]
    },
    {
     "data": {
      "text/plain": [
       "65.4"
      ]
     },
     "execution_count": 73,
     "metadata": {},
     "output_type": "execute_result"
    }
   ],
   "source": [
    "print (np_weight.min())  # print the minimum value      in the np_weight list\n",
    "print (np_weight.max())  # print the maximim value      in the np_weight list\n",
    "print (np_weight.mean()) # print the average value      in the np_weight list\n",
    "print (np_weight.sum())  # print the sum of the weights in the np_weight list\n",
    "print (np_weight.std())  # print the standard deviation in the np_weight list"
   ]
  },
  {
   "cell_type": "markdown",
   "metadata": {},
   "source": [
    "However the **median** *function* works in a slightly different way (but very simple):"
   ]
  },
  {
   "cell_type": "code",
   "execution_count": 74,
   "metadata": {},
   "outputs": [
    {
     "name": "stdout",
     "output_type": "stream",
     "text": [
      "65.4\n"
     ]
    }
   ],
   "source": [
    "print (np.median(np_weight))  # print the median value in the np_weight list"
   ]
  },
  {
   "cell_type": "code",
   "execution_count": 15,
   "metadata": {},
   "outputs": [
    {
     "data": {
      "text/plain": [
       "array([20.97505669, 21.75028214, 21.85171573, 27.82676857, 30.80428201])"
      ]
     },
     "execution_count": 15,
     "metadata": {},
     "output_type": "execute_result"
    }
   ],
   "source": [
    "np.sort(bmi)\n"
   ]
  },
  {
   "cell_type": "markdown",
   "metadata": {},
   "source": [
    "Beside mathematical and logical operations, you can also append, insert and delete elements in a numpy array:"
   ]
  },
  {
   "cell_type": "code",
   "execution_count": 83,
   "metadata": {},
   "outputs": [
    {
     "name": "stdout",
     "output_type": "stream",
     "text": [
      "[ 65.4  59.2  63.6  99.4  98.7  78.1  63.9 108.2]\n",
      "[ 65.4  77.7  59.2  63.6  99.4  98.7  78.1  63.9 108.2]\n",
      "[ 77.7  59.2  63.6  99.4  98.7  78.1  63.9 108.2]\n"
     ]
    }
   ],
   "source": [
    "new_weight = np.append(np_weight,[78.1, 63.9, 108.2]) # append another three weight to the np_weight array \n",
    "print(new_weight) # print the results\n",
    "\n",
    "new_weight = np.insert(new_weight,1,77.7) # insert 77.7 at index 1 (the second element is changed)\n",
    "print(new_weight) # print the results\n",
    "\n",
    "new_weight = np.delete(new_weight,[0]) # delete the first element\n",
    "print(new_weight) # print the results"
   ]
  },
  {
   "cell_type": "markdown",
   "metadata": {},
   "source": [
    "### More ways to creat NumPy arrays   \n",
    "\n",
    "What people often mean when they say that they are creating “empty” arrays is that they want to make use of initial placeholders, which you can fill up afterwards. You can initialize arrays with ones or zeros, but you can also make arrays that get filled up with evenly spaced values, constant or random values. Here are more ways to creat 1-D numpy arrays using the following functions (we will talk about 2-D arrays in the next lectures)\n",
    "\n"
   ]
  },
  {
   "cell_type": "code",
   "execution_count": 19,
   "metadata": {},
   "outputs": [
    {
     "name": "stdout",
     "output_type": "stream",
     "text": [
      "[1. 1. 1. 1.]\n",
      "[0 0 0 0 0]\n",
      "[0.26298286 0.97498731 0.78752137 0.88933936 0.41598039 0.76355419]\n",
      "[0. 0. 0. 0. 0. 0. 0.]\n",
      "[7 7 7 7 7 7 7 7]\n",
      "[10 11 12 13 14 15 16 17 18 19 20 21 22 23 24]\n",
      "[0.   0.25 0.5  0.75 1.   1.25 1.5  1.75 2.  ]\n"
     ]
    }
   ],
   "source": [
    "# Create an array of ones\n",
    "print( np.ones((4)) )\n",
    "\n",
    "# Create an array of zeros\n",
    "print( np.zeros((5),dtype=np.int16) )\n",
    "\n",
    "# Create an array with random values\n",
    "print( np.random.random((6)) )\n",
    "\n",
    "# Create an empty array\n",
    "print( np.empty((7)) )\n",
    "\n",
    "# Create a full array\n",
    "print( np.full(8,7) )\n",
    "\n",
    "# Create an array of evenly-spaced values\n",
    "print( np.arange(10,25,1) )\n",
    "\n",
    "# Create an array of evenly-spaced values\n",
    "print( np.linspace(0,2,9) )"
   ]
  },
  {
   "cell_type": "markdown",
   "metadata": {},
   "source": [
    "### Index slicing in 1-D Numpy arrays\n",
    "\n",
    "Similar to lists (also string variables), you can access a specific subset of a 1-D numpy array using the index method we've learned before, using square brackets [ ] as the index operator. For example:"
   ]
  },
  {
   "cell_type": "code",
   "execution_count": 47,
   "metadata": {},
   "outputs": [
    {
     "name": "stdout",
     "output_type": "stream",
     "text": [
      "[11 12 13 14 15 16 17 18 19 20 21 22 23 24]\n",
      "12\n",
      "24\n",
      "[13 14 15 16 17 18 19 20]\n",
      "[13 15 17 19]\n",
      "[13 14 15 16 17 18 19 20 21 22 23 24]\n"
     ]
    }
   ],
   "source": [
    "# define an numpy array called num, all integers, starts from 11, stops at 24\n",
    "num =  np.arange(11,25,1) # or if you do np.linspace(11,25,15)\n",
    "print(num)\n",
    "\n",
    "# access the second number in the array \"num\"\n",
    "print( num[1] )\n",
    "\n",
    "# access the last number:\n",
    "print( num[-1] )\n",
    "\n",
    "# access a subset of numbers from the 3rd to 10th\n",
    "print( num[2:10] )\n",
    "\n",
    "# access a subset of numbers from the 3rd all to 10th, but every other one\n",
    "print( num[2:10:2] )\n",
    "\n",
    "# access a subset of numbers from the 3rd all the way to the end\n",
    "print( num[2:] )"
   ]
  },
  {
   "cell_type": "markdown",
   "metadata": {},
   "source": [
    "### Using NumPy Functions\n",
    "\n",
    "As already mentioned, **NumPy** has many math functions.   We will use a few to generate some data sets that we can then plot using **matplotlib**, a different Python module. \n",
    "\n",
    "First, let's make a list of angles ($\\theta$ or **theta**) around a circle.  We begin with the list of angles in degrees, convert them to radians (using **np.radians( )**), then use the **np.sin( )** to construct a list of sines of those angles we just defined:  "
   ]
  },
  {
   "cell_type": "code",
   "execution_count": 26,
   "metadata": {},
   "outputs": [
    {
     "data": {
      "text/plain": [
       "array([ 0.00000000e+00,  3.48994967e-02,  6.97564737e-02,  1.04528463e-01,\n",
       "        1.39173101e-01,  1.73648178e-01,  2.07911691e-01,  2.41921896e-01,\n",
       "        2.75637356e-01,  3.09016994e-01,  3.42020143e-01,  3.74606593e-01,\n",
       "        4.06736643e-01,  4.38371147e-01,  4.69471563e-01,  5.00000000e-01,\n",
       "        5.29919264e-01,  5.59192903e-01,  5.87785252e-01,  6.15661475e-01,\n",
       "        6.42787610e-01,  6.69130606e-01,  6.94658370e-01,  7.19339800e-01,\n",
       "        7.43144825e-01,  7.66044443e-01,  7.88010754e-01,  8.09016994e-01,\n",
       "        8.29037573e-01,  8.48048096e-01,  8.66025404e-01,  8.82947593e-01,\n",
       "        8.98794046e-01,  9.13545458e-01,  9.27183855e-01,  9.39692621e-01,\n",
       "        9.51056516e-01,  9.61261696e-01,  9.70295726e-01,  9.78147601e-01,\n",
       "        9.84807753e-01,  9.90268069e-01,  9.94521895e-01,  9.97564050e-01,\n",
       "        9.99390827e-01,  1.00000000e+00,  9.99390827e-01,  9.97564050e-01,\n",
       "        9.94521895e-01,  9.90268069e-01,  9.84807753e-01,  9.78147601e-01,\n",
       "        9.70295726e-01,  9.61261696e-01,  9.51056516e-01,  9.39692621e-01,\n",
       "        9.27183855e-01,  9.13545458e-01,  8.98794046e-01,  8.82947593e-01,\n",
       "        8.66025404e-01,  8.48048096e-01,  8.29037573e-01,  8.09016994e-01,\n",
       "        7.88010754e-01,  7.66044443e-01,  7.43144825e-01,  7.19339800e-01,\n",
       "        6.94658370e-01,  6.69130606e-01,  6.42787610e-01,  6.15661475e-01,\n",
       "        5.87785252e-01,  5.59192903e-01,  5.29919264e-01,  5.00000000e-01,\n",
       "        4.69471563e-01,  4.38371147e-01,  4.06736643e-01,  3.74606593e-01,\n",
       "        3.42020143e-01,  3.09016994e-01,  2.75637356e-01,  2.41921896e-01,\n",
       "        2.07911691e-01,  1.73648178e-01,  1.39173101e-01,  1.04528463e-01,\n",
       "        6.97564737e-02,  3.48994967e-02,  1.22464680e-16, -3.48994967e-02,\n",
       "       -6.97564737e-02, -1.04528463e-01, -1.39173101e-01, -1.73648178e-01,\n",
       "       -2.07911691e-01, -2.41921896e-01, -2.75637356e-01, -3.09016994e-01,\n",
       "       -3.42020143e-01, -3.74606593e-01, -4.06736643e-01, -4.38371147e-01,\n",
       "       -4.69471563e-01, -5.00000000e-01, -5.29919264e-01, -5.59192903e-01,\n",
       "       -5.87785252e-01, -6.15661475e-01, -6.42787610e-01, -6.69130606e-01,\n",
       "       -6.94658370e-01, -7.19339800e-01, -7.43144825e-01, -7.66044443e-01,\n",
       "       -7.88010754e-01, -8.09016994e-01, -8.29037573e-01, -8.48048096e-01,\n",
       "       -8.66025404e-01, -8.82947593e-01, -8.98794046e-01, -9.13545458e-01,\n",
       "       -9.27183855e-01, -9.39692621e-01, -9.51056516e-01, -9.61261696e-01,\n",
       "       -9.70295726e-01, -9.78147601e-01, -9.84807753e-01, -9.90268069e-01,\n",
       "       -9.94521895e-01, -9.97564050e-01, -9.99390827e-01, -1.00000000e+00,\n",
       "       -9.99390827e-01, -9.97564050e-01, -9.94521895e-01, -9.90268069e-01,\n",
       "       -9.84807753e-01, -9.78147601e-01, -9.70295726e-01, -9.61261696e-01,\n",
       "       -9.51056516e-01, -9.39692621e-01, -9.27183855e-01, -9.13545458e-01,\n",
       "       -8.98794046e-01, -8.82947593e-01, -8.66025404e-01, -8.48048096e-01,\n",
       "       -8.29037573e-01, -8.09016994e-01, -7.88010754e-01, -7.66044443e-01,\n",
       "       -7.43144825e-01, -7.19339800e-01, -6.94658370e-01, -6.69130606e-01,\n",
       "       -6.42787610e-01, -6.15661475e-01, -5.87785252e-01, -5.59192903e-01,\n",
       "       -5.29919264e-01, -5.00000000e-01, -4.69471563e-01, -4.38371147e-01,\n",
       "       -4.06736643e-01, -3.74606593e-01, -3.42020143e-01, -3.09016994e-01,\n",
       "       -2.75637356e-01, -2.41921896e-01, -2.07911691e-01, -1.73648178e-01,\n",
       "       -1.39173101e-01, -1.04528463e-01, -6.97564737e-02, -3.48994967e-02])"
      ]
     },
     "execution_count": 26,
     "metadata": {},
     "output_type": "execute_result"
    }
   ],
   "source": [
    "theta_in_degrees=np.arange(0,360,2) # list of angles from 0 to 359 at two degree intervals\n",
    "\n",
    "theta_in_radians=np.deg2rad(theta_in_degrees) # convert to radians\n",
    "sine_theta=np.sin(theta_in_radians) # calculate the sine values for all the thetas\n",
    "sine_theta #output sine_thetas_in_degrees"
   ]
  },
  {
   "cell_type": "code",
   "execution_count": 38,
   "metadata": {},
   "outputs": [
    {
     "name": "stdout",
     "output_type": "stream",
     "text": [
      "1\n",
      "180\n",
      "(180,)\n"
     ]
    }
   ],
   "source": [
    "print(np.ndim(theta_in_degrees)) # the ndim() function gives you the dimension of your array\n",
    "\n",
    "print(np.size(theta_in_degrees)) # the size() function gives you how many elements in total\n",
    "\n",
    "print(np.shape(theta_in_degrees)) # the shape() function gives you the length of the array in each dimension"
   ]
  },
  {
   "cell_type": "markdown",
   "metadata": {},
   "source": [
    "### Plotting data - Introduction to matplotlib\n",
    "\n",
    "Now that we've generated some data, we would like to look at it. Yes we can just print out the values, but it is way more interesting to make a plot.   The easiest way to do this is using the package **matplotlib** which has many plotting functions, among them a whole module called **pyplot**. We **import** the **matplotlib.pyplot** module as **plt**. \n",
    "\n",
    "We've also included one more line that tells **pyplot** to plot the image within the notebook:  **%matplotlib inline**.  Note that this does not work in other environments, like command line scripts (which we will learn about later). "
   ]
  },
  {
   "cell_type": "code",
   "execution_count": 91,
   "metadata": {},
   "outputs": [
    {
     "data": {
      "image/png": "[encoded data removed]",
      "text/plain": [
       "<Figure size 432x288 with 1 Axes>"
      ]
     },
     "metadata": {
      "needs_background": "light"
     },
     "output_type": "display_data"
    }
   ],
   "source": [
    "import matplotlib.pyplot as plt\n",
    "\n",
    "plt.plot(thetas_in_degrees,sines); # plot the sines with the angles\n",
    "plt.show() # if you don't have this .show() function, Python will not bother showing the plot!"
   ]
  },
  {
   "cell_type": "markdown",
   "metadata": {},
   "source": [
    "Now you have generated your first Python plot! Let's try more function plots, it's fun! (looks like real work - well it is...). For example, let's try $\\sin^{2.5}\\theta$"
   ]
  },
  {
   "cell_type": "code",
   "execution_count": 107,
   "metadata": {},
   "outputs": [
    {
     "data": {
      "image/png": "[encoded data removed]",
      "text/plain": [
       "<Figure size 432x288 with 1 Axes>"
      ]
     },
     "metadata": {
      "needs_background": "light"
     },
     "output_type": "display_data"
    }
   ],
   "source": [
    "import numpy as np # import the numpy module ad name it as np\n",
    "import matplotlib.pyplot as plt # import the pyplot sub-module from the matplotlib module\n",
    "\n",
    "theta = np.arange(0,360,1) # here we used two numpy functions within one line of code: arange() and deg2rad()\n",
    "plt.plot(theta,np.cos(np.deg2rad(theta)**2.5))       # use the plot function from plt to make the 1-D line plot\n",
    "plt.show()                             # show results, make sure you type this everything when a plot is done"
   ]
  },
  {
   "cell_type": "markdown",
   "metadata": {},
   "source": [
    "use the theta variable defined above, let's try plotting $\\tan\\theta$ using the np.tan() function:"
   ]
  },
  {
   "cell_type": "code",
   "execution_count": 112,
   "metadata": {},
   "outputs": [
    {
     "data": {
      "image/png": "[encoded data removed]",
      "text/plain": [
       "<Figure size 432x288 with 1 Axes>"
      ]
     },
     "metadata": {
      "needs_background": "light"
     },
     "output_type": "display_data"
    }
   ],
   "source": [
    "plt.plot(theta,np.tan(np.deg2rad(theta))) \n",
    "\n",
    "plt.show()"
   ]
  },
  {
   "cell_type": "markdown",
   "metadata": {},
   "source": [
    "Hmmm, this doesn't look like $\\tan\\theta$ at all! what happened? The plot( ) function is doing what it is told to do, it gave you a plot of $\\tan\\theta$ within 0 and 360 degrees. Recall that the $\\tan$ function has singularities when $\\theta$ is a multiply of $\\frac{\\pi}{2}$, e.g., $\\tan(\\frac{\\pi}{2}) = \\inf$. Because there's no real **inf** in the computer, so Python gave you a huge number (1.6e16) and the plot looked very funny. This is when lable and axis control are needed to make sure your visualization makes sense to people. Let's try this function for your plot"
   ]
  },
  {
   "cell_type": "code",
   "execution_count": 114,
   "metadata": {},
   "outputs": [
    {
     "data": {
      "image/png": "[encoded data removed]",
      "text/plain": [
       "<Figure size 432x288 with 1 Axes>"
      ]
     },
     "metadata": {
      "needs_background": "light"
     },
     "output_type": "display_data"
    }
   ],
   "source": [
    "plt.plot(theta,np.tan(np.deg2rad(theta))) \n",
    "\n",
    "plt.ylim([-5,5]) # set the y limits from -5 to 5\n",
    "plt.show()"
   ]
  },
  {
   "cell_type": "markdown",
   "metadata": {},
   "source": [
    "Now you've got a more familiar $\\tan\\theta$ function!"
   ]
  },
  {
   "cell_type": "markdown",
   "metadata": {},
   "source": [
    "### Features and styling in matplotlib\n",
    "Every plot should include a title, axis, labels, bounds, etc. We can use Matplotlib to add these features and more - You are expected to do all these things to make your plot more readable throughout this course. Let's try this:"
   ]
  },
  {
   "cell_type": "code",
   "execution_count": 116,
   "metadata": {},
   "outputs": [
    {
     "data": {
      "image/png": "[encoded data removed]",
      "text/plain": [
       "<Figure size 432x288 with 1 Axes>"
      ]
     },
     "metadata": {
      "needs_background": "light"
     },
     "output_type": "display_data"
    }
   ],
   "source": [
    "# I want to plot the sine curve as a green line, so I use 'g-' to do that:\n",
    "plt.plot(thetas_in_degrees,sines,'g-',label='Sine') \n",
    "# the \"label\" argument saves this line for annotation in a legend\n",
    "# let's add X and Y labels\n",
    "plt.xlabel('Degrees') # make and X label\n",
    "plt.ylabel('Sine') # label the Y axis\n",
    "# and now change the x axis limits: \n",
    "plt.xlim([0,360]) # set the limits\n",
    "plt.ylim([-1.2,1.2]) # set the limits\n",
    "plt.title('Sine curve') # set the title\n",
    "plt.legend(); # put on a legend!  "
   ]
  }
 ],
 "metadata": {
  "kernelspec": {
   "display_name": "Python 3.7.1 ('com_torch')",
   "language": "python",
   "name": "python3"
  },
  "language_info": {
   "codemirror_mode": {
    "name": "ipython",
    "version": 3
   },
   "file_extension": ".py",
   "mimetype": "text/x-python",
   "name": "python",
   "nbconvert_exporter": "python",
   "pygments_lexer": "ipython3",
   "version": "3.7.1"
  },
  "vscode": {
   "interpreter": {
    "hash": "2af8302a16cf6ed8ea0b8ddec60eac960f581ee85f49e07f3f8a491c7fcd9fb4"
   }
  }
 },
 "nbformat": 4,
 "nbformat_minor": 2
}
