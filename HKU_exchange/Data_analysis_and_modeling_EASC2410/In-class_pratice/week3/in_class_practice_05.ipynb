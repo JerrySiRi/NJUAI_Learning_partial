{
 "cells": [
  {
   "cell_type": "markdown",
   "metadata": {},
   "source": [
    "## In-class practice for Lecture 5 \n",
    "\n",
    "* Answer each question using Python codes in a separate cell"
   ]
  },
  {
   "cell_type": "markdown",
   "metadata": {},
   "source": [
    "### 1. Numpy Attributes\n",
    "\n",
    "* import the numpy module and re-name it as **np**\n",
    "* print out the value of **pi** using the **np.pi** attribute.\n",
    "* print out the value of **e** using the **np.e** attribute.\n",
    "* print out the value of **infinity** using the **np.inf** attribute.\n"
   ]
  },
  {
   "cell_type": "code",
   "execution_count": null,
   "metadata": {},
   "outputs": [],
   "source": [
    "import numpy as np\n",
    "\n",
    "print(np.pi)\n",
    "print(np.e)\n",
    "print(np.inf)"
   ]
  },
  {
   "cell_type": "markdown",
   "metadata": {},
   "source": [
    "### 2. Creating Numpy Arrays\n",
    "\n",
    "* import the numpy module and re-name it as **np**\n",
    "* Create a list of 100 zeros using the **np.zero** function\n",
    "* Create a list of 100 ones using the **np.eye** function\n",
    "* Create a list of 100 random numbers using the **np.random.randon()** function\n",
    "* Create a list of numbers ranging from 1912 to 2012 using the **np.arange()** function\n",
    "* Create the same number list of (1912 to 2012) using the **np.linspace()** function"
   ]
  },
  {
   "cell_type": "code",
   "execution_count": 8,
   "metadata": {},
   "outputs": [
    {
     "name": "stdout",
     "output_type": "stream",
     "text": [
      "[1912 1913 1914 1915 1916 1917 1918 1919 1920 1921 1922 1923 1924 1925\n",
      " 1926 1927 1928 1929 1930 1931 1932 1933 1934 1935 1936 1937 1938 1939\n",
      " 1940 1941 1942 1943 1944 1945 1946 1947 1948 1949 1950 1951 1952 1953\n",
      " 1954 1955 1956 1957 1958 1959 1960 1961 1962 1963 1964 1965 1966 1967\n",
      " 1968 1969 1970 1971 1972 1973 1974 1975 1976 1977 1978 1979 1980 1981\n",
      " 1982 1983 1984 1985 1986 1987 1988 1989 1990 1991 1992 1993 1994 1995\n",
      " 1996 1997 1998 1999 2000 2001 2002 2003 2004 2005 2006 2007 2008 2009\n",
      " 2010 2011 2012]\n",
      "[1912. 1913. 1914. 1915. 1916. 1917. 1918. 1919. 1920. 1921. 1922. 1923.\n",
      " 1924. 1925. 1926. 1927. 1928. 1929. 1930. 1931. 1932. 1933. 1934. 1935.\n",
      " 1936. 1937. 1938. 1939. 1940. 1941. 1942. 1943. 1944. 1945. 1946. 1947.\n",
      " 1948. 1949. 1950. 1951. 1952. 1953. 1954. 1955. 1956. 1957. 1958. 1959.\n",
      " 1960. 1961. 1962. 1963. 1964. 1965. 1966. 1967. 1968. 1969. 1970. 1971.\n",
      " 1972. 1973. 1974. 1975. 1976. 1977. 1978. 1979. 1980. 1981. 1982. 1983.\n",
      " 1984. 1985. 1986. 1987. 1988. 1989. 1990. 1991. 1992. 1993. 1994. 1995.\n",
      " 1996. 1997. 1998. 1999. 2000. 2001. 2002. 2003. 2004. 2005. 2006. 2007.\n",
      " 2008. 2009. 2010. 2011. 2012.]\n"
     ]
    }
   ],
   "source": [
    "import numpy as np\n",
    "\n",
    "zero_array = np.zeros((100)) # parameter = dimention (need \"()\")\n",
    "ones_array = np.eye((100))\n",
    "ran_array = np.random.randn((100))\n",
    "range_array = np.arange(1912,2013,1) # step = 1, right parameter is exclusive!!!\n",
    "lin_array = np.linspace(1912,2012,len(range_array))  # right parameter is inclusive!!!【区别】\n",
    "\n",
    "print(range_array)\n",
    "print(lin_array)\n",
    "\n",
    "\n"
   ]
  },
  {
   "cell_type": "markdown",
   "metadata": {},
   "source": [
    "### 3. Math Operations using Numpy Arrays\n",
    "\n",
    "* import the numpy module and re-name it as **np**\n",
    "* create a 1-D numpy array named **x** with 100 points between 0 and pi (e.g., using the **np.linspace()** function, and the **np.pi**)\n",
    "* print the values of **sin(x)** using print(sin(x))\n",
    "* print the values of **sin(x)** using the round function to set the number of decimals, e.g., print(np.round(sin(x),2))\n",
    "* find the maximum value of **sin(x)** use the **np.max()** function\n",
    "* find the minimum value of **cos(x)** use the **np.min()** function. Do the maximum and minimum values equal to +1 and -1? \n",
    "* find the mean value of **cos(x)\\*sin(x)**\n",
    "* calculate the values of **x\\*cos(x)\\*exp(-x)** and assign the values to a new numpy array named **y**\n"
   ]
  },
  {
   "cell_type": "code",
   "execution_count": 18,
   "metadata": {},
   "outputs": [
    {
     "name": "stdout",
     "output_type": "stream",
     "text": [
      "taks 1 [0.00000000e+00 3.17279335e-02 6.34239197e-02 9.50560433e-02\n",
      " 1.26592454e-01 1.58001396e-01 1.89251244e-01 2.20310533e-01\n",
      " 2.51147987e-01 2.81732557e-01 3.12033446e-01 3.42020143e-01\n",
      " 3.71662456e-01 4.00930535e-01 4.29794912e-01 4.58226522e-01\n",
      " 4.86196736e-01 5.13677392e-01 5.40640817e-01 5.67059864e-01\n",
      " 5.92907929e-01 6.18158986e-01 6.42787610e-01 6.66769001e-01\n",
      " 6.90079011e-01 7.12694171e-01 7.34591709e-01 7.55749574e-01\n",
      " 7.76146464e-01 7.95761841e-01 8.14575952e-01 8.32569855e-01\n",
      " 8.49725430e-01 8.66025404e-01 8.81453363e-01 8.95993774e-01\n",
      " 9.09631995e-01 9.22354294e-01 9.34147860e-01 9.45000819e-01\n",
      " 9.54902241e-01 9.63842159e-01 9.71811568e-01 9.78802446e-01\n",
      " 9.84807753e-01 9.89821442e-01 9.93838464e-01 9.96854776e-01\n",
      " 9.98867339e-01 9.99874128e-01 9.99874128e-01 9.98867339e-01\n",
      " 9.96854776e-01 9.93838464e-01 9.89821442e-01 9.84807753e-01\n",
      " 9.78802446e-01 9.71811568e-01 9.63842159e-01 9.54902241e-01\n",
      " 9.45000819e-01 9.34147860e-01 9.22354294e-01 9.09631995e-01\n",
      " 8.95993774e-01 8.81453363e-01 8.66025404e-01 8.49725430e-01\n",
      " 8.32569855e-01 8.14575952e-01 7.95761841e-01 7.76146464e-01\n",
      " 7.55749574e-01 7.34591709e-01 7.12694171e-01 6.90079011e-01\n",
      " 6.66769001e-01 6.42787610e-01 6.18158986e-01 5.92907929e-01\n",
      " 5.67059864e-01 5.40640817e-01 5.13677392e-01 4.86196736e-01\n",
      " 4.58226522e-01 4.29794912e-01 4.00930535e-01 3.71662456e-01\n",
      " 3.42020143e-01 3.12033446e-01 2.81732557e-01 2.51147987e-01\n",
      " 2.20310533e-01 1.89251244e-01 1.58001396e-01 1.26592454e-01\n",
      " 9.50560433e-02 6.34239197e-02 3.17279335e-02 1.22464680e-16]\n",
      "taks 2 [0.   0.03 0.06 0.1  0.13 0.16 0.19 0.22 0.25 0.28 0.31 0.34 0.37 0.4\n",
      " 0.43 0.46 0.49 0.51 0.54 0.57 0.59 0.62 0.64 0.67 0.69 0.71 0.73 0.76\n",
      " 0.78 0.8  0.81 0.83 0.85 0.87 0.88 0.9  0.91 0.92 0.93 0.95 0.95 0.96\n",
      " 0.97 0.98 0.98 0.99 0.99 1.   1.   1.   1.   1.   1.   0.99 0.99 0.98\n",
      " 0.98 0.97 0.96 0.95 0.95 0.93 0.92 0.91 0.9  0.88 0.87 0.85 0.83 0.81\n",
      " 0.8  0.78 0.76 0.73 0.71 0.69 0.67 0.64 0.62 0.59 0.57 0.54 0.51 0.49\n",
      " 0.46 0.43 0.4  0.37 0.34 0.31 0.28 0.25 0.22 0.19 0.16 0.13 0.1  0.06\n",
      " 0.03 0.  ]\n",
      "task 3 0.9998741276738751\n",
      "task 4 -1.0\n",
      "task 5 -7.608429190742003e-18\n",
      "task 6 [ 0.          0.03072659  0.05944376  0.08616288  0.11090222  0.13368633\n",
      "  0.15454551  0.17351526  0.19063576  0.20595141  0.21951035  0.23136401\n",
      "  0.24156672  0.25017528  0.2572486   0.26284736  0.26703364  0.26987064\n",
      "  0.27142238  0.2717534   0.27092853  0.26901264  0.26607041  0.26216614\n",
      "  0.25736354  0.25172557  0.24531429  0.23819067  0.23041453  0.22204433\n",
      "  0.21313715  0.20374854  0.19393246  0.18374118  0.17322527  0.16243349\n",
      "  0.15141277  0.1402082   0.12886294  0.11741828  0.10591354  0.09438616\n",
      "  0.08287161  0.07140347  0.06001338  0.04873111  0.03758455  0.02659974\n",
      "  0.01580091  0.00521051 -0.00515077 -0.01526393 -0.02511163 -0.03467818\n",
      " -0.04394944 -0.0529128  -0.06155713 -0.06987272 -0.07785125 -0.08548571\n",
      " -0.09277035 -0.09970064 -0.10627323 -0.11248586 -0.11833731 -0.12382739\n",
      " -0.12895684 -0.13372729 -0.13814122 -0.1422019  -0.14591333 -0.14928022\n",
      " -0.15230789 -0.15500229 -0.1573699  -0.15941768 -0.16115309 -0.16258398\n",
      " -0.16371858 -0.16456545 -0.16513344 -0.16543168 -0.16546949 -0.16525639\n",
      " -0.16480207 -0.16411632 -0.16320904 -0.16209016 -0.16076969 -0.15925763\n",
      " -0.15756395 -0.15569859 -0.15367146 -0.15149235 -0.14917097 -0.1467169\n",
      " -0.1441396  -0.14144837 -0.13865236 -0.13576053]\n"
     ]
    }
   ],
   "source": [
    "import numpy as np\n",
    "\n",
    "x = np.linspace(0, np.pi, 100)\n",
    "\n",
    "sin_x = np.sin(x)\n",
    "cos_x = np.cos(x)\n",
    "y = x * cos_x * np.exp(-x) # np.exp = element-wise , np.e = return a scalar\n",
    "\n",
    "print(\"taks 1\", sin_x) # element-wise calculation\n",
    "\n",
    "print(\"taks 2\", np.round(sin_x,2))\n",
    "\n",
    "print(\"task 3\", np.max(sin_x))\n",
    "\n",
    "print(\"task 4\", np.min(cos_x))\n",
    "\n",
    "print(\"task 5\", np.mean(sin_x * cos_x)) # elment-wise\n",
    "\n",
    "print(\"task 6\", y)\n",
    "\n",
    "\n",
    "\n",
    "\n",
    "\n",
    "\n"
   ]
  },
  {
   "cell_type": "markdown",
   "metadata": {},
   "source": [
    "### 4. Line plots using matploglib.pyplot\n",
    "\n",
    "* import the pyplot module using **import matploglib.pyplot as plt**\n",
    "* try **plt.plot(x)**, what do you get?\n",
    "* now try **plt.plot(y)**, what do you get now?\n",
    "* then try **plt.plot(x,y)**, what's the difference then? \n",
    "* plot **tan(x)** use the plot() function. Does it make sense? why or why not?"
   ]
  },
  {
   "cell_type": "code",
   "execution_count": 23,
   "metadata": {},
   "outputs": [
    {
     "data": {
      "image/png": "[encoded data removed]",
      "text/plain": [
       "<Figure size 640x480 with 1 Axes>"
      ]
     },
     "metadata": {},
     "output_type": "display_data"
    }
   ],
   "source": [
    "import matplotlib.pyplot as plt\n",
    "\n",
    "\n",
    "plt.plot(x)\n",
    "\n",
    "plt.plot(y)\n",
    "\n",
    "plt.plot(x,y)\n",
    "\n",
    "plt.plot(np.tan(x))\n",
    "\n",
    "plt.show()"
   ]
  }
 ],
 "metadata": {
  "kernelspec": {
   "display_name": "Python 3.7.1 ('bert_chinese')",
   "language": "python",
   "name": "python3"
  },
  "language_info": {
   "codemirror_mode": {
    "name": "ipython",
    "version": 3
   },
   "file_extension": ".py",
   "mimetype": "text/x-python",
   "name": "python",
   "nbconvert_exporter": "python",
   "pygments_lexer": "ipython3",
   "version": "3.7.1"
  },
  "vscode": {
   "interpreter": {
    "hash": "53212d6bd219dd71a1dd1974b202da0e24447591239b9cfd3b7797526bde5b81"
   }
  }
 },
 "nbformat": 4,
 "nbformat_minor": 2
}
