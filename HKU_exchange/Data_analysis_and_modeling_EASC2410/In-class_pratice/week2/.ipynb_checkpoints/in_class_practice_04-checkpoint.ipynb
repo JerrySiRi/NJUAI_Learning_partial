{
 "cells": [
  {
   "cell_type": "markdown",
   "metadata": {},
   "source": [
    "## In-class practice for Lecture 4 \n",
    "\n",
    "* Answer each question using Python codes in a separate cell\n",
    "* Remane your notebook with your name and the lecture number"
   ]
  },
  {
   "cell_type": "markdown",
   "metadata": {},
   "source": [
    "### 0. For-Loop training camp\n",
    "- use a for loop to iterate over a given sequence, and print out all the results. For example with the following list: **primes = [2, '3', 5.0, True, 2+3j**]\n",
    "\n",
    "we can use a for loop to directly access the elements:"
   ]
  },
  {
   "cell_type": "code",
   "execution_count": null,
   "metadata": {},
   "outputs": [],
   "source": [
    "primes = [2, '3', 5.0, True, 2+3j] # this is a list\n",
    "for pr in primes:  # loop over all the element in the list \"Primes\"\n",
    "    print(pr)      # print each element"
   ]
  },
  {
   "cell_type": "markdown",
   "metadata": {},
   "source": [
    "we can also use a for loop to step through the elements using **index access**:"
   ]
  },
  {
   "cell_type": "code",
   "execution_count": null,
   "metadata": {},
   "outputs": [],
   "source": [
    "N = len(primes) # returns the length of the list\n",
    "for i in range(N): # looping variable i is from 0 to N-1: 0,1,2,3,...,N-1\n",
    "    print(primes[i]) # element access using index "
   ]
  },
  {
   "cell_type": "markdown",
   "metadata": {},
   "source": [
    "- For loops can iterate over a sequence of numbers using the \"range\" functions, which is extremely useful in going through a large data set, i.e., from the first element to the last one:"
   ]
  },
  {
   "cell_type": "code",
   "execution_count": null,
   "metadata": {},
   "outputs": [],
   "source": [
    "# Prints out the numbers 0,1,2,3,4\n",
    "for x in range(5):\n",
    "    print(x)"
   ]
  },
  {
   "cell_type": "code",
   "execution_count": null,
   "metadata": {},
   "outputs": [],
   "source": [
    "# Prints out 3,4,5\n",
    "for x in range(3, 6):\n",
    "    print(x)"
   ]
  },
  {
   "cell_type": "code",
   "execution_count": null,
   "metadata": {},
   "outputs": [],
   "source": [
    "# Prints out 3,5,7\n",
    "for x in range(3, 8, 2):\n",
    "    print(x)"
   ]
  },
  {
   "cell_type": "markdown",
   "metadata": {},
   "source": [
    "We can do more complicated calculations with the for loop, for example, given the follow list: **my_num = [1,3,1,2,-0.4,9,11,3,59,2,1.2,5.6]**, the sum of the list can be calculated using a for loop:"
   ]
  },
  {
   "cell_type": "code",
   "execution_count": null,
   "metadata": {},
   "outputs": [],
   "source": [
    "my_num = [1,3,1,2,-0.4,9,11,3,59,2,1.2,5.6] # the given list w/ numbers\n",
    "results = 0.0 # the sum of all the elements will be stored in this variable\n",
    "for i in my_num: # loop over all the elements in my_num\n",
    "    results = results + i # accumulate elements to the sum\n",
    "print(results) # print results"
   ]
  },
  {
   "cell_type": "markdown",
   "metadata": {},
   "source": [
    "- combine with the \"**if**-statemnent\" for complicated program control. e.g., if we want to print out **even numbers between 1 and 9**, simply using the following for-loop"
   ]
  },
  {
   "cell_type": "code",
   "execution_count": null,
   "metadata": {},
   "outputs": [],
   "source": [
    "# Prints out even numbers between 1 and 9\n",
    "for i in range(1, 10): # loop over numbers between 1 and 9\n",
    "    if(i%2==0): # condition statement - check if i is even\n",
    "        print(i) "
   ]
  },
  {
   "cell_type": "markdown",
   "metadata": {},
   "source": [
    "Loop through and **print out all numbers that can be divided by 7** from the numbers list in the same order they are received. Don't print any numbers that come after 237 in the sequence."
   ]
  },
  {
   "cell_type": "code",
   "execution_count": null,
   "metadata": {},
   "outputs": [],
   "source": [
    "numbers = [ 951, 402, 984, 651, 360, 69, 408, 319, 601, 485, 980, 507, 725, 547, 544,\n",
    "            615, 83, 165, 141, 501, 263, 617, 865, 575, 219, 390, 984, 592, 236, 105, 942, 941,\n",
    "            386, 462, 47, 418, 907, 344, 236, 375, 823, 566, 597, 978, 328, 615, 953, 345,\n",
    "            399, 162, 758, 219, 918, 237, 412, 566, 826, 248, 866, 950, 626, 949, 687, 217,\n",
    "            815, 67, 104, 58, 512, 24, 892, 894, 767, 553, 81, 379, 843, 831, 445, 742, 717,\n",
    "            958, 609, 842, 451, 688, 753, 854, 685, 93, 857, 440, 380, 126, 721, 328, 753, 470,\n",
    "            743, 527]"
   ]
  },
  {
   "cell_type": "code",
   "execution_count": null,
   "metadata": {},
   "outputs": [],
   "source": [
    "for i in numbers: \n",
    "    if (i%7==0):\n",
    "        print(i)\n",
    "    if (i==237):\n",
    "        break"
   ]
  },
  {
   "cell_type": "markdown",
   "metadata": {},
   "source": [
    "We can also do more, for example if we want to calculate the sums of all the even numbers in the given list:"
   ]
  },
  {
   "cell_type": "code",
   "execution_count": null,
   "metadata": {},
   "outputs": [],
   "source": [
    "sum_even = 0\n",
    "\n",
    "for i in numbers: \n",
    "    if (i%2==0):\n",
    "        sum_even+=i\n",
    "        \n",
    "print('The Sum of all the even numbers is',sum_even)"
   ]
  },
  {
   "cell_type": "markdown",
   "metadata": {},
   "source": [
    "or we can calculate the sums of all the even numbers and odd numbers in the same for loop using **if-else**:"
   ]
  },
  {
   "cell_type": "code",
   "execution_count": null,
   "metadata": {},
   "outputs": [],
   "source": [
    "sum_even = 0\n",
    "sum_odd  = 0\n",
    "\n",
    "for i in numbers: \n",
    "    if (i%2==0):\n",
    "        sum_even = sum_even + i\n",
    "    else:\n",
    "        sum_odd = sum_odd + i\n",
    "        \n",
    "print('The Sum of all the even numbers is',sum_even)\n",
    "print('The Sum of all the odd numbers is',sum_odd)"
   ]
  },
  {
   "cell_type": "markdown",
   "metadata": {},
   "source": [
    "### 1. Create a function with doc string  \n",
    "\n",
    "* Create a function hello( ). Include a doc string that explains what the function does  \n",
    "* In the function body, print \"Hello from the other side...\"\n",
    "* print out the doc string with the help() function\n",
    "* call your hello() function in a main code"
   ]
  },
  {
   "cell_type": "code",
   "execution_count": 2,
   "metadata": {},
   "outputs": [
    {
     "name": "stdout",
     "output_type": "stream",
     "text": [
      "Hello from the other side...\n",
      "Help on function hello in module __main__:\n",
      "\n",
      "hello()\n",
      "    This code prints \"Hello from the other side...\"\n",
      "    INPUT:  None\n",
      "    OUTPUT: string \"Hello from the other side...\"\n",
      "\n"
     ]
    }
   ],
   "source": [
    "def hello():\n",
    "    \"\"\"\n",
    "        This code prints \"Hello from the other side...\"\n",
    "        INPUT:  None\n",
    "        OUTPUT: string \"Hello from the other side...\"\n",
    "    \"\"\"\n",
    "    print(\"Hello from the other side...\")\n",
    "\n",
    "hello()\n",
    "help(hello)"
   ]
  },
  {
   "cell_type": "markdown",
   "metadata": {},
   "source": [
    "### 2a. Practise more on functions I\n",
    "\n",
    "* create a function called SphereVolume( ) . The function should take a radius as an argument and return the volume of a sphere with that radius ($V=\\frac{4}{3}\\pi r^3$). Include a doc string explaining what the function does  \n",
    "* call the function and print out the result\n",
    "* Create a function called add_up( ) that takes a variable number of input arguments and returns their sum. (HINT: you can use the **for** loops to step through all the elements in your input) \n",
    "* Call the function with different numbers of arguments and print the sum. "
   ]
  },
  {
   "cell_type": "code",
   "execution_count": null,
   "metadata": {},
   "outputs": [],
   "source": [
    "import math\n",
    "def SphereVolume(r):\n",
    "    \"\"\"\n",
    "        This code calculates volume of a sphere with radius\n",
    "        INPUT: radius\n",
    "        OUPUT: volume\n",
    "    \"\"\"\n",
    "    V = 4/3*math.pi*r**3\n",
    "    return V\n",
    "\n",
    "def add_up(*in_argue):\n",
    "    return sum(in_argue)\n",
    "\n",
    "\n",
    "print(SphereVolume(3))\n",
    "print(add_up(1,2,3,4,5))\n",
    "print(add_up(3,4,5,6,7))\n",
    "\n",
    "main()"
   ]
  },
  {
   "cell_type": "markdown",
   "metadata": {},
   "source": [
    "### 2b. Practise more on functions II (Optional)\n",
    "\n",
    "* creat a function called list_reverse(), which takes a list [1,2,3,4] as input and print out the elements in that list in a reversed order (expected output: [4,3,2,1])\n",
    "* run your code use a main() function"
   ]
  },
  {
   "cell_type": "code",
   "execution_count": 1,
   "metadata": {},
   "outputs": [
    {
     "name": "stdout",
     "output_type": "stream",
     "text": [
      "[4, 3, 2, 1]\n",
      "[4, 3, 2, 1]\n"
     ]
    }
   ],
   "source": [
    "def list_reverse(initial_list,version=1):\n",
    "    # method 1 , version = 0: use Built in Functions\n",
    "    if version == 0:\n",
    "        return list(reversed(initial_list))\n",
    "        \n",
    "    # method 2 , version = 1: use for to build the reversed list\n",
    "    elif version == 1:\n",
    "        temp=[]\n",
    "        for index in range(len(initial_list)-1,-1,-1):\n",
    "            temp.append(initial_list[index])\n",
    "        return temp\n",
    "\n",
    "\n",
    "ex=[1,2,3,4]\n",
    "print(list_reverse(ex, version = 0))\n",
    "print(list_reverse(ex, version = 1))\n",
    "\n",
    "main()"
   ]
  },
  {
   "cell_type": "markdown",
   "metadata": {},
   "source": [
    "### 3. Create you own module (Optional)\n",
    "\n",
    "* Create a module myModule.py in a separate text file using Jupyter\n",
    "* Add the functions add_up(*args) and SphereVolume(r) to the module myModule.py but rename them **add** and **area**, respectively\n",
    "* Save txt file using the name **myModule.py** (which means it's a Python script)\n",
    "* import the myModule.py module into your jupyter notebook and call each function in the module in a main program (print out the results)\n",
    "* run the main program"
   ]
  },
  {
   "cell_type": "code",
   "execution_count": null,
   "metadata": {},
   "outputs": [],
   "source": [
    "import myModule\n",
    "def main():\n",
    "    print(add(1,2,3,4))\n",
    "    print(area(3))\n",
    "\n",
    "main()\n",
    "\n",
    "\n",
    "\n"
   ]
  },
  {
   "cell_type": "markdown",
   "metadata": {},
   "source": [
    "### 4. The math module\n",
    "\n",
    "* import the **math** module\n",
    "* print out the value of $\\pi$\n",
    "* print out the square root of $\\pi$ (HINT: use the .sqrt( ) function)\n",
    "* print out the value of $e^{\\pi}$ (HINT: use the .exp( ) function) \n",
    "* print out the value of $\\sin\\frac{\\pi}{8}$, $\\cos\\frac{\\pi}{8}$, $\\tan\\frac{\\pi}{8}$\n",
    "* print out the value of $\\Gamma(\\frac{\\pi}{8})$. (HINT: $\\Gamma( )$ is known as the \"Gamma\" function, which is a special function called \"confluent hypergeometric function\". It's very mathematical but the point here is that you just need to know what function you should use in the **math** module - it's the .gamma( ) function, that's all. Other than that, it's mathematician's job)  \n",
    "\n",
    "Go to the documentation page of the math module in case you need more information: https://docs.python.org/3/library/math.html#module-math"
   ]
  }
 ],
 "metadata": {
  "kernelspec": {
   "display_name": "Python 3 (ipykernel)",
   "language": "python",
   "name": "python3"
  },
  "language_info": {
   "codemirror_mode": {
    "name": "ipython",
    "version": 3
   },
   "file_extension": ".py",
   "mimetype": "text/x-python",
   "name": "python",
   "nbconvert_exporter": "python",
   "pygments_lexer": "ipython3",
   "version": "3.9.7"
  },
  "vscode": {
   "interpreter": {
    "hash": "2af8302a16cf6ed8ea0b8ddec60eac960f581ee85f49e07f3f8a491c7fcd9fb4"
   }
  }
 },
 "nbformat": 4,
 "nbformat_minor": 2
}
