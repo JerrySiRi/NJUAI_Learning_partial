{
 "cells": [
  {
   "cell_type": "markdown",
   "metadata": {},
   "source": [
    "## In-class practice for Lecture 17\n",
    "\n",
    "* Time series analysis: Time domain, frequency domain, spectrum, power spectrum\n",
    "* New Python tricks: periodogram using scipy.signal\n",
    "* Answer each question using Python codes in a separate cell"
   ]
  },
  {
   "cell_type": "markdown",
   "metadata": {},
   "source": [
    "### [Optional] 1.  Time series modeling using NumPy\n",
    "\n",
    "Consider the example of signals with multiple frequencies used in the lecture:\n",
    "\n",
    "$$ y(t) = 0.5 + \\cos(2\\pi t) + \\frac{1}{2}\\cos(4\\pi t) + \\frac{1}{3}\\cos(6\\pi t) + \\frac{1}{4}\\cos(8\\pi t) + + \\frac{1}{5}\\cos(10\\pi t) + \\frac{1}{6}\\cos(12\\pi t)$$\n",
    "\n",
    "- Write a for-loop to generate the signal $y(t)$ in stead of the way we did in class. Basically what you need to do is to generate a function $y(t)$ with the following form:\n",
    "\n",
    "$$ y(t) = 0.5+ \\Sigma_{n=1}^{6} \\frac{1}{n}\\cos(n\\cdot 2\\pi t)$$\n",
    "\n",
    "- Now increase the number of frequencies in the above function $y(t)$ from 6 to 12, 60 and 300, what do you get?"
   ]
  },
  {
   "cell_type": "markdown",
   "metadata": {},
   "source": [
    "### 2.  Periodogram for Eccentricity\n",
    "\n",
    "Import the dataset discussed in class named \"INSOLN.LA2004.BTL.100.csv\" into Python as a Pandas data frame. Let's focus on the data at last 1000 ka (filter your data frame by ['Age (ka)']<1000 )\n",
    "\n",
    "- According to the \"Age\" column, What is the data sampling cadence $\\Delta t$ (in ka) in the dataset?\n",
    "- What is the sampling frequence $f_s$ of the data set?\n",
    "- Plot the Eccentricity as a function of time\n",
    "- Generate a periodogram for the Eccentricity and find out the peak frequency $f_{peak}$ in the power spectrum\n",
    "- What's the variation period of Eccentricity (in ka) according to the $f_{peak}$ you found in the periodogram?"
   ]
  },
  {
   "cell_type": "markdown",
   "metadata": {},
   "source": [
    "### 3. Temporal variation of CO2 concentration\n",
    "\n",
    "Download the data file \"Monthly_CO2_Concentrations.xlsx\" from Moodle\n",
    "\n",
    "- load the excel file into Python as a data frame\n",
    "- plot the CO2 concentration as a function of months (here the data sampling cadence is one month, so you can just plot the CO2 concentration using the default Pandas index)\n",
    "- Generate a periodogram for the CO2 concentration data\n",
    "- What kind of frequency components do you find? periodicity of variations?"
   ]
  }
 ],
 "metadata": {
  "kernelspec": {
   "display_name": "Python 3 (ipykernel)",
   "language": "python",
   "name": "python3"
  },
  "language_info": {
   "codemirror_mode": {
    "name": "ipython",
    "version": 3
   },
   "file_extension": ".py",
   "mimetype": "text/x-python",
   "name": "python",
   "nbconvert_exporter": "python",
   "pygments_lexer": "ipython3",
   "version": "3.9.12"
  }
 },
 "nbformat": 4,
 "nbformat_minor": 2
}
