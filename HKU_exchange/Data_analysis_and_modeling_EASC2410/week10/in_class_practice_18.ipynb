{
 "cells": [
  {
   "cell_type": "markdown",
   "metadata": {},
   "source": [
    "## In-class practice for Lecture 18\n",
    "\n",
    "* Time series analysis: Time series decomposition\n",
    "* New Python tricks: Pandas rolling() and statsmodel.tsa\n",
    "* Answer each question using Python codes in a separate cell"
   ]
  },
  {
   "cell_type": "markdown",
   "metadata": {},
   "source": [
    "### 1.  Trend decomposition using linear regression\n",
    "\n",
    "Download the data file \"Monthly_CO2_Concentrations.xlsx\" from Moodle\n",
    "\n",
    "- load the excel file into Python as a data frame\n",
    "- plot the CO2 concentration as a function of months (here the data sampling cadence is one month, so you can just plot the CO2 concentration using the default Pandas index)\n",
    "- Recall the curve fitting process, do a linear curve fitting ($y = ax+b$) to the CO2 concentration data\n",
    "- Subtract the linear curve from the original CO2 concentration to get the residule\n",
    "- How does your linear trend compared to the rolling() results used in the lecture?"
   ]
  },
  {
   "cell_type": "markdown",
   "metadata": {},
   "source": [
    "### [Optional] 2. Trend and seasonal decomposition using tsa\n",
    "\n",
    "Use the \"Monthly_CO2_Concentrations.xlsx\" dataset, perform a seasonal_decompose of the CO2 concentrations using the \"multiplicative\" method. Compare the results to the \"additive\" method used in the class lecture."
   ]
  },
  {
   "cell_type": "markdown",
   "metadata": {},
   "source": [
    "### 3.  Trend decomposition using a moving average window\n",
    "\n",
    "Download the data file \"monthly-lake-erie-levels-1921-19.xlsx\" from Moodle. The data file contains two columns: Time (in months) and Levels of Lake Erie, between 1921 and 1970\n",
    "\n",
    "- load the excel file into Python as a Pandas data frame. In this file, you need to skip several rows using **skiprows = 8** and also set the index column as the \"Month\" column using **index_col = 0**. Make sure you understand the meaning of these options.\n",
    "- take a look at the data frame use the **.head()** function, what's the data cadence?\n",
    "- use the **DataFrame_Name[XX].plot()** function  (**DataFrame_Name** is the name of your data frame, XX is the name of the data column in your data frame) to visualize the variation of the level of Lake Erie\n",
    "- Use the .rolling() function, to generate three moving averages plots for the levels of lake erie with a window of 12 months, which is a trend by removing short-term variations (<12 moths)\n",
    "- subtract the trend from the original data to get the short-term variations. Is it purely seasonal?"
   ]
  }
 ],
 "metadata": {
  "kernelspec": {
   "display_name": "Python 3 (ipykernel)",
   "language": "python",
   "name": "python3"
  },
  "language_info": {
   "codemirror_mode": {
    "name": "ipython",
    "version": 3
   },
   "file_extension": ".py",
   "mimetype": "text/x-python",
   "name": "python",
   "nbconvert_exporter": "python",
   "pygments_lexer": "ipython3",
   "version": "3.9.12"
  }
 },
 "nbformat": 4,
 "nbformat_minor": 2
}
