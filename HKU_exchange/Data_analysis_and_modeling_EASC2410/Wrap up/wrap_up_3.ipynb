{
 "cells": [
  {
   "cell_type": "markdown",
   "metadata": {},
   "source": [
    "## Wrap-up 3"
   ]
  },
  {
   "cell_type": "markdown",
   "metadata": {},
   "source": [
    "- Numpy Basics\n",
    "\n",
    "- Matplotlib Basics\n",
    "\n",
    "- Pandas Basics"
   ]
  },
  {
   "cell_type": "markdown",
   "metadata": {},
   "source": [
    "## 1. Numpy Basics\n",
    "\n",
    "    a. Creating 1-D and 2-D Numpy Arrays\n",
    "    b. Load Numpy Arrays from File\n",
    "    c. Index slicing and Filtering\n",
    "    d. Useful Numpy Functions\n",
    "\n",
    "\n",
    "\n",
    "## 2. Matplotlib\n",
    "\n",
    "    a. 1-D plots\n",
    "    b. 2-D plots (not in exam)\n",
    "\n",
    "\n",
    "## 3. Pandas\n",
    "    a. Load data into dataframs\n",
    "        - csv file\n",
    "        - excel file\n",
    "    b. Dataset cleaning and filtering"
   ]
  },
  {
   "cell_type": "markdown",
   "metadata": {},
   "source": [
    "## 1. Numpy Basics\n",
    "\n",
    "### a. Creating 1-D and 2-D Numpy Arrays\n",
    "\n",
    "- numpy.array()\n",
    "- numpy.ones()\n",
    "- numpy.zeros()\n",
    "- numpy.linspace()\n",
    "- numpy.arange()\n",
    "\n",
    "Examples:"
   ]
  },
  {
   "cell_type": "code",
   "execution_count": 1,
   "metadata": {},
   "outputs": [
    {
     "name": "stdout",
     "output_type": "stream",
     "text": [
      "<class 'numpy.ndarray'>\n"
     ]
    }
   ],
   "source": [
    "import numpy as np\n",
    "# here are the list of heights and weights\n",
    "height = [1.73, 1.68, 1.71, 1.89, 1.79]\n",
    "weight = [65.4, 59.2, 63.6, 89.4, 68.7]\n",
    "\n",
    "np_height = np.array(height)\n",
    "np_weight = np.array(weight)\n",
    "print(type(np_height))"
   ]
  },
  {
   "cell_type": "code",
   "execution_count": 2,
   "metadata": {},
   "outputs": [
    {
     "name": "stdout",
     "output_type": "stream",
     "text": [
      "[1. 1. 1. 1.]\n",
      "[0 0 0 0 0]\n",
      "[10 11 12 13 14 15 16 17 18 19 20 21 22 23 24]\n",
      "[0.   0.25 0.5  0.75 1.   1.25 1.5  1.75 2.  ]\n"
     ]
    }
   ],
   "source": [
    "import numpy as np \n",
    "# Create an array of ones\n",
    "print( np.ones((4)) )\n",
    "\n",
    "# Create an array of zeros\n",
    "print( np.zeros((5),dtype=np.int16) )\n",
    "\n",
    "# Create an array of evenly-spaced values\n",
    "print( np.arange(10,25,1) )\n",
    "\n",
    "# Create an array of evenly-spaced values\n",
    "print( np.linspace(0,2,9) )"
   ]
  },
  {
   "cell_type": "markdown",
   "metadata": {},
   "source": [
    "2-D Numpy arrays\n",
    "\n",
    "- use the same 1-D functions\n",
    "- 2-D np.meshgrid()"
   ]
  },
  {
   "cell_type": "code",
   "execution_count": 3,
   "metadata": {},
   "outputs": [
    {
     "name": "stdout",
     "output_type": "stream",
     "text": [
      "[[1. 1. 1. 1. 1.]\n",
      " [1. 1. 1. 1. 1.]\n",
      " [1. 1. 1. 1. 1.]\n",
      " [1. 1. 1. 1. 1.]]\n",
      "[[0 0 0]\n",
      " [0 0 0]\n",
      " [0 0 0]]\n"
     ]
    }
   ],
   "source": [
    "# Create an array of ones\n",
    "print( np.ones((4,5)) )\n",
    "\n",
    "# Create an array of zeros\n",
    "print( np.zeros((3,3),dtype=np.int16) )"
   ]
  },
  {
   "cell_type": "code",
   "execution_count": 4,
   "metadata": {},
   "outputs": [
    {
     "name": "stdout",
     "output_type": "stream",
     "text": [
      "[[0.  0.2 0.4 0.6 0.8 1. ]\n",
      " [0.  0.2 0.4 0.6 0.8 1. ]\n",
      " [0.  0.2 0.4 0.6 0.8 1. ]\n",
      " [0.  0.2 0.4 0.6 0.8 1. ]\n",
      " [0.  0.2 0.4 0.6 0.8 1. ]]\n"
     ]
    }
   ],
   "source": [
    "# generate 2-D numpy arrays\n",
    "x = np.linspace(0,1,6)\n",
    "y = np.linspace(0,1,5)\n",
    "xx,yy=np.meshgrid(x,y)\n",
    "print(xx)"
   ]
  },
  {
   "cell_type": "markdown",
   "metadata": {},
   "source": [
    "### b. Load Numpy Arrays from File\n",
    "\n",
    "- np.loadtxt(), useful options: delimiter, skiprows\n",
    "- np.genfromtxt(), useful options: delimiter, skip_header"
   ]
  },
  {
   "cell_type": "code",
   "execution_count": 5,
   "metadata": {},
   "outputs": [
    {
     "name": "stdout",
     "output_type": "stream",
     "text": [
      "<class 'numpy.ndarray'>\n"
     ]
    }
   ],
   "source": [
    "temp_anom = np.loadtxt('../Datasets/temperature.txt',delimiter=None, skiprows=0)\n",
    "print(type(temp_anom))"
   ]
  },
  {
   "cell_type": "code",
   "execution_count": 6,
   "metadata": {},
   "outputs": [
    {
     "name": "stdout",
     "output_type": "stream",
     "text": [
      "<class 'numpy.ndarray'>\n"
     ]
    }
   ],
   "source": [
    "temp_anom = np.genfromtxt('../Datasets/temperature.txt',delimiter=None, skip_header=0)\n",
    "print(type(temp_anom))"
   ]
  },
  {
   "cell_type": "markdown",
   "metadata": {},
   "source": [
    "### c. Index slicing and Filtering\n",
    "\n",
    "- arrayName[inclusive:exclusive]\n",
    "- arrayName[inclusive:exclusive:increase]\n",
    "- arrayName[inclusive:]\n",
    "- arrayName[:exclusive]\n",
    "\n",
    "examples:"
   ]
  },
  {
   "cell_type": "code",
   "execution_count": 7,
   "metadata": {},
   "outputs": [
    {
     "name": "stdout",
     "output_type": "stream",
     "text": [
      "[1.68 1.71]\n"
     ]
    }
   ],
   "source": [
    "print(np_height[1:3]) # elements with index 1 and 2"
   ]
  },
  {
   "cell_type": "code",
   "execution_count": 8,
   "metadata": {},
   "outputs": [
    {
     "name": "stdout",
     "output_type": "stream",
     "text": [
      "[1.68 1.71 1.89 1.79]\n"
     ]
    }
   ],
   "source": [
    "print(np_height[1:]) # elements with index from 1 to the end"
   ]
  },
  {
   "cell_type": "code",
   "execution_count": 9,
   "metadata": {},
   "outputs": [
    {
     "name": "stdout",
     "output_type": "stream",
     "text": [
      "[1.73 1.68 1.71]\n"
     ]
    }
   ],
   "source": [
    "print(np_height[:3]) # elements with index from 0 to 2"
   ]
  },
  {
   "cell_type": "markdown",
   "metadata": {},
   "source": [
    "access rows and columns from 2-D numpy array: this method is useful when loading data from files, especially each column/row represents different datasets"
   ]
  },
  {
   "cell_type": "code",
   "execution_count": 10,
   "metadata": {},
   "outputs": [],
   "source": [
    "anom = temp_anom[:,1] # second column of 2-D numpy array temp_anom\n",
    "year = temp_anom[1,:] # second row of 2-D numpy array temp_anom"
   ]
  },
  {
   "cell_type": "markdown",
   "metadata": {},
   "source": [
    "Filtering is basically a combination of logical/relational operations and index slicing:\n",
    "- for example in the 1-D numpy array \"anom\", to find all the values greater than 0.5:"
   ]
  },
  {
   "cell_type": "code",
   "execution_count": 11,
   "metadata": {},
   "outputs": [
    {
     "name": "stdout",
     "output_type": "stream",
     "text": [
      "[0.63 0.54 0.63 0.61 0.54 0.68 0.63 0.64 0.52 0.64 0.71 0.59 0.62 0.65\n",
      " 0.74 0.87 1.   0.91 0.83]\n"
     ]
    }
   ],
   "source": [
    "large_anom = anom[anom>0.5]\n",
    "print(large_anom)"
   ]
  },
  {
   "cell_type": "markdown",
   "metadata": {},
   "source": [
    "### d. Useful Numpy Functions\n",
    "\n",
    "- shape, size\n",
    "- max, min, mean, median, std\n",
    "- math functions"
   ]
  },
  {
   "cell_type": "code",
   "execution_count": 12,
   "metadata": {},
   "outputs": [
    {
     "name": "stdout",
     "output_type": "stream",
     "text": [
      "139\n",
      "(139, 3)\n"
     ]
    }
   ],
   "source": [
    "print(anom.size)\n",
    "print(temp_anom.shape)"
   ]
  },
  {
   "cell_type": "code",
   "execution_count": 13,
   "metadata": {},
   "outputs": [
    {
     "name": "stdout",
     "output_type": "stream",
     "text": [
      "59.2\n",
      "89.4\n",
      "69.26\n",
      "346.3\n",
      "10.52684188159013\n"
     ]
    }
   ],
   "source": [
    "print(np_weight.min())  # print the minimum value      in the np_weight list\n",
    "print(np_weight.max())  # print the maximim value      in the np_weight list\n",
    "print(np_weight.mean()) # print the average value      in the np_weight list\n",
    "print(np_weight.sum())  # print the sum of the weights in the np_weight list\n",
    "print(np_weight.std())  # print the standard deviation in the np_weight list"
   ]
  },
  {
   "cell_type": "markdown",
   "metadata": {},
   "source": [
    "some useful functions of numpy\n",
    "- sin(), cos(), tan()，sqrt()\n",
    "- sum(), max(), min(), sort()"
   ]
  },
  {
   "cell_type": "markdown",
   "metadata": {},
   "source": [
    "## 2. Matplotlib\n",
    "\n",
    "### a. 1-D plots\n",
    "\n",
    "- pyplot.plot()\n",
    "- plt.scatter()\n",
    "- pyplot.stem()\n",
    "- pyplot.step()\n",
    "- pyplot.bar()\n",
    "- pyplot.hist()\n",
    "\n",
    "Examples - let's use the temperature anomaly data, more exmaples are here: https://matplotlib.org/gallery/index.html"
   ]
  },
  {
   "cell_type": "code",
   "execution_count": 3,
   "metadata": {},
   "outputs": [
    {
     "ename": "NameError",
     "evalue": "name 'np' is not defined",
     "output_type": "error",
     "traceback": [
      "\u001b[0;31m---------------------------------------------------------------------------\u001b[0m",
      "\u001b[0;31mNameError\u001b[0m                                 Traceback (most recent call last)",
      "\u001b[0;32m<ipython-input-3-e058f5cd72f6>\u001b[0m in \u001b[0;36m<module>\u001b[0;34m\u001b[0m\n\u001b[1;32m      3\u001b[0m \u001b[0mwarnings\u001b[0m\u001b[0;34m.\u001b[0m\u001b[0mfilterwarnings\u001b[0m\u001b[0;34m(\u001b[0m\u001b[0;34m\"ignore\"\u001b[0m\u001b[0;34m)\u001b[0m\u001b[0;34m\u001b[0m\u001b[0;34m\u001b[0m\u001b[0m\n\u001b[1;32m      4\u001b[0m \u001b[0;34m\u001b[0m\u001b[0m\n\u001b[0;32m----> 5\u001b[0;31m \u001b[0mtemp_anom\u001b[0m \u001b[0;34m=\u001b[0m \u001b[0mnp\u001b[0m\u001b[0;34m.\u001b[0m\u001b[0mgenfromtxt\u001b[0m\u001b[0;34m(\u001b[0m\u001b[0;34m'../Datasets/temperature.txt'\u001b[0m\u001b[0;34m,\u001b[0m\u001b[0mdelimiter\u001b[0m\u001b[0;34m=\u001b[0m\u001b[0;32mNone\u001b[0m\u001b[0;34m,\u001b[0m \u001b[0mskip_header\u001b[0m\u001b[0;34m=\u001b[0m\u001b[0;36m0\u001b[0m\u001b[0;34m)\u001b[0m\u001b[0;34m\u001b[0m\u001b[0;34m\u001b[0m\u001b[0m\n\u001b[0m\u001b[1;32m      6\u001b[0m \u001b[0myear\u001b[0m \u001b[0;34m=\u001b[0m \u001b[0mtemp_anom\u001b[0m\u001b[0;34m[\u001b[0m\u001b[0;34m:\u001b[0m\u001b[0;34m,\u001b[0m\u001b[0;36m0\u001b[0m\u001b[0;34m]\u001b[0m\u001b[0;34m\u001b[0m\u001b[0;34m\u001b[0m\u001b[0m\n\u001b[1;32m      7\u001b[0m \u001b[0manom\u001b[0m \u001b[0;34m=\u001b[0m \u001b[0mtemp_anom\u001b[0m\u001b[0;34m[\u001b[0m\u001b[0;34m:\u001b[0m\u001b[0;34m,\u001b[0m\u001b[0;36m1\u001b[0m\u001b[0;34m]\u001b[0m\u001b[0;34m\u001b[0m\u001b[0;34m\u001b[0m\u001b[0m\n",
      "\u001b[0;31mNameError\u001b[0m: name 'np' is not defined"
     ]
    }
   ],
   "source": [
    "import matplotlib.pyplot as plt\n",
    "import warnings\n",
    "warnings.filterwarnings(\"ignore\")\n",
    "\n",
    "temp_anom = np.genfromtxt('../Datasets/temperature.txt',delimiter=None, skip_header=0)\n",
    "year = temp_anom[:,0]\n",
    "anom = temp_anom[:,1]\n",
    "\n",
    "plt.figure(figsize=(18,10))\n",
    "plt.subplot(2,3,1)\n",
    "plt.plot(year,anom)\n",
    "plt.xlabel('Year'),plt.ylabel('Temperature Aomaly'),plt.title('Plot')\n",
    "\n",
    "plt.subplot(2,3,2)\n",
    "plt.step(year,anom)\n",
    "plt.xlabel('Year'),plt.ylabel('Temperature Aomaly'),plt.title('Step')\n",
    "\n",
    "plt.subplot(2,3,3)\n",
    "plt.stem(year,anom)\n",
    "plt.xlabel('Year'),plt.ylabel('Temperature Aomaly'),plt.title('Stem')\n",
    "\n",
    "plt.subplot(2,3,4)\n",
    "plt.scatter(year,anom)\n",
    "plt.xlabel('Year'),plt.ylabel('Temperature Aomaly'),plt.title('Scatter')\n",
    "\n",
    "plt.subplot(2,3,5)\n",
    "plt.bar(year,anom)\n",
    "plt.xlabel('Year'),plt.ylabel('Temperature Aomaly'),plt.title('Bar')\n",
    "\n",
    "plt.subplot(2,3,6)\n",
    "plt.hist(anom,bins=20)\n",
    "plt.xlabel('Temperature Aomaly'),plt.ylabel('Temperature Aomaly'),plt.title('Hist')\n",
    "plt.show()"
   ]
  },
  {
   "cell_type": "markdown",
   "metadata": {},
   "source": [
    "Pie charts:"
   ]
  },
  {
   "cell_type": "markdown",
   "metadata": {},
   "source": [
    "### b. 2-D plots\n",
    "\n",
    "- pcolor()\n",
    "- polar()\n",
    "- contour()\n",
    "- contourf()\n",
    "- quiver()\n",
    "\n",
    "for example:"
   ]
  },
  {
   "cell_type": "code",
   "execution_count": 16,
   "metadata": {},
   "outputs": [
    {
     "data": {
      "text/plain": [
       "<matplotlib.colorbar.Colorbar at 0x7fb1a043f0d0>"
      ]
     },
     "execution_count": 16,
     "metadata": {},
     "output_type": "execute_result"
    },
    {
     "data": {
      "image/png": "[encoded data removed]",
      "text/plain": [
       "<Figure size 1238.4x576 with 8 Axes>"
      ]
     },
     "metadata": {
      "needs_background": "light"
     },
     "output_type": "display_data"
    }
   ],
   "source": [
    "x = np.arange(-1.0, 1.02, 0.02) # make a 1D array from -1.0 to 1.0 with a spacing of .02\n",
    "y = np.arange(0.0, 1.02, 0.02) # ditto\n",
    "\n",
    "xx, yy = np.meshgrid(x, y) # make a meshgrid\n",
    "\n",
    "zz = np.sin(xx*np.pi)*np.sin(yy*np.pi)# z here is a function of xx,yy - same size as xx and yy\n",
    "\n",
    "plt.figure(figsize=(8.6*2,4*2))\n",
    "plt.subplot(2,2,1)\n",
    "plt.pcolor(xx,yy,zz,vmin=-1,vmax=1)\n",
    "plt.xlabel('x'),plt.ylabel('y'),plt.title('pcolor')\n",
    "plt.colorbar()\n",
    "\n",
    "plt.subplot(2,2,2)\n",
    "plt.contour(xx,yy,zz,levels = 20)\n",
    "plt.xlabel('x'),plt.ylabel('y'),plt.title('contour')\n",
    "plt.colorbar()\n",
    "\n",
    "plt.subplot(2,2,3)\n",
    "plt.contourf(zz)\n",
    "plt.xlabel('x'),plt.ylabel('y'),plt.title('contourf')\n",
    "plt.colorbar()\n",
    "\n",
    "plt.subplot(2,2,4)\n",
    "plt.imshow(zz, interpolation='spline16', cmap='viridis')\n",
    "plt.xlabel('x'),plt.ylabel('y'),plt.title('imshow')\n",
    "plt.colorbar()"
   ]
  },
  {
   "cell_type": "markdown",
   "metadata": {},
   "source": [
    "## 3. Pandas\n",
    "\n",
    "### a. Load data into dataframs\n",
    "- pandas.read_csv():\n",
    "    - sep/delimiter: Delimiter to use. default sep is None. depending on what delimiter is used in the data file, typical ones are ',', '\\s', '\\t'\n",
    "    - index_col: Column(s) to use as the row labels of the DataFrame, either given as string name or column index. default is None\n",
    "- pandas.read_excel()\n",
    "    - index_col: int, list of int, default None\n",
    "\n",
    "When you load the data into pandas dataframe, take a look at what the data looks like (rows, columns, how many rows to skip, index columns, etc), then you will have a much better sense of what option to use in the pandas functions. for example:\n"
   ]
  },
  {
   "cell_type": "code",
   "execution_count": 19,
   "metadata": {},
   "outputs": [
    {
     "data": {
      "text/html": [
       "<div>\n",
       "<style scoped>\n",
       "    .dataframe tbody tr th:only-of-type {\n",
       "        vertical-align: middle;\n",
       "    }\n",
       "\n",
       "    .dataframe tbody tr th {\n",
       "        vertical-align: top;\n",
       "    }\n",
       "\n",
       "    .dataframe thead th {\n",
       "        text-align: right;\n",
       "    }\n",
       "</style>\n",
       "<table border=\"1\" class=\"dataframe\">\n",
       "  <thead>\n",
       "    <tr style=\"text-align: right;\">\n",
       "      <th></th>\n",
       "      <th>Country</th>\n",
       "      <th>Population</th>\n",
       "      <th>Area</th>\n",
       "      <th>Capital</th>\n",
       "    </tr>\n",
       "  </thead>\n",
       "  <tbody>\n",
       "    <tr>\n",
       "      <td>BR</td>\n",
       "      <td>Brazil</td>\n",
       "      <td>200</td>\n",
       "      <td>8515767</td>\n",
       "      <td>Brazilia</td>\n",
       "    </tr>\n",
       "    <tr>\n",
       "      <td>RU</td>\n",
       "      <td>Russia</td>\n",
       "      <td>144</td>\n",
       "      <td>17098242</td>\n",
       "      <td>Moscow</td>\n",
       "    </tr>\n",
       "    <tr>\n",
       "      <td>IN</td>\n",
       "      <td>India</td>\n",
       "      <td>1252</td>\n",
       "      <td>3287590</td>\n",
       "      <td>New Delhi</td>\n",
       "    </tr>\n",
       "    <tr>\n",
       "      <td>CH</td>\n",
       "      <td>China</td>\n",
       "      <td>1357</td>\n",
       "      <td>9596961</td>\n",
       "      <td>Beijing</td>\n",
       "    </tr>\n",
       "    <tr>\n",
       "      <td>SA</td>\n",
       "      <td>South Africa</td>\n",
       "      <td>55</td>\n",
       "      <td>1221037</td>\n",
       "      <td>Pretoria</td>\n",
       "    </tr>\n",
       "  </tbody>\n",
       "</table>\n",
       "</div>"
      ],
      "text/plain": [
       "         Country  Population      Area    Capital\n",
       "BR        Brazil         200   8515767   Brazilia\n",
       "RU        Russia         144  17098242     Moscow\n",
       "IN         India        1252   3287590  New Delhi\n",
       "CH         China        1357   9596961    Beijing\n",
       "SA  South Africa          55   1221037   Pretoria"
      ]
     },
     "execution_count": 19,
     "metadata": {},
     "output_type": "execute_result"
    }
   ],
   "source": [
    "import pandas as pd\n",
    "file = \"../Datasets/brics.csv\" # define where the file is - [Relative Path + Name]\n",
    "brics = pd.read_csv(file,index_col=0)\n",
    "brics.head() # display the data frame"
   ]
  },
  {
   "cell_type": "code",
   "execution_count": 20,
   "metadata": {},
   "outputs": [
    {
     "data": {
      "text/html": [
       "<div>\n",
       "<style scoped>\n",
       "    .dataframe tbody tr th:only-of-type {\n",
       "        vertical-align: middle;\n",
       "    }\n",
       "\n",
       "    .dataframe tbody tr th {\n",
       "        vertical-align: top;\n",
       "    }\n",
       "\n",
       "    .dataframe thead th {\n",
       "        text-align: right;\n",
       "    }\n",
       "</style>\n",
       "<table border=\"1\" class=\"dataframe\">\n",
       "  <thead>\n",
       "    <tr style=\"text-align: right;\">\n",
       "      <th></th>\n",
       "      <th>Year</th>\n",
       "      <th>Month</th>\n",
       "      <th>Day</th>\n",
       "      <th>Hour</th>\n",
       "      <th>Lat</th>\n",
       "      <th>Long</th>\n",
       "      <th>Pressure (hPa)</th>\n",
       "      <th>Wind (kt)</th>\n",
       "      <th>Class</th>\n",
       "    </tr>\n",
       "  </thead>\n",
       "  <tbody>\n",
       "    <tr>\n",
       "      <td>0</td>\n",
       "      <td>2018</td>\n",
       "      <td>9</td>\n",
       "      <td>6</td>\n",
       "      <td>12</td>\n",
       "      <td>11.8</td>\n",
       "      <td>170.2</td>\n",
       "      <td>1008</td>\n",
       "      <td>0</td>\n",
       "      <td>2</td>\n",
       "    </tr>\n",
       "    <tr>\n",
       "      <td>1</td>\n",
       "      <td>2018</td>\n",
       "      <td>9</td>\n",
       "      <td>6</td>\n",
       "      <td>18</td>\n",
       "      <td>12.0</td>\n",
       "      <td>169.2</td>\n",
       "      <td>1008</td>\n",
       "      <td>0</td>\n",
       "      <td>2</td>\n",
       "    </tr>\n",
       "    <tr>\n",
       "      <td>2</td>\n",
       "      <td>2018</td>\n",
       "      <td>9</td>\n",
       "      <td>7</td>\n",
       "      <td>0</td>\n",
       "      <td>12.0</td>\n",
       "      <td>167.8</td>\n",
       "      <td>1008</td>\n",
       "      <td>0</td>\n",
       "      <td>2</td>\n",
       "    </tr>\n",
       "    <tr>\n",
       "      <td>3</td>\n",
       "      <td>2018</td>\n",
       "      <td>9</td>\n",
       "      <td>7</td>\n",
       "      <td>6</td>\n",
       "      <td>12.3</td>\n",
       "      <td>166.6</td>\n",
       "      <td>1006</td>\n",
       "      <td>0</td>\n",
       "      <td>2</td>\n",
       "    </tr>\n",
       "    <tr>\n",
       "      <td>4</td>\n",
       "      <td>2018</td>\n",
       "      <td>9</td>\n",
       "      <td>7</td>\n",
       "      <td>12</td>\n",
       "      <td>12.7</td>\n",
       "      <td>165.4</td>\n",
       "      <td>1000</td>\n",
       "      <td>35</td>\n",
       "      <td>3</td>\n",
       "    </tr>\n",
       "  </tbody>\n",
       "</table>\n",
       "</div>"
      ],
      "text/plain": [
       "   Year  Month  Day  Hour   Lat   Long  Pressure (hPa)  Wind (kt)  Class\n",
       "0  2018      9    6    12  11.8  170.2            1008          0      2\n",
       "1  2018      9    6    18  12.0  169.2            1008          0      2\n",
       "2  2018      9    7     0  12.0  167.8            1008          0      2\n",
       "3  2018      9    7     6  12.3  166.6            1006          0      2\n",
       "4  2018      9    7    12  12.7  165.4            1000         35      3"
      ]
     },
     "execution_count": 20,
     "metadata": {},
     "output_type": "execute_result"
    }
   ],
   "source": [
    "mangkhut = pd.read_excel(\"../Datasets/mangkhut.xlsx\")\n",
    "mangkhut.head()"
   ]
  },
  {
   "cell_type": "markdown",
   "metadata": {},
   "source": [
    "**column access**"
   ]
  },
  {
   "cell_type": "code",
   "execution_count": 21,
   "metadata": {},
   "outputs": [
    {
     "data": {
      "image/png": "[encoded data removed]",
      "text/plain": [
       "<Figure size 432x288 with 1 Axes>"
      ]
     },
     "metadata": {
      "needs_background": "light"
     },
     "output_type": "display_data"
    }
   ],
   "source": [
    "cls = mangkhut.Class # column data Class\n",
    "prs = mangkhut['Pressure (hPa)'] # column data Pressure (hPa)\n",
    "plt.scatter(cls,prs) #generate a quick plot showing the relationship between class and pressure\n",
    "plt.show()"
   ]
  },
  {
   "cell_type": "markdown",
   "metadata": {},
   "source": [
    "**row access**"
   ]
  },
  {
   "cell_type": "code",
   "execution_count": 22,
   "metadata": {},
   "outputs": [
    {
     "name": "stdout",
     "output_type": "stream",
     "text": [
      "11.8\n"
     ]
    }
   ],
   "source": [
    "print( mangkhut['Lat'].iloc[0] ) # the first element in the latitude column"
   ]
  },
  {
   "cell_type": "markdown",
   "metadata": {},
   "source": [
    "a more useful column access method is interate through rows of a pandas dataframe:"
   ]
  },
  {
   "cell_type": "code",
   "execution_count": 23,
   "metadata": {},
   "outputs": [
    {
     "name": "stdout",
     "output_type": "stream",
     "text": [
      "The population of Brazil is 200 Million\n",
      "The population of Russia is 144 Million\n",
      "The population of India is 1252 Million\n",
      "The population of China is 1357 Million\n",
      "The population of South Africa is 55 Million\n"
     ]
    }
   ],
   "source": [
    "for row in brics.itertuples(): # interate through pandas rows\n",
    "    \n",
    "    ct=row.Country       # country\n",
    "    po=row.Population    # population\n",
    "\n",
    "    print('The population of',ct,'is',po,'Million')"
   ]
  },
  {
   "cell_type": "markdown",
   "metadata": {},
   "source": [
    "### b. Dataset cleaning and Filtering\n",
    "\n",
    "- dataset cleaning including removing NaNs and non-physical numbers. removing NaNs are important for some functions since lots of mathematical calculations and visualizations do not know how to deal with NaNs - you get errors or results unexpected"
   ]
  },
  {
   "cell_type": "code",
   "execution_count": 24,
   "metadata": {},
   "outputs": [],
   "source": [
    "mangkhut = mangkhut.dropna() # remove all the rows with NaNs\n",
    "mangkhut = mangkhut.fillna(0) # fill all the NaNs with zero - so the row is kept"
   ]
  },
  {
   "cell_type": "markdown",
   "metadata": {},
   "source": [
    "- Data filtering is similar to what you've done with a numpy array - using relational/logical operations together with index slicing:"
   ]
  },
  {
   "cell_type": "code",
   "execution_count": 25,
   "metadata": {},
   "outputs": [
    {
     "data": {
      "text/html": [
       "<div>\n",
       "<style scoped>\n",
       "    .dataframe tbody tr th:only-of-type {\n",
       "        vertical-align: middle;\n",
       "    }\n",
       "\n",
       "    .dataframe tbody tr th {\n",
       "        vertical-align: top;\n",
       "    }\n",
       "\n",
       "    .dataframe thead th {\n",
       "        text-align: right;\n",
       "    }\n",
       "</style>\n",
       "<table border=\"1\" class=\"dataframe\">\n",
       "  <thead>\n",
       "    <tr style=\"text-align: right;\">\n",
       "      <th></th>\n",
       "      <th>Year</th>\n",
       "      <th>Month</th>\n",
       "      <th>Day</th>\n",
       "      <th>Hour</th>\n",
       "      <th>Lat</th>\n",
       "      <th>Long</th>\n",
       "      <th>Pressure (hPa)</th>\n",
       "      <th>Wind (kt)</th>\n",
       "      <th>Class</th>\n",
       "    </tr>\n",
       "  </thead>\n",
       "  <tbody>\n",
       "    <tr>\n",
       "      <td>4</td>\n",
       "      <td>2018</td>\n",
       "      <td>9</td>\n",
       "      <td>7</td>\n",
       "      <td>12</td>\n",
       "      <td>12.7</td>\n",
       "      <td>165.4</td>\n",
       "      <td>1000</td>\n",
       "      <td>35</td>\n",
       "      <td>3</td>\n",
       "    </tr>\n",
       "    <tr>\n",
       "      <td>5</td>\n",
       "      <td>2018</td>\n",
       "      <td>9</td>\n",
       "      <td>7</td>\n",
       "      <td>18</td>\n",
       "      <td>13.0</td>\n",
       "      <td>163.9</td>\n",
       "      <td>1000</td>\n",
       "      <td>35</td>\n",
       "      <td>3</td>\n",
       "    </tr>\n",
       "    <tr>\n",
       "      <td>6</td>\n",
       "      <td>2018</td>\n",
       "      <td>9</td>\n",
       "      <td>8</td>\n",
       "      <td>0</td>\n",
       "      <td>13.6</td>\n",
       "      <td>162.3</td>\n",
       "      <td>998</td>\n",
       "      <td>40</td>\n",
       "      <td>3</td>\n",
       "    </tr>\n",
       "    <tr>\n",
       "      <td>7</td>\n",
       "      <td>2018</td>\n",
       "      <td>9</td>\n",
       "      <td>8</td>\n",
       "      <td>6</td>\n",
       "      <td>14.3</td>\n",
       "      <td>160.6</td>\n",
       "      <td>996</td>\n",
       "      <td>40</td>\n",
       "      <td>3</td>\n",
       "    </tr>\n",
       "    <tr>\n",
       "      <td>8</td>\n",
       "      <td>2018</td>\n",
       "      <td>9</td>\n",
       "      <td>8</td>\n",
       "      <td>12</td>\n",
       "      <td>14.5</td>\n",
       "      <td>159.2</td>\n",
       "      <td>992</td>\n",
       "      <td>45</td>\n",
       "      <td>3</td>\n",
       "    </tr>\n",
       "  </tbody>\n",
       "</table>\n",
       "</div>"
      ],
      "text/plain": [
       "   Year  Month  Day  Hour   Lat   Long  Pressure (hPa)  Wind (kt)  Class\n",
       "4  2018      9    7    12  12.7  165.4            1000         35      3\n",
       "5  2018      9    7    18  13.0  163.9            1000         35      3\n",
       "6  2018      9    8     0  13.6  162.3             998         40      3\n",
       "7  2018      9    8     6  14.3  160.6             996         40      3\n",
       "8  2018      9    8    12  14.5  159.2             992         45      3"
      ]
     },
     "execution_count": 25,
     "metadata": {},
     "output_type": "execute_result"
    }
   ],
   "source": [
    "mangkhut_class3up = mangkhut[mangkhut.Class>=3] # generate a new dataframe with class >= 3\n",
    "mangkhut_class3up.head()"
   ]
  },
  {
   "cell_type": "code",
   "execution_count": 26,
   "metadata": {},
   "outputs": [
    {
     "data": {
      "text/html": [
       "<div>\n",
       "<style scoped>\n",
       "    .dataframe tbody tr th:only-of-type {\n",
       "        vertical-align: middle;\n",
       "    }\n",
       "\n",
       "    .dataframe tbody tr th {\n",
       "        vertical-align: top;\n",
       "    }\n",
       "\n",
       "    .dataframe thead th {\n",
       "        text-align: right;\n",
       "    }\n",
       "</style>\n",
       "<table border=\"1\" class=\"dataframe\">\n",
       "  <thead>\n",
       "    <tr style=\"text-align: right;\">\n",
       "      <th></th>\n",
       "      <th>Year</th>\n",
       "      <th>Month</th>\n",
       "      <th>Day</th>\n",
       "      <th>Hour</th>\n",
       "      <th>Lat</th>\n",
       "      <th>Long</th>\n",
       "      <th>Pressure (hPa)</th>\n",
       "      <th>Wind (kt)</th>\n",
       "      <th>Class</th>\n",
       "    </tr>\n",
       "  </thead>\n",
       "  <tbody>\n",
       "    <tr>\n",
       "      <td>0</td>\n",
       "      <td>2018</td>\n",
       "      <td>9</td>\n",
       "      <td>6</td>\n",
       "      <td>12</td>\n",
       "      <td>11.8</td>\n",
       "      <td>170.2</td>\n",
       "      <td>1008</td>\n",
       "      <td>0</td>\n",
       "      <td>2</td>\n",
       "    </tr>\n",
       "    <tr>\n",
       "      <td>1</td>\n",
       "      <td>2018</td>\n",
       "      <td>9</td>\n",
       "      <td>6</td>\n",
       "      <td>18</td>\n",
       "      <td>12.0</td>\n",
       "      <td>169.2</td>\n",
       "      <td>1008</td>\n",
       "      <td>0</td>\n",
       "      <td>2</td>\n",
       "    </tr>\n",
       "    <tr>\n",
       "      <td>2</td>\n",
       "      <td>2018</td>\n",
       "      <td>9</td>\n",
       "      <td>7</td>\n",
       "      <td>0</td>\n",
       "      <td>12.0</td>\n",
       "      <td>167.8</td>\n",
       "      <td>1008</td>\n",
       "      <td>0</td>\n",
       "      <td>2</td>\n",
       "    </tr>\n",
       "    <tr>\n",
       "      <td>3</td>\n",
       "      <td>2018</td>\n",
       "      <td>9</td>\n",
       "      <td>7</td>\n",
       "      <td>6</td>\n",
       "      <td>12.3</td>\n",
       "      <td>166.6</td>\n",
       "      <td>1006</td>\n",
       "      <td>0</td>\n",
       "      <td>2</td>\n",
       "    </tr>\n",
       "    <tr>\n",
       "      <td>4</td>\n",
       "      <td>2018</td>\n",
       "      <td>9</td>\n",
       "      <td>7</td>\n",
       "      <td>12</td>\n",
       "      <td>12.7</td>\n",
       "      <td>165.4</td>\n",
       "      <td>1000</td>\n",
       "      <td>35</td>\n",
       "      <td>3</td>\n",
       "    </tr>\n",
       "  </tbody>\n",
       "</table>\n",
       "</div>"
      ],
      "text/plain": [
       "   Year  Month  Day  Hour   Lat   Long  Pressure (hPa)  Wind (kt)  Class\n",
       "0  2018      9    6    12  11.8  170.2            1008          0      2\n",
       "1  2018      9    6    18  12.0  169.2            1008          0      2\n",
       "2  2018      9    7     0  12.0  167.8            1008          0      2\n",
       "3  2018      9    7     6  12.3  166.6            1006          0      2\n",
       "4  2018      9    7    12  12.7  165.4            1000         35      3"
      ]
     },
     "execution_count": 26,
     "metadata": {},
     "output_type": "execute_result"
    }
   ],
   "source": [
    "mangkhut_class3up = mangkhut[mangkhut['Month']==9] # generate a new dataframe with class >= 3\n",
    "mangkhut_class3up.head()"
   ]
  },
  {
   "cell_type": "markdown",
   "metadata": {},
   "source": [
    "The filtering method is useful in grouping the data based on criteria. See if you can understand the following code calculating the average life expectency for the continent Asia"
   ]
  },
  {
   "cell_type": "code",
   "execution_count": 50,
   "metadata": {},
   "outputs": [
    {
     "data": {
      "text/html": [
       "<div>\n",
       "<style scoped>\n",
       "    .dataframe tbody tr th:only-of-type {\n",
       "        vertical-align: middle;\n",
       "    }\n",
       "\n",
       "    .dataframe tbody tr th {\n",
       "        vertical-align: top;\n",
       "    }\n",
       "\n",
       "    .dataframe thead th {\n",
       "        text-align: right;\n",
       "    }\n",
       "</style>\n",
       "<table border=\"1\" class=\"dataframe\">\n",
       "  <thead>\n",
       "    <tr style=\"text-align: right;\">\n",
       "      <th></th>\n",
       "      <th>country</th>\n",
       "      <th>year</th>\n",
       "      <th>pop</th>\n",
       "      <th>continent</th>\n",
       "      <th>lifeExp</th>\n",
       "      <th>gdpPercap</th>\n",
       "    </tr>\n",
       "  </thead>\n",
       "  <tbody>\n",
       "    <tr>\n",
       "      <td>0</td>\n",
       "      <td>Afghanistan</td>\n",
       "      <td>1952</td>\n",
       "      <td>8425333.0</td>\n",
       "      <td>Asia</td>\n",
       "      <td>28.801</td>\n",
       "      <td>779.445314</td>\n",
       "    </tr>\n",
       "    <tr>\n",
       "      <td>1</td>\n",
       "      <td>Afghanistan</td>\n",
       "      <td>1957</td>\n",
       "      <td>9240934.0</td>\n",
       "      <td>Asia</td>\n",
       "      <td>30.332</td>\n",
       "      <td>820.853030</td>\n",
       "    </tr>\n",
       "    <tr>\n",
       "      <td>2</td>\n",
       "      <td>Afghanistan</td>\n",
       "      <td>1962</td>\n",
       "      <td>10267083.0</td>\n",
       "      <td>Asia</td>\n",
       "      <td>31.997</td>\n",
       "      <td>853.100710</td>\n",
       "    </tr>\n",
       "    <tr>\n",
       "      <td>3</td>\n",
       "      <td>Afghanistan</td>\n",
       "      <td>1967</td>\n",
       "      <td>11537966.0</td>\n",
       "      <td>Asia</td>\n",
       "      <td>34.020</td>\n",
       "      <td>836.197138</td>\n",
       "    </tr>\n",
       "    <tr>\n",
       "      <td>4</td>\n",
       "      <td>Afghanistan</td>\n",
       "      <td>1972</td>\n",
       "      <td>13079460.0</td>\n",
       "      <td>Asia</td>\n",
       "      <td>36.088</td>\n",
       "      <td>739.981106</td>\n",
       "    </tr>\n",
       "  </tbody>\n",
       "</table>\n",
       "</div>"
      ],
      "text/plain": [
       "       country  year         pop continent  lifeExp   gdpPercap\n",
       "0  Afghanistan  1952   8425333.0      Asia   28.801  779.445314\n",
       "1  Afghanistan  1957   9240934.0      Asia   30.332  820.853030\n",
       "2  Afghanistan  1962  10267083.0      Asia   31.997  853.100710\n",
       "3  Afghanistan  1967  11537966.0      Asia   34.020  836.197138\n",
       "4  Afghanistan  1972  13079460.0      Asia   36.088  739.981106"
      ]
     },
     "execution_count": 50,
     "metadata": {},
     "output_type": "execute_result"
    }
   ],
   "source": [
    "file = \"../Datasets/gdp_data.txt\" # file name\n",
    "gdp = pd.read_csv(file) #load file to dataframe\n",
    "gdp.head() # so you know what column datasets you are working with"
   ]
  },
  {
   "cell_type": "code",
   "execution_count": 52,
   "metadata": {},
   "outputs": [
    {
     "data": {
      "image/png": "[encoded data removed]",
      "text/plain": [
       "<Figure size 432x288 with 1 Axes>"
      ]
     },
     "metadata": {
      "needs_background": "light"
     },
     "output_type": "display_data"
    }
   ],
   "source": [
    "gdp_asia = gdp[gdp.continent=='Asia'] # filter based on continent, here we only look at 'Asia'\n",
    "\n",
    "years = gdp_asia.year.unique() # get all the years in the column 'year'\n",
    "lif_avg = [] # create an empty list to store average life expectency for each year\n",
    "\n",
    "for y in years: # step through year\n",
    "    df = gdp_asia[gdp_asia.year==y] # filter the data frame by year\n",
    "    average = df['lifeExp'].mean()  # calculate mean life expectency for each year\n",
    "    lif_avg.append(average)         # push to the list\n",
    "\n",
    "plt.plot(years,lif_avg,'-o',label='Asia') # generate plot\n",
    "plt.xlabel('year')\n",
    "plt.ylabel('age')\n",
    "plt.title('Average Life Expectency')\n",
    "plt.legend()\n",
    "plt.show()"
   ]
  },
  {
   "cell_type": "markdown",
   "metadata": {},
   "source": [
    "This type of data grouping can also be done using the seaborn module through a box plot:"
   ]
  },
  {
   "cell_type": "code",
   "execution_count": 53,
   "metadata": {},
   "outputs": [
    {
     "data": {
      "image/png": "[encoded data removed]",
      "text/plain": [
       "<Figure size 432x288 with 1 Axes>"
      ]
     },
     "metadata": {
      "needs_background": "light"
     },
     "output_type": "display_data"
    }
   ],
   "source": [
    "import seaborn as sns\n",
    "\n",
    "# make a box plot of lifeExp basd on yearly statistics\n",
    "sns.boxplot(y='lifeExp',x='year',data = gdp[(gdp.continent=='Asia')], width=0.5) \n",
    "plt.title('Average Life Expectency')\n",
    "plt.show()"
   ]
  }
 ],
 "metadata": {
  "kernelspec": {
   "display_name": "Python 3 (ipykernel)",
   "language": "python",
   "name": "python3"
  },
  "language_info": {
   "codemirror_mode": {
    "name": "ipython",
    "version": 3
   },
   "file_extension": ".py",
   "mimetype": "text/x-python",
   "name": "python",
   "nbconvert_exporter": "python",
   "pygments_lexer": "ipython3",
   "version": "3.9.12"
  }
 },
 "nbformat": 4,
 "nbformat_minor": 2
}
