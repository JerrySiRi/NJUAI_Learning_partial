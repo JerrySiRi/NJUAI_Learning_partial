{
 "cells": [
  {
   "cell_type": "markdown",
   "id": "a19f04fb",
   "metadata": {},
   "source": [
    "# Exam 2024 -  Data Analysis and Modeling for Earth Sciences\n",
    "\n",
    "- Time: 10:30am - 12:30pm, Wednesday, April 24, 2024\n",
    "\n",
    "- Grace Period: 12:30-12:35pm (5 min after deadline)\n",
    "\n",
    "- Submission link: https://www.dropbox.com/request/AXSbGLCSt8XS4gpTPtIO"
   ]
  },
  {
   "cell_type": "markdown",
   "id": "d2382b7b",
   "metadata": {},
   "source": [
    "### 1. The Fibonacci sequence"
   ]
  },
  {
   "cell_type": "code",
   "execution_count": null,
   "id": "f5d09c76",
   "metadata": {},
   "outputs": [],
   "source": [
    "# start your code here"
   ]
  },
  {
   "cell_type": "markdown",
   "id": "031aaa35",
   "metadata": {},
   "source": [
    "### 2.  Magnetic field data from Juno MAG (PJ4 to PJ23)"
   ]
  },
  {
   "cell_type": "code",
   "execution_count": null,
   "id": "d8498878",
   "metadata": {},
   "outputs": [],
   "source": [
    "# start your code here"
   ]
  },
  {
   "cell_type": "markdown",
   "id": "2a7ab546",
   "metadata": {},
   "source": [
    "### 3. Monte-Carlo simulations"
   ]
  },
  {
   "cell_type": "code",
   "execution_count": null,
   "id": "f0c9d04d",
   "metadata": {},
   "outputs": [],
   "source": [
    "# start your code here"
   ]
  },
  {
   "cell_type": "markdown",
   "id": "3f05c8ec",
   "metadata": {},
   "source": [
    "### 4. Lake Erie seiche"
   ]
  },
  {
   "cell_type": "code",
   "execution_count": null,
   "id": "5bc0a57c",
   "metadata": {},
   "outputs": [],
   "source": [
    "# start your code here"
   ]
  },
  {
   "cell_type": "markdown",
   "id": "ac1db75b",
   "metadata": {},
   "source": [
    "### 5. Sea level rise when the ice caps melt"
   ]
  },
  {
   "cell_type": "code",
   "execution_count": null,
   "id": "1d16338f",
   "metadata": {},
   "outputs": [],
   "source": [
    "# start your code here"
   ]
  }
 ],
 "metadata": {
  "kernelspec": {
   "display_name": "Python 3 (ipykernel)",
   "language": "python",
   "name": "python3"
  },
  "language_info": {
   "codemirror_mode": {
    "name": "ipython",
    "version": 3
   },
   "file_extension": ".py",
   "mimetype": "text/x-python",
   "name": "python",
   "nbconvert_exporter": "python",
   "pygments_lexer": "ipython3",
   "version": "3.9.12"
  }
 },
 "nbformat": 4,
 "nbformat_minor": 5
}
