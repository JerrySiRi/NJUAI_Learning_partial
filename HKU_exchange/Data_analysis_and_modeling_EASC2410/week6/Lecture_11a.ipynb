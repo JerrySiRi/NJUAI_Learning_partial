{
 "cells": [
  {
   "cell_type": "markdown",
   "metadata": {},
   "source": [
    "## Lecture 11a. Python Basics - Wrap-up 1: Python Basics\n",
    "\n",
    "- Keywords, Statements and Comments\n",
    "- Variables\n",
    "- Datatypes\n",
    "    - Numbers\n",
    "    - Strings\n",
    "    - Booleans\n",
    "    - Lists\n",
    "    - Sets\n",
    "    - Tuples\n",
    "    - Dictionaries\n",
    "- Operators\n",
    "\n",
    "### 0. What is Python? \n",
    "- Python is a cross-platform programming language, meaning, it runs on multiple platforms like Windows, Mac OS X, Linux, Unix and other machines. It is free and open source. It's already the most popular programing language for data science.\n",
    "- Recall the **print** function and the \"Hello world!\" program you've done:"
   ]
  },
  {
   "cell_type": "code",
   "execution_count": 12,
   "metadata": {},
   "outputs": [
    {
     "name": "stdout",
     "output_type": "stream",
     "text": [
      "hello world!\n"
     ]
    }
   ],
   "source": [
    "print('hello world!')"
   ]
  },
  {
   "cell_type": "markdown",
   "metadata": {},
   "source": [
    "### 1. Keywords \n",
    "- Keywords are the reserved words in Python.\n",
    "\n",
    "- We **cannot** use a keyword as variable name, function name or any other identifier. They are used to define the syntax and structure of the Python language.\n",
    "\n",
    "- In Python, keywords are **case sensitive**.\n",
    "\n",
    "- There are 33 keywords in Python 3. This number can vary in course of time (in future Python versions).\n",
    "\n",
    "- All the keywords except True, False and None are in lowercase and they must be written as it is. The list of all the keywords are given below: \n",
    "\n",
    "    - **False,\tclass,\tfinally,\tis,\treturn**, \n",
    "    - **None,\tcontinue,\tfor,\tlambda,\ttry**,\n",
    "    - **True,\tdef,\tfrom,\tnonlocal,\twhile**,\n",
    "    - **and,\tdel,\tglobal,\tnot,\twith**,\n",
    "    - **as,\telif,\tif,\tor,\tyield**,\n",
    "    - **assert,\telse,\timport,\tpass**,\t \n",
    "    - **break,\texcept,\tin,\traise**,"
   ]
  },
  {
   "cell_type": "markdown",
   "metadata": {},
   "source": [
    "### 2. Python Statements & Comments\n",
    "\n",
    "#### 2.1 Statements\n",
    "\n",
    "- \"Instructions\" that your Python can execute are called statements. For example, \"a = 1\" is an **assignment statement**. You've also used **if statement**, **for statement** etc., which will be reviewed later.\n",
    "- In Python, end of a statement is marked by a newline character. But we can make a statement extend over multiple lines with the line continuation character (\\). For example:"
   ]
  },
  {
   "cell_type": "code",
   "execution_count": 3,
   "metadata": {},
   "outputs": [
    {
     "name": "stdout",
     "output_type": "stream",
     "text": [
      "45\n"
     ]
    }
   ],
   "source": [
    "x = 1 + 2 + 3 + \\\n",
    "    4 + 5 + 6 + \\\n",
    "    7 + 8 + 9\n",
    "print(x)"
   ]
  },
  {
   "cell_type": "markdown",
   "metadata": {},
   "source": [
    "This is explicit line continuation. In Python, line continuation is implied inside parentheses ( ), brackets [ ] and braces { }. For instance, we can implement the above multi-line statement as:"
   ]
  },
  {
   "cell_type": "code",
   "execution_count": 4,
   "metadata": {},
   "outputs": [
    {
     "name": "stdout",
     "output_type": "stream",
     "text": [
      "45\n"
     ]
    }
   ],
   "source": [
    "x = (1 + 2 + 3 + \n",
    "     4 + 5 + 6 + \n",
    "     7 + 8 + 9)\n",
    "print(x)"
   ]
  },
  {
   "cell_type": "markdown",
   "metadata": {},
   "source": [
    " - You can also put **multiple statements in a single line** using semicolons, as follows:"
   ]
  },
  {
   "cell_type": "code",
   "execution_count": 6,
   "metadata": {},
   "outputs": [],
   "source": [
    "a = 1; b = 2; c = 3"
   ]
  },
  {
   "cell_type": "markdown",
   "metadata": {},
   "source": [
    "#### 2.2 Comments\n",
    "\n",
    "- Comments are very important while writing a program. It describes what's going on inside a program so that a person looking at the source code does not have a hard time figuring it out. You might forget the key details of the program you just wrote in a month's time. So taking time to explain these concepts in form of comments is always fruitful.\n",
    "\n",
    "- In Python, we use the **hash (#) symbol** to start writing a comment.\n",
    "\n",
    "- Comments are for programmers for better understanding of a program. Python Interpreter ignores comment (not executed). "
   ]
  },
  {
   "cell_type": "code",
   "execution_count": 11,
   "metadata": {},
   "outputs": [],
   "source": [
    "# This is a long comment\n",
    "# and it extends\n",
    "# to multiple lines, it's not executed"
   ]
  },
  {
   "cell_type": "markdown",
   "metadata": {},
   "source": [
    "#### 2.3 Python Indentation (Code blocks)\n",
    "\n",
    "Most of the programming languages like C, C++, Java use braces { } to define a block of code. Python uses indentation.\n",
    "\n",
    "- A code block (body of a function, loop etc.) starts with **indentation** and ends with the first unindented line. The amount of indentation is up to you, but it must be consistent throughout that block.\n",
    "\n",
    "- The enforcement of indentation in Python makes the code look neat and clean. This results into Python programs that look similar and consistent.\n",
    "\n",
    "- Generally **four whitespaces** are used for indentation and is preferred over tabs (since tabs may have different interpretations on different platforms). Here is an example (we will review the for-loop later):"
   ]
  },
  {
   "cell_type": "code",
   "execution_count": 14,
   "metadata": {},
   "outputs": [
    {
     "name": "stdout",
     "output_type": "stream",
     "text": [
      "1\n",
      "2\n",
      "3\n",
      "4\n",
      "5\n"
     ]
    }
   ],
   "source": [
    "for i in range(1,11):\n",
    "    print(i)\n",
    "    if i == 5:\n",
    "        break"
   ]
  },
  {
   "cell_type": "markdown",
   "metadata": {},
   "source": [
    "### 3. Variables\n",
    "\n",
    "In Python (or most programing languages), a variable is a named location used to store data in the memory. Each variable must have a **unique** name called. It is helpful to think of variables as container that hold data which can be changed later throughout programming.\n",
    "\n",
    "Non technically, you can suppose variable as a bag to store books in it and those books can be replaced at anytime.\n",
    "\n",
    "#### 3.1 Declaring Variables in Python\n",
    "\n",
    "- In Python, variables do not need declaration to reserve memory space. The \"variable declaration\" or \"variable initialization\" happens automatically when we assign a value to a variable. "
   ]
  },
  {
   "cell_type": "markdown",
   "metadata": {},
   "source": [
    "#### 3.2 Assigning value to a Variable\n",
    "- Use the assignment operator **=** to _assign_ a value to a variable: "
   ]
  },
  {
   "cell_type": "code",
   "execution_count": 15,
   "metadata": {},
   "outputs": [
    {
     "name": "stdout",
     "output_type": "stream",
     "text": [
      "Apple.com\n"
     ]
    }
   ],
   "source": [
    "website = \"Apple.com\" # create a variable named website, then assign value 'Apple.com' to it\n",
    "print(website)"
   ]
  },
  {
   "cell_type": "markdown",
   "metadata": {},
   "source": [
    "More ways to assign values to variables:"
   ]
  },
  {
   "cell_type": "code",
   "execution_count": 21,
   "metadata": {},
   "outputs": [
    {
     "name": "stdout",
     "output_type": "stream",
     "text": [
      "True Hello 3.2 5\n"
     ]
    }
   ],
   "source": [
    "a, b, c, d = 5, 3.2, \"Hello\", True\n",
    "print(d,c,b,a)"
   ]
  },
  {
   "cell_type": "markdown",
   "metadata": {},
   "source": [
    "or"
   ]
  },
  {
   "cell_type": "code",
   "execution_count": 20,
   "metadata": {},
   "outputs": [
    {
     "name": "stdout",
     "output_type": "stream",
     "text": [
      "same same same\n"
     ]
    }
   ],
   "source": [
    "x = y = z = \"same\"\n",
    "print(x,y,z)"
   ]
  },
  {
   "cell_type": "markdown",
   "metadata": {},
   "source": [
    "#### 3.3 Name your variables -  Suggested Rules \n",
    "\n",
    "To name your variables properly, here are some popular choices:\n",
    "\n",
    "- lowercase - use this for variables\n",
    "- lower_case_with_underscores - or this\n",
    "- mixedCase - or this\n",
    "- UPPERCASE - use this for constants\n",
    "- UPPER_CASE_WITH_UNDERSCORES - or this\n",
    "- CapitalizedWords (or CapWords, or CamelCase -- so named because of the bumpy look of its letters). \n",
    "\n",
    "Also, something to avoid:\n",
    "\n",
    "- Don't use characters 'l' (lowercase letter el), 'O' (uppercase letter oh), or 'I' (uppercase letter eye) as single character variable names. These are easily confused in some fonts with '1' (one), '0' (zero), for example. If you really want a letter 'el', use 'L'.\n",
    "- Don't use non-standard symbols like  ‘¥’ or ‘。’\n",
    "- Be careful with special names that use leading or trailing underscores. these are treated differently by Python and you have to know what you are doing before you use them."
   ]
  },
  {
   "cell_type": "markdown",
   "metadata": {},
   "source": [
    "### 4. Python basic Datatypes\n",
    "\n",
    "Every value in Python has a datatype. Since everything is an object in Python programming, data types are actually instance (class) and variables are objects of these classes. There are various data types in Python. Some of the important types are listed below.\n",
    "\n",
    "#### 4.1 Numbers - int, float, complex\n",
    "\n",
    "- Integers, floating point numbers and complex numbers falls under Python numbers category. They are defined as **int**, **float** and **complex** types in Python. "
   ]
  },
  {
   "cell_type": "code",
   "execution_count": 2,
   "metadata": {},
   "outputs": [
    {
     "name": "stdout",
     "output_type": "stream",
     "text": [
      "5 is of type <class 'int'>\n",
      "2.0 is of type <class 'float'>\n",
      "(1+2j) is complex number? True\n"
     ]
    }
   ],
   "source": [
    "a = 5\n",
    "print(a, \"is of type\", type(a))\n",
    "\n",
    "a = 2.0\n",
    "print(a, \"is of type\", type(a))\n",
    "\n",
    "a = 1+2j\n",
    "print(a, \"is complex number?\", isinstance(1+2j, complex))"
   ]
  },
  {
   "cell_type": "markdown",
   "metadata": {},
   "source": [
    "A couple of notes on numbers in Python: \n",
    "\n",
    "- the **isinstance(data,type)** function determines whether _data_ is the specific _type_, which returns True of False as you've seen in the above example.\n",
    "\n",
    "- **Integers** can be of any length, it is only **limited by the memory** available.\n",
    "\n",
    "- A **floating** point number is accurate up to 15 decimal places. Integer and floating points are separated by decimal points. 1 is integer, 1.0 is floating point number.\n",
    "\n",
    "- Complex numbers are written in the form, **x + yj**, where **x** is the real part and **y** is the imaginary part. \n",
    "\n",
    "- You can convert one type of number into another. Operations like **addition** (+), **subtraction** convert integer to float implicitly (automatically), if one of the operand is float. For example:"
   ]
  },
  {
   "cell_type": "code",
   "execution_count": 4,
   "metadata": {
    "scrolled": true
   },
   "outputs": [
    {
     "data": {
      "text/plain": [
       "4.1"
      ]
     },
     "execution_count": 4,
     "metadata": {},
     "output_type": "execute_result"
    }
   ],
   "source": [
    "1+3.1"
   ]
  },
  {
   "cell_type": "markdown",
   "metadata": {},
   "source": [
    "**Be careful on Python Decimal** \n",
    "- Python built-in class float performs some calculations that might amaze us. We all know that the sum of 1.1 and 2.2 equals to 3.3, but Python seems to disagree:"
   ]
  },
  {
   "cell_type": "code",
   "execution_count": 6,
   "metadata": {},
   "outputs": [
    {
     "name": "stdout",
     "output_type": "stream",
     "text": [
      "False\n"
     ]
    }
   ],
   "source": [
    "print( (1.1 + 2.2) == 3.3 )"
   ]
  },
  {
   "cell_type": "markdown",
   "metadata": {},
   "source": [
    "What is going on?\n",
    "\n",
    "It turns out that floating-point numbers are implemented in computer hardware as binary fractions, as computer only understands binary (0 and 1). Due to this reason, most of the decimal fractions we know, cannot be accurately stored in our computer.\n",
    "\n",
    "Let's take an example. We cannot represent the fraction 1/3 as a decimal number. This will give 0.33333333... which is infinitely long, and we can only approximate it.\n",
    "\n",
    "Turns out decimal fraction 0.1 will result into an infinitely long binary fraction of 0.000110011001100110011... and our computer only stores a finite number of it.\n",
    "\n",
    "This will only approximate 0.1 but never be equal. Hence, it is the limitation of our computer hardware and not an error in Python."
   ]
  },
  {
   "cell_type": "code",
   "execution_count": 8,
   "metadata": {
    "scrolled": true
   },
   "outputs": [
    {
     "name": "stdout",
     "output_type": "stream",
     "text": [
      "3.3000000000000003\n"
     ]
    }
   ],
   "source": [
    "print( 1.1 + 2.2 )"
   ]
  },
  {
   "cell_type": "markdown",
   "metadata": {},
   "source": [
    "To overcome this issue, we can use **decimal** module that comes with Python. While floating point numbers have precision up to 15 decimal places, the decimal module has user settable precision. Here's the full documentaion of the Decimal module: https://docs.python.org/3/library/decimal.html"
   ]
  },
  {
   "cell_type": "markdown",
   "metadata": {},
   "source": [
    "#### 4.2 Python Booleans"
   ]
  },
  {
   "cell_type": "markdown",
   "metadata": {},
   "source": [
    "#### 4.2 Python Strings\n",
    "\n",
    "- String is sequence of Unicode characters. We can use single quotes or double quotes to represent strings. Multi-line strings can be denoted using triple quotes, ''' or \"\"\".\n",
    "\n",
    "- Like list and tuple, slicing operator [ ] can be used with string. Strings are **immutable** (cannot be changed)."
   ]
  },
  {
   "cell_type": "code",
   "execution_count": 24,
   "metadata": {},
   "outputs": [
    {
     "name": "stdout",
     "output_type": "stream",
     "text": [
      "s[4] =  o\n",
      "s[6:11] =  world\n"
     ]
    },
    {
     "ename": "TypeError",
     "evalue": "'str' object does not support item assignment",
     "output_type": "error",
     "traceback": [
      "\u001b[0;31m---------------------------------------------------------------------------\u001b[0m",
      "\u001b[0;31mTypeError\u001b[0m                                 Traceback (most recent call last)",
      "\u001b[0;32m<ipython-input-24-430a1bc5a714>\u001b[0m in \u001b[0;36m<module>\u001b[0;34m()\u001b[0m\n\u001b[1;32m      9\u001b[0m \u001b[0;31m# Generates error\u001b[0m\u001b[0;34m\u001b[0m\u001b[0;34m\u001b[0m\u001b[0m\n\u001b[1;32m     10\u001b[0m \u001b[0;31m# Strings are immutable in Python\u001b[0m\u001b[0;34m\u001b[0m\u001b[0;34m\u001b[0m\u001b[0m\n\u001b[0;32m---> 11\u001b[0;31m \u001b[0ms\u001b[0m\u001b[0;34m[\u001b[0m\u001b[0;36m5\u001b[0m\u001b[0;34m]\u001b[0m \u001b[0;34m=\u001b[0m\u001b[0;34m'd'\u001b[0m\u001b[0;34m\u001b[0m\u001b[0m\n\u001b[0m",
      "\u001b[0;31mTypeError\u001b[0m: 'str' object does not support item assignment"
     ]
    }
   ],
   "source": [
    "s = 'Hello world!'\n",
    "\n",
    "# s[4] = 'o'\n",
    "print(\"s[4] = \", s[4])\n",
    "\n",
    "# s[6:11] = 'world'\n",
    "print(\"s[6:11] = \", s[6:11])\n",
    "\n",
    "# Generates error\n",
    "# Strings are immutable in Python\n",
    "s[5] ='d'"
   ]
  },
  {
   "cell_type": "markdown",
   "metadata": {},
   "source": [
    "Note that operations can have different results regarding to the data type. For example the \"**+**\" operator"
   ]
  },
  {
   "cell_type": "code",
   "execution_count": 2,
   "metadata": {},
   "outputs": [
    {
     "name": "stdout",
     "output_type": "stream",
     "text": [
      "6\n",
      "123\n"
     ]
    }
   ],
   "source": [
    "print(1+2+3) # add integers\n",
    "print('1'+'2'+'3') # add strings"
   ]
  },
  {
   "cell_type": "markdown",
   "metadata": {},
   "source": [
    "and the \"**\\***\" operator (use this in the in-class practice problem):"
   ]
  },
  {
   "cell_type": "code",
   "execution_count": 3,
   "metadata": {},
   "outputs": [
    {
     "name": "stdout",
     "output_type": "stream",
     "text": [
      "5\n",
      "11111\n"
     ]
    }
   ],
   "source": [
    "print(1*5) # multiply integers\n",
    "print('1'*5) # multiply strings"
   ]
  },
  {
   "cell_type": "markdown",
   "metadata": {},
   "source": [
    "#### 4.3 Python List\n",
    "\n",
    "A Python list is an **ordered sequence of items**. It is one of the most used datatype in Python and is very flexible. All the items in a list do not need to be of the same type.\n",
    "\n",
    "- Create a list:"
   ]
  },
  {
   "cell_type": "code",
   "execution_count": 4,
   "metadata": {},
   "outputs": [],
   "source": [
    "# empty list\n",
    "my_list = []\n",
    "\n",
    "# list of integers\n",
    "my_list = [1, 2, 3]\n",
    "\n",
    "# list with mixed datatypes\n",
    "my_list = [1, \"Hello\", 3.4]\n",
    "\n",
    "# nested list - lists inside a list\n",
    "my_list = [\"mouse\", [8, 4, 6], ['a']]"
   ]
  },
  {
   "cell_type": "markdown",
   "metadata": {},
   "source": [
    "- Access and index slicing of elements in a list: "
   ]
  },
  {
   "cell_type": "code",
   "execution_count": 18,
   "metadata": {},
   "outputs": [
    {
     "name": "stdout",
     "output_type": "stream",
     "text": [
      "a[1] =  10\n",
      "a[0:3] =  [3.14, 10, '15']\n",
      "a[5:] =  ['True', 35, (2+3j)]\n",
      "a[-1] =  (2+3j)\n"
     ]
    }
   ],
   "source": [
    "# Define a list using []:\n",
    "a = [3.14,10,'15',20,25.0,'True',35,2+3j]\n",
    "\n",
    "# a[2] = 15\n",
    "print(\"a[1] = \", a[1])\n",
    "\n",
    "# a[0:3] = [5, 10, 15]\n",
    "print(\"a[0:3] = \", a[0:3])\n",
    "\n",
    "# a[5:] = [30, 35, 40], slicing all the way to the end\n",
    "print(\"a[5:] = \", a[5:])\n",
    "\n",
    "# a[-1] = 2+3j, negative index\n",
    "print(\"a[-1] = \", a[-1])"
   ]
  },
  {
   "cell_type": "markdown",
   "metadata": {},
   "source": [
    "- Change, add and delete elements in a list:"
   ]
  },
  {
   "cell_type": "code",
   "execution_count": 19,
   "metadata": {},
   "outputs": [
    {
     "name": "stdout",
     "output_type": "stream",
     "text": [
      "[1, 4, 6, 8]\n",
      "[1, 3, 5, 7]\n"
     ]
    }
   ],
   "source": [
    "# mistake values\n",
    "odd = [2, 4, 6, 8]\n",
    "\n",
    "# change the 1st item    \n",
    "odd[0] = 1            \n",
    "\n",
    "# Output: [1, 4, 6, 8]\n",
    "print(odd)\n",
    "\n",
    "# change 2nd to 4th items\n",
    "odd[1:4] = [3, 5, 7]  \n",
    "\n",
    "# Output: [1, 3, 5, 7]\n",
    "print(odd)   "
   ]
  },
  {
   "cell_type": "markdown",
   "metadata": {},
   "source": [
    "We can add one item to a list using .append() method or add several items using extend() method:"
   ]
  },
  {
   "cell_type": "code",
   "execution_count": 20,
   "metadata": {},
   "outputs": [
    {
     "name": "stdout",
     "output_type": "stream",
     "text": [
      "[1, 3, 5, 7]\n",
      "[1, 3, 5, 7, 9, 11, 13]\n"
     ]
    }
   ],
   "source": [
    "odd = [1, 3, 5]\n",
    "\n",
    "odd.append(7)\n",
    "\n",
    "# Output: [1, 3, 5, 7]\n",
    "print(odd)\n",
    "\n",
    "odd.extend([9, 11, 13])\n",
    "\n",
    "# Output: [1, 3, 5, 7, 9, 11, 13]\n",
    "print(odd)"
   ]
  },
  {
   "cell_type": "markdown",
   "metadata": {},
   "source": [
    "We can also use + operator to combine two lists. This is also called concatenation.\n",
    "\n",
    "The * operator repeats a list for the given number of times. For example:"
   ]
  },
  {
   "cell_type": "code",
   "execution_count": 21,
   "metadata": {},
   "outputs": [
    {
     "name": "stdout",
     "output_type": "stream",
     "text": [
      "[1, 3, 5, 9, 7, 5]\n",
      "['re', 're', 're']\n"
     ]
    }
   ],
   "source": [
    "odd = [1, 3, 5] # define a list\n",
    "\n",
    "# Output: [1, 3, 5, 9, 7, 5]\n",
    "print(odd + [9, 7, 5])\n",
    "\n",
    "#Output: [\"re\", \"re\", \"re\"]\n",
    "print([\"re\"] * 3)"
   ]
  },
  {
   "cell_type": "markdown",
   "metadata": {},
   "source": [
    "- Delete or remove elements from a list"
   ]
  },
  {
   "cell_type": "code",
   "execution_count": 22,
   "metadata": {},
   "outputs": [
    {
     "name": "stdout",
     "output_type": "stream",
     "text": [
      "['p', 'r', 'b', 'l', 'e', 'm']\n",
      "['p', 'm']\n"
     ]
    },
    {
     "ename": "NameError",
     "evalue": "name 'my_list' is not defined",
     "output_type": "error",
     "traceback": [
      "\u001b[0;31m---------------------------------------------------------------------------\u001b[0m",
      "\u001b[0;31mNameError\u001b[0m                                 Traceback (most recent call last)",
      "\u001b[0;32m<ipython-input-22-b9b72a444aca>\u001b[0m in \u001b[0;36m<module>\u001b[0;34m()\u001b[0m\n\u001b[1;32m     17\u001b[0m \u001b[0;34m\u001b[0m\u001b[0m\n\u001b[1;32m     18\u001b[0m \u001b[0;31m# Error: List not defined\u001b[0m\u001b[0;34m\u001b[0m\u001b[0;34m\u001b[0m\u001b[0m\n\u001b[0;32m---> 19\u001b[0;31m \u001b[0mprint\u001b[0m\u001b[0;34m(\u001b[0m\u001b[0mmy_list\u001b[0m\u001b[0;34m)\u001b[0m\u001b[0;34m\u001b[0m\u001b[0m\n\u001b[0m",
      "\u001b[0;31mNameError\u001b[0m: name 'my_list' is not defined"
     ]
    }
   ],
   "source": [
    "my_list = ['p','r','o','b','l','e','m']\n",
    "\n",
    "# delete one item\n",
    "del my_list[2]\n",
    "\n",
    "# Output: ['p', 'r', 'b', 'l', 'e', 'm']     \n",
    "print(my_list)\n",
    "\n",
    "# delete multiple items\n",
    "del my_list[1:5]  \n",
    "\n",
    "# Output: ['p', 'm']\n",
    "print(my_list)\n",
    "\n",
    "# delete entire list\n",
    "del my_list       \n",
    "\n",
    "# Error: List not defined\n",
    "print(my_list)"
   ]
  },
  {
   "cell_type": "markdown",
   "metadata": {},
   "source": [
    "A Summary of Python List **Methods**:  \n",
    "\n",
    "append() - Add an element to the end of the list  \n",
    "extend() - Add all elements of a list to the another list  \n",
    "insert() - Insert an item at the defined index  \n",
    "remove() - Removes an item from the list  \n",
    "pop() - Removes and returns an element at the given index  \n",
    "clear() - Removes all items from the list  \n",
    "index() - Returns the index of the first matched item  \n",
    "count() - Returns the count of number of items passed as an argument  \n",
    "sort() - Sort items in a list in ascending order  \n",
    "reverse() - Reverse the order of items in the list  \n",
    "copy() - Returns a shallow copy of the list  "
   ]
  },
  {
   "cell_type": "markdown",
   "metadata": {},
   "source": [
    "Build-in **functions** with Python List: \n",
    "\n",
    "all() -\tReturn True if all elements of the list are true (or if the list is empty).  \n",
    "any() -\tReturn True if any element of the list is true. If the list is empty, return False.  \n",
    "enumerate() -\tReturn an enumerate object. It contains the index and value of all the items of list as a tuple.  \n",
    "len() -\tReturn the length (the number of items) in the list.  \n",
    "list() -\tConvert an iterable (tuple, string, set, dictionary) to a list.  \n",
    "max() -\tReturn the largest item in the list.  \n",
    "min() -\tReturn the smallest item in the list  \n",
    "sorted() -\tReturn a new sorted list (does not sort the list itself).  \n",
    "sum() -\tReturn the sum of all elements in the list.  "
   ]
  },
  {
   "cell_type": "markdown",
   "metadata": {},
   "source": [
    "#### 4.4 Python Tuple  \n",
    "\n",
    "- Tuple is an **ordered sequence** of items same as list.The only difference is that tuples are immutable. Tuples once created **cannot be modified**.\n",
    "\n",
    "- Tuples are used to write-protect data and are usually faster than list as it cannot change dynamically.\n",
    "\n",
    "- It is defined within parentheses () where items are separated by commas.\n",
    "\n",
    "- You can use the slicing operator [] to extract items but we cannot change its value."
   ]
  },
  {
   "cell_type": "code",
   "execution_count": 23,
   "metadata": {},
   "outputs": [
    {
     "name": "stdout",
     "output_type": "stream",
     "text": [
      "t[1] =  program\n",
      "t[0:3] =  (5, 'program', (1+3j))\n"
     ]
    },
    {
     "ename": "TypeError",
     "evalue": "'tuple' object does not support item assignment",
     "output_type": "error",
     "traceback": [
      "\u001b[0;31m---------------------------------------------------------------------------\u001b[0m",
      "\u001b[0;31mTypeError\u001b[0m                                 Traceback (most recent call last)",
      "\u001b[0;32m<ipython-input-23-4413355158bb>\u001b[0m in \u001b[0;36m<module>\u001b[0;34m()\u001b[0m\n\u001b[1;32m      9\u001b[0m \u001b[0;31m# Generates error\u001b[0m\u001b[0;34m\u001b[0m\u001b[0;34m\u001b[0m\u001b[0m\n\u001b[1;32m     10\u001b[0m \u001b[0;31m# Tuples are immutable\u001b[0m\u001b[0;34m\u001b[0m\u001b[0;34m\u001b[0m\u001b[0m\n\u001b[0;32m---> 11\u001b[0;31m \u001b[0mt\u001b[0m\u001b[0;34m[\u001b[0m\u001b[0;36m0\u001b[0m\u001b[0;34m]\u001b[0m \u001b[0;34m=\u001b[0m \u001b[0;36m10\u001b[0m\u001b[0;34m\u001b[0m\u001b[0m\n\u001b[0m",
      "\u001b[0;31mTypeError\u001b[0m: 'tuple' object does not support item assignment"
     ]
    }
   ],
   "source": [
    "t = (5,'program', 1+3j)\n",
    "\n",
    "# t[1] = 'program'\n",
    "print(\"t[1] = \", t[1])\n",
    "\n",
    "# t[0:3] = (5, 'program', (1+3j))\n",
    "print(\"t[0:3] = \", t[0:3])\n",
    "\n",
    "# Generates error\n",
    "# Tuples are immutable\n",
    "t[0] = 10"
   ]
  },
  {
   "cell_type": "markdown",
   "metadata": {},
   "source": [
    "#### 4.5 Python set"
   ]
  },
  {
   "cell_type": "markdown",
   "metadata": {},
   "source": [
    "Set is an **unordered** collection of **unique** items. Set is defined by values separated by comma inside braces { }. \n",
    "\n",
    "- Items in a set are not ordered.\n",
    "\n",
    "- Set have unique values. They eliminate duplicates.\n",
    "\n",
    "- We can perform set operations like union, intersection on two sets.\n",
    "\n",
    "- But, since set are unordered collection, indexing has no meaning. Hence the slicing operator [] does not work. Let's see some examples:"
   ]
  },
  {
   "cell_type": "code",
   "execution_count": 27,
   "metadata": {},
   "outputs": [
    {
     "name": "stdout",
     "output_type": "stream",
     "text": [
      "a =  {1, 2, 3, 4, 5}\n",
      "<class 'set'>\n",
      "b =  {1, 2, 3}\n"
     ]
    },
    {
     "ename": "TypeError",
     "evalue": "'set' object does not support indexing",
     "output_type": "error",
     "traceback": [
      "\u001b[0;31m---------------------------------------------------------------------------\u001b[0m",
      "\u001b[0;31mTypeError\u001b[0m                                 Traceback (most recent call last)",
      "\u001b[0;32m<ipython-input-27-07362883714f>\u001b[0m in \u001b[0;36m<module>\u001b[0;34m()\u001b[0m\n\u001b[1;32m     14\u001b[0m \u001b[0;31m# Generates error\u001b[0m\u001b[0;34m\u001b[0m\u001b[0;34m\u001b[0m\u001b[0m\n\u001b[1;32m     15\u001b[0m \u001b[0;31m# set cannot be indexed:\u001b[0m\u001b[0;34m\u001b[0m\u001b[0;34m\u001b[0m\u001b[0m\n\u001b[0;32m---> 16\u001b[0;31m \u001b[0ma\u001b[0m\u001b[0;34m[\u001b[0m\u001b[0;36m1\u001b[0m\u001b[0;34m]\u001b[0m\u001b[0;34m\u001b[0m\u001b[0m\n\u001b[0m",
      "\u001b[0;31mTypeError\u001b[0m: 'set' object does not support indexing"
     ]
    }
   ],
   "source": [
    "a = {5,2,3,1,4}\n",
    "\n",
    "# printing set variable\n",
    "print(\"a = \", a)\n",
    "\n",
    "# data type of variable a\n",
    "print(type(a))\n",
    "\n",
    "b = {1,2,2,3,3,3} \n",
    "\n",
    "# printing set variable\n",
    "print('b = ', b)\n",
    "\n",
    "# Generates error\n",
    "# set cannot be indexed:\n",
    "a[1]"
   ]
  },
  {
   "cell_type": "markdown",
   "metadata": {},
   "source": [
    "Sets are very useful in data analysis, for example recall the GDP per Capita data you've worked on for multiple times, if we want to know how many continents are included in the data set, you can use the set functions simply:"
   ]
  },
  {
   "cell_type": "code",
   "execution_count": 14,
   "metadata": {},
   "outputs": [
    {
     "name": "stdout",
     "output_type": "stream",
     "text": [
      "['Europe' 'Asia' 'Asia' 'North America' 'Europe' 'Asia' 'Europe' 'Europe'\n",
      " 'North America' 'Europe' 'Europe' 'black' 'Europe' 'Europe' 'Europe'\n",
      " 'Europe' 'Europe' 'Asia' 'Europe' 'Asia' 'Europe' 'Asia' 'Europe'\n",
      " 'Europe' 'Europe' 'Asia' 'black' 'Asia' 'Europe' 'Asia' 'Asia' 'Europe'\n",
      " 'North America' 'Europe' 'Europe' 'North America' 'Europe' 'Europe'\n",
      " 'Africa' 'North America' 'North America' 'Africa' 'Asia' 'Africa'\n",
      " 'Africa' 'North America' 'Asia' 'North America' 'Africa' 'Europe'\n",
      " 'Europe' 'North America' 'Asia' 'North America' 'Europe' 'North America'\n",
      " 'Africa' 'Europe' 'North America' 'North America' 'Europe' 'Africa'\n",
      " 'Asia' 'Europe' 'North America' 'North America' 'Africa' 'North America'\n",
      " 'North America' 'blue' 'North America' 'Europe' 'North America' 'Africa'\n",
      " 'North America' 'Asia' 'Africa' 'Asia' 'Africa' 'Asia' 'Asia'\n",
      " 'North America' 'Asia' 'North America' 'Africa' 'Africa' 'North America'\n",
      " 'Asia' 'Asia' 'Asia' 'Asia' 'North America' 'Asia' 'Africa' 'Asia' 'Asia'\n",
      " 'Asia' 'Africa' 'Africa' 'Africa' 'Africa' 'Asia' 'Africa' 'Africa'\n",
      " 'Africa' 'Asia' 'Africa' 'Africa' 'Africa' 'Asia' 'Africa' 'Africa'\n",
      " 'Africa' 'North America' 'Africa' 'Asia' 'Africa' 'Africa' 'Africa'\n",
      " 'Africa' 'Asia' 'Asia' 'Africa' 'Africa' 'Africa' 'Africa' 'Africa'\n",
      " 'Africa' 'Africa' 'Africa' 'Africa' 'Africa' 'Africa' 'Africa' 'Africa'\n",
      " 'Africa' 'Africa' 'Africa']\n",
      "{'Africa', 'Europe', 'North America', 'blue', 'black', 'Asia'}\n"
     ]
    }
   ],
   "source": [
    "import pandas as pd\n",
    "import numpy as np\n",
    "\n",
    "file = \"datasets/gdp_life.csv\" # GDP data file\n",
    "gdp = pd.read_csv(file) # load as a Pandas data frame\n",
    "gdp = gdp.dropna()\n",
    "\n",
    "print(gdp['continent'].values) # get all the continents\n",
    "\n",
    "# Now let's generate a Python set use the set() function to see how many continents are included in the data\n",
    "# here all the duplicates are eliminated by the set() function when we trying to convert all the continent \n",
    "# values into a Python set:\n",
    "conti = set( gdp['continent'].values )\n",
    "\n",
    "print(conti)"
   ]
  },
  {
   "cell_type": "markdown",
   "metadata": {},
   "source": [
    "Now think about the following basics:  \n",
    "\n",
    "How to change a set in Python?   \n",
    "How to remove elements from a set?   \n",
    "Python Set Operations  \n",
    "- Set Intersection\n",
    "- Set Difference \n",
    "\n",
    "Different Python Set Methods  \n",
    "- Set Membership Test\n",
    "- Iterating through a Set\n",
    "- Built-in Functions with Set"
   ]
  },
  {
   "cell_type": "markdown",
   "metadata": {},
   "source": [
    "#### 4.6 Python Dictionary\n",
    "\n",
    "- Dictionary is also an unordered collection, but with key-value pairs.\n",
    "\n",
    "- It is generally used when we have a huge amount of data. Dictionaries are optimized for retrieving data. We must know the key to retrieve the value.\n",
    "\n",
    "- In Python, dictionaries are defined within braces {} with each item being a pair in the form key:value. Key and value can be of any type.\n",
    "\n",
    "- Use key to retrieve the respective value. But not the other way around."
   ]
  },
  {
   "cell_type": "code",
   "execution_count": 18,
   "metadata": {},
   "outputs": [
    {
     "name": "stdout",
     "output_type": "stream",
     "text": [
      "<class 'dict'>\n",
      "dict_keys([1, 'key'])\n",
      "dict_values(['value', 2])\n",
      "d[1] =  value\n",
      "d['key'] =  2\n"
     ]
    },
    {
     "ename": "KeyError",
     "evalue": "2",
     "output_type": "error",
     "traceback": [
      "\u001b[0;31m---------------------------------------------------------------------------\u001b[0m",
      "\u001b[0;31mKeyError\u001b[0m                                  Traceback (most recent call last)",
      "\u001b[0;32m<ipython-input-18-afdc8cd4092c>\u001b[0m in \u001b[0;36m<module>\u001b[0;34m()\u001b[0m\n\u001b[1;32m     11\u001b[0m \u001b[0;34m\u001b[0m\u001b[0m\n\u001b[1;32m     12\u001b[0m \u001b[0;31m# Generates error\u001b[0m\u001b[0;34m\u001b[0m\u001b[0;34m\u001b[0m\u001b[0m\n\u001b[0;32m---> 13\u001b[0;31m \u001b[0mprint\u001b[0m\u001b[0;34m(\u001b[0m\u001b[0;34m\"d[2] = \"\u001b[0m\u001b[0;34m,\u001b[0m \u001b[0md\u001b[0m\u001b[0;34m[\u001b[0m\u001b[0;36m2\u001b[0m\u001b[0;34m]\u001b[0m\u001b[0;34m)\u001b[0m\u001b[0;34m;\u001b[0m\u001b[0;34m\u001b[0m\u001b[0m\n\u001b[0m",
      "\u001b[0;31mKeyError\u001b[0m: 2"
     ]
    }
   ],
   "source": [
    "d = {1:'value','key':2}\n",
    "print(type(d))\n",
    "\n",
    "print(d.keys())\n",
    "\n",
    "print(d.values())\n",
    "\n",
    "print(\"d[1] = \", d[1]);\n",
    "\n",
    "print(\"d['key'] = \", d['key']);\n",
    "\n",
    "# Generates error\n",
    "print(\"d[2] = \", d[2]);"
   ]
  },
  {
   "cell_type": "markdown",
   "metadata": {},
   "source": [
    "### 5. Python Operators\n",
    "\n",
    "Operators are special symbols in Python that carry out arithmetic or logical computation. The value that the operator operates on is called the operand.\n",
    "\n",
    "#### 5.1 Arithmetic operators\n",
    "\n",
    "\n",
    "|Operator | Meaning| Example |\n",
    "|--- |-------------------------------|-------------|\n",
    "| +  | Add two operands or unary plus| x+y+2       |\n",
    "| -  | Subtract right operand from the left or unary minus | x-y      |\n",
    "| *  | Multiply two operands | x\\*y      |\n",
    "| /  | Divide left operand by the right one (always results into float) | x/y     |\n",
    "| %  | Modulus - remainder of the division of left operand by the right | x%y     |\n",
    "| ** | Exponent - left operand raised to the power of right | x**y     |\n",
    "\n",
    "Examples:\n",
    "\n"
   ]
  },
  {
   "cell_type": "code",
   "execution_count": 29,
   "metadata": {},
   "outputs": [
    {
     "name": "stdout",
     "output_type": "stream",
     "text": [
      "x + y = 19\n",
      "x - y = 11\n",
      "x * y = 60\n",
      "x / y = 3.75\n",
      "x % y = 3\n",
      "x ** y = 50625\n"
     ]
    }
   ],
   "source": [
    "x = 15\n",
    "y = 4\n",
    "\n",
    "# Output: x + y = 19\n",
    "print('x + y =',x+y)\n",
    "\n",
    "# Output: x - y = 11\n",
    "print('x - y =',x-y)\n",
    "\n",
    "# Output: x * y = 60\n",
    "print('x * y =',x*y)\n",
    "\n",
    "# Output: x / y = 3.75\n",
    "print('x / y =',x/y)\n",
    "\n",
    "# Output: x % y = 3\n",
    "print('x % y =',x%y)\n",
    "\n",
    "# Output: x ** y = 50625\n",
    "print('x ** y =',x**y)"
   ]
  },
  {
   "cell_type": "markdown",
   "metadata": {},
   "source": [
    "#### 5.2 Relational operators\n",
    "\n",
    "\n",
    "|Operator | Meaning| Example |\n",
    "|--- |-------------------------------|-------------|\n",
    "| >  | Greater than - True if left operand is greater than the right| x > y     |\n",
    "| <  | Less than - True if left operand is less than the right | x < y      |\n",
    "| == | Equal to - True if both operands are equal | x == y      |\n",
    "| != | Not equal to - True if operands are not equal | x != y     |\n",
    "| >= | Greater than or equal to - True if left operand is greater than or equal to the right | x >= y     |\n",
    "| <= | Less than or equal to - True if left operand is less than or equal to the right | x <= y     |\n",
    "\n",
    "Examples:"
   ]
  },
  {
   "cell_type": "code",
   "execution_count": 30,
   "metadata": {},
   "outputs": [
    {
     "name": "stdout",
     "output_type": "stream",
     "text": [
      "x > y  is False\n",
      "x < y  is True\n",
      "x == y is False\n",
      "x != y is True\n",
      "x >= y is False\n",
      "x <= y is True\n"
     ]
    }
   ],
   "source": [
    "x = 10\n",
    "y = 12\n",
    "\n",
    "# Output: x > y is False\n",
    "print('x > y  is',x>y)\n",
    "\n",
    "# Output: x < y is True\n",
    "print('x < y  is',x<y)\n",
    "\n",
    "# Output: x == y is False\n",
    "print('x == y is',x==y)\n",
    "\n",
    "# Output: x != y is True\n",
    "print('x != y is',x!=y)\n",
    "\n",
    "# Output: x >= y is False\n",
    "print('x >= y is',x>=y)\n",
    "\n",
    "# Output: x <= y is True\n",
    "print('x <= y is',x<=y)"
   ]
  },
  {
   "cell_type": "markdown",
   "metadata": {},
   "source": [
    "#### 5.3 Logical operators\n",
    "\n",
    "\n",
    "|Operator | Meaning| Example |\n",
    "|--- |-------------------------------|-------------|\n",
    "| and  | True if both the operands are true | x and y     |\n",
    "| or  | True if either of the operands is true | x or y      |\n",
    "| not | True if operand is false (complements the operand) | not x      |\n",
    "\n",
    "Examples:"
   ]
  },
  {
   "cell_type": "code",
   "execution_count": 31,
   "metadata": {},
   "outputs": [
    {
     "name": "stdout",
     "output_type": "stream",
     "text": [
      "x and y is False\n",
      "x or y is True\n",
      "not x is False\n"
     ]
    }
   ],
   "source": [
    "x = True\n",
    "y = False\n",
    "\n",
    "# Output: x and y is False\n",
    "print('x and y is',x and y)\n",
    "\n",
    "# Output: x or y is True\n",
    "print('x or y is',x or y)\n",
    "\n",
    "# Output: not x is False\n",
    "print('not x is',not x)"
   ]
  },
  {
   "cell_type": "markdown",
   "metadata": {},
   "source": [
    "#### 5.4 Membership operators\n",
    "\n",
    "in and not in are the membership operators in Python. They are used to test whether a value or variable is found in a sequence (string, list, tuple, set and dictionary).\n",
    "\n",
    "In a dictionary we can only test for presence of key, not the value.\n",
    "\n",
    "|Operator | Meaning| Example |\n",
    "|--- |-------------------------------|-------------|\n",
    "| in  |True if value/variable is found in the sequence | x in y     |\n",
    "| not in  | True if value/variable is not found in the sequence | x not in y      |\n",
    "\n",
    "Examples:"
   ]
  },
  {
   "cell_type": "code",
   "execution_count": 34,
   "metadata": {},
   "outputs": [
    {
     "name": "stdout",
     "output_type": "stream",
     "text": [
      "True\n",
      "True\n",
      "True\n",
      "True\n",
      "False\n"
     ]
    }
   ],
   "source": [
    "x = 'Hello world'\n",
    "y = [3.14, 'Hi', 1, 2+3j, False]\n",
    "z = {1:'a',2:'b'}\n",
    "\n",
    "# Output: True\n",
    "print('H' in x)\n",
    "\n",
    "# Output: True\n",
    "print('hello' not in x)\n",
    "\n",
    "# Output: True\n",
    "print(2+3j in y)\n",
    "\n",
    "# Output: True\n",
    "print(1 in z)\n",
    "\n",
    "# Output: False\n",
    "print('a' in z)"
   ]
  }
 ],
 "metadata": {
  "kernelspec": {
   "display_name": "Python 3",
   "language": "python",
   "name": "python3"
  },
  "language_info": {
   "codemirror_mode": {
    "name": "ipython",
    "version": 3
   },
   "file_extension": ".py",
   "mimetype": "text/x-python",
   "name": "python",
   "nbconvert_exporter": "python",
   "pygments_lexer": "ipython3",
   "version": "3.6.4"
  }
 },
 "nbformat": 4,
 "nbformat_minor": 2
}
