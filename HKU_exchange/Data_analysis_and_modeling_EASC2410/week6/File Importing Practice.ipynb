{
 "cells": [
  {
   "cell_type": "markdown",
   "id": "3a780416-9cc0-44c2-ac52-6d511cb4693d",
   "metadata": {},
   "source": [
    "# Lecture 12 - Importing Different Data Files\n"
   ]
  },
  {
   "cell_type": "markdown",
   "id": "64aae100-59b5-43cc-bba7-c7b021cbb153",
   "metadata": {},
   "source": [
    "In this part of the lecture, you will practice importing different files.\n",
    "Although these files may appear the same as from previous lectures and HWs, they have been changed\n",
    "\n",
    "It is good practice to always open the data files on your computer beforehand so you can check the structure of the data, the delimiter used etc.\n",
    "\n",
    "For example, just because it is a .txt doesnt mean its tab delimited\n",
    "\n",
    "\n",
    "Start by downloading the files from Moodle and put the folder into the same directory as this Jupyter Notebook file."
   ]
  },
  {
   "cell_type": "markdown",
   "id": "144becd1-568f-4b7e-bd84-fea17e6143fc",
   "metadata": {},
   "source": [
    "### 1. Numpy\n",
    "\n",
    "The first method you learned was to use numpy to import data into an array.\n",
    "#### A)\n",
    "\n",
    "* Use np.genfromtxt to import the \"earthquake.txt\", it can be found in the folder \"natural disasters\". Try to use the relative path to import this rather than moving.\n",
    "\n",
    "* Print the array to verify that the array has been initialised correctly.\n",
    "\n",
    "---------------------------------\n",
    "#### B)\n",
    "\n",
    "* Use np.loadtxt to import the \"temperature.csv\", use the **absolute path** to import this file.\n",
    "\n",
    "* Print the array again to make sure it has been imported correctly\n",
    "\n"
   ]
  },
  {
   "cell_type": "code",
   "execution_count": null,
   "id": "e56befe5-8088-45da-8da8-682615018c79",
   "metadata": {},
   "outputs": [],
   "source": []
  },
  {
   "cell_type": "markdown",
   "id": "48aaeca1-1a68-4278-b759-7fcb19132425",
   "metadata": {},
   "source": [
    "### 2. Pandas\n",
    "\n",
    "Now we move onto the better way to import datasets, especially much larger ones. Remember: you can read_csv for most file types.\n",
    "\n",
    "#### A)\n",
    "* Using pandas, import the \"eruptions_2020_to_2022.dat\" file. It can also be found in the \"natural disasters folder\" - use the relative path to import it\n",
    "* The .dat file extension indicates that this is a generic data file, it could have any structure inside with any delimiter: ie whitespace, tab or comma\n",
    "* Open the recent_eruptions.dat file on your computer to see the what the delimiter is\n",
    "\n",
    "* Print the first 5 rows of the dataset to verify it has been imported correctly using .head()\n",
    "\n",
    "-------------------------\n",
    "#### B)\n",
    "\n",
    "* Use pandas to import the \"Major Cities.csv\" file using its absolute path\n",
    "\n",
    "* Sometimes, data files can have strange delimiters. Although it is unlikely you would ever come across something other than tab, comma or whitespace, stranger files can exist.\n",
    "\n",
    "* Print out the first 5 rows to verify it has been imported correctly\n",
    "-------------------------\n",
    "#### C)\n",
    "\n",
    "* Using pandas, import the Excel spreadsheet: \"Yutu.xlsx\"\n",
    "\n",
    "* Print out the first 5 rows to verify it has been imported correctly"
   ]
  },
  {
   "cell_type": "code",
   "execution_count": null,
   "id": "75024816-d421-4576-a39d-679b82fcccef",
   "metadata": {},
   "outputs": [],
   "source": []
  },
  {
   "cell_type": "markdown",
   "id": "12fababb-323c-4d18-a17e-26004a7d26f7",
   "metadata": {},
   "source": [
    "# 3. Debugging Imports\n",
    "\n",
    "Fix the following data imports by following the errors they produce"
   ]
  },
  {
   "cell_type": "code",
   "execution_count": 18,
   "id": "416f865e-08a3-418a-9090-49ac996bc0dd",
   "metadata": {},
   "outputs": [
    {
     "ename": "TypeError",
     "evalue": "read_excel() got an unexpected keyword argument 'delimiter'",
     "output_type": "error",
     "traceback": [
      "\u001b[1;31m---------------------------------------------------------------------------\u001b[0m",
      "\u001b[1;31mTypeError\u001b[0m                                 Traceback (most recent call last)",
      "Cell \u001b[1;32mIn[18], line 3\u001b[0m\n\u001b[0;32m      1\u001b[0m \u001b[38;5;28;01mimport\u001b[39;00m \u001b[38;5;21;01mpandas\u001b[39;00m \u001b[38;5;28;01mas\u001b[39;00m \u001b[38;5;21;01mpd\u001b[39;00m\n\u001b[0;32m      2\u001b[0m \u001b[38;5;28;01mimport\u001b[39;00m \u001b[38;5;21;01mnumpy\u001b[39;00m \u001b[38;5;28;01mas\u001b[39;00m \u001b[38;5;21;01mnp\u001b[39;00m\n\u001b[1;32m----> 3\u001b[0m rain_data \u001b[38;5;241m=\u001b[39m pd\u001b[38;5;241m.\u001b[39mread_excel(\u001b[38;5;124m\"\u001b[39m\u001b[38;5;124mData Files /China_Rainfall.txt\u001b[39m\u001b[38;5;124m\"\u001b[39m, delimiter\u001b[38;5;241m=\u001b[39m\u001b[38;5;124m\"\u001b[39m\u001b[38;5;124m,\u001b[39m\u001b[38;5;124m\"\u001b[39m, skiprows\u001b[38;5;241m=\u001b[39m\u001b[38;5;241m3\u001b[39m)\n\u001b[0;32m      5\u001b[0m \u001b[38;5;28mprint\u001b[39m(rain_data\u001b[38;5;241m.\u001b[39mhead())\n",
      "File \u001b[1;32m~\\anaconda3\\Lib\\site-packages\\pandas\\util\\_decorators.py:211\u001b[0m, in \u001b[0;36mdeprecate_kwarg.<locals>._deprecate_kwarg.<locals>.wrapper\u001b[1;34m(*args, **kwargs)\u001b[0m\n\u001b[0;32m    209\u001b[0m     \u001b[38;5;28;01melse\u001b[39;00m:\n\u001b[0;32m    210\u001b[0m         kwargs[new_arg_name] \u001b[38;5;241m=\u001b[39m new_arg_value\n\u001b[1;32m--> 211\u001b[0m \u001b[38;5;28;01mreturn\u001b[39;00m func(\u001b[38;5;241m*\u001b[39margs, \u001b[38;5;241m*\u001b[39m\u001b[38;5;241m*\u001b[39mkwargs)\n",
      "File \u001b[1;32m~\\anaconda3\\Lib\\site-packages\\pandas\\util\\_decorators.py:331\u001b[0m, in \u001b[0;36mdeprecate_nonkeyword_arguments.<locals>.decorate.<locals>.wrapper\u001b[1;34m(*args, **kwargs)\u001b[0m\n\u001b[0;32m    325\u001b[0m \u001b[38;5;28;01mif\u001b[39;00m \u001b[38;5;28mlen\u001b[39m(args) \u001b[38;5;241m>\u001b[39m num_allow_args:\n\u001b[0;32m    326\u001b[0m     warnings\u001b[38;5;241m.\u001b[39mwarn(\n\u001b[0;32m    327\u001b[0m         msg\u001b[38;5;241m.\u001b[39mformat(arguments\u001b[38;5;241m=\u001b[39m_format_argument_list(allow_args)),\n\u001b[0;32m    328\u001b[0m         \u001b[38;5;167;01mFutureWarning\u001b[39;00m,\n\u001b[0;32m    329\u001b[0m         stacklevel\u001b[38;5;241m=\u001b[39mfind_stack_level(),\n\u001b[0;32m    330\u001b[0m     )\n\u001b[1;32m--> 331\u001b[0m \u001b[38;5;28;01mreturn\u001b[39;00m func(\u001b[38;5;241m*\u001b[39margs, \u001b[38;5;241m*\u001b[39m\u001b[38;5;241m*\u001b[39mkwargs)\n",
      "\u001b[1;31mTypeError\u001b[0m: read_excel() got an unexpected keyword argument 'delimiter'"
     ]
    }
   ],
   "source": [
    "import pandas as pd\n",
    "import numpy as np\n",
    "rain_data = pd.read_excel(\"Data Files /China_Rainfall.txt\", delimiter=\",\", skiprows=3)\n",
    "\n",
    "print(rain_data.head())"
   ]
  },
  {
   "cell_type": "code",
   "execution_count": 31,
   "id": "4eb724e3-e725-44da-b9c5-27ff2185e96c",
   "metadata": {},
   "outputs": [
    {
     "ename": "SyntaxError",
     "evalue": "'(' was never closed (1550251627.py, line 10)",
     "output_type": "error",
     "traceback": [
      "\u001b[1;36m  Cell \u001b[1;32mIn[31], line 10\u001b[1;36m\u001b[0m\n\u001b[1;33m    conti = set( gdp['continent'].values\u001b[0m\n\u001b[1;37m               ^\u001b[0m\n\u001b[1;31mSyntaxError\u001b[0m\u001b[1;31m:\u001b[0m '(' was never closed\n"
     ]
    }
   ],
   "source": [
    "import pandas as pd\n",
    "import numpy as np\n",
    "\n",
    "file = \"Data Files/gdp_life.csv\" # GDP data file\n",
    "gdp = pd.read_csv(file_path, skiprows=3, delimiter=\".\") # load as a Pandas data frame\n",
    "gdp = gdp.dropna()\n",
    "\n",
    "print(gdp['continent'].values) # get all the continents\n",
    "\n",
    "conti = set( gdp['continent'].values \n",
    "\n",
    "print(conti) # Print continents set"
   ]
  }
 ],
 "metadata": {
  "kernelspec": {
   "display_name": "Python 3 (ipykernel)",
   "language": "python",
   "name": "python3"
  },
  "language_info": {
   "codemirror_mode": {
    "name": "ipython",
    "version": 3
   },
   "file_extension": ".py",
   "mimetype": "text/x-python",
   "name": "python",
   "nbconvert_exporter": "python",
   "pygments_lexer": "ipython3",
   "version": "3.11.5"
  }
 },
 "nbformat": 4,
 "nbformat_minor": 5
}
