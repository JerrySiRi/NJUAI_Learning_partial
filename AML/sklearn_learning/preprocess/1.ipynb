{
 "cells": [
  {
   "cell_type": "markdown",
   "metadata": {},
   "source": [
    "# 3.1 无量纲化处理"
   ]
  },
  {
   "cell_type": "code",
   "execution_count": 5,
   "metadata": {},
   "outputs": [
    {
     "name": "stdout",
     "output_type": "stream",
     "text": [
      "1 MinMaxScaler()\n",
      "2 MinMaxScaler()\n",
      "3 [[0.   0.  ]\n",
      " [0.25 0.25]\n",
      " [0.5  0.5 ]\n",
      " [1.   1.  ]]\n",
      "4 [[0.   0.  ]\n",
      " [0.25 0.25]\n",
      " [0.5  0.5 ]\n",
      " [1.   1.  ]]\n"
     ]
    },
    {
     "data": {
      "text/plain": [
       "'data = [[-1, 2], [-0.5, 6], [0, 10], [1, 18]]\\nscaler = MinMaxScaler(feature_range=[5,10]) #依然实例化\\nresult = scaler.fit_transform(data) #fit_transform一步导出结果\\nprint(result)'"
      ]
     },
     "execution_count": 5,
     "metadata": {},
     "output_type": "execute_result"
    }
   ],
   "source": [
    "# 【sklearn归一化】\n",
    "from sklearn.preprocessing import MinMaxScaler\n",
    "data = [[-1, 2], [-0.5, 6], [0, 10], [1, 18]]\n",
    "\n",
    "import pandas as pd\n",
    "pd.DataFrame(data)\n",
    "#实现归一化\n",
    "scaler = MinMaxScaler() #实例化\n",
    "print(\"1\",scaler)\n",
    "scaler = scaler.fit(data) #fit，在这里本质是生成min(x)和max(x)\n",
    "print(\"2\",scaler)\n",
    "result = scaler.transform(data) #通过接口导出结果\n",
    "print(\"3\",result)\n",
    "result_ = scaler.fit_transform(data) #训练和导出结果一步达成\n",
    "print(\"4\",result_)\n",
    "scaler.inverse_transform(result) #将归一化后的结果逆转\n",
    "#使用MinMaxScaler的参数feature_range实现将数据归一化到[0,1]以外的范围中\n",
    "\n",
    "\"\"\"data = [[-1, 2], [-0.5, 6], [0, 10], [1, 18]]\n",
    "scaler = MinMaxScaler(feature_range=[5,10]) #依然实例化\n",
    "result = scaler.fit_transform(data) #fit_transform一步导出结果\n",
    "print(result)\"\"\"\n",
    "#当X中的特征数量非常多的时候，fit会报错并表示，数据量太大了我计算不了\n",
    "#此时使用partial_fit作为训练接口\n",
    "#scaler = scaler.partial_fit(data)"
   ]
  },
  {
   "cell_type": "code",
   "execution_count": 6,
   "metadata": {},
   "outputs": [
    {
     "data": {
      "text/plain": [
       "array([[0.  , 0.  ],\n",
       "       [0.25, 0.25],\n",
       "       [0.5 , 0.5 ],\n",
       "       [1.  , 1.  ]])"
      ]
     },
     "execution_count": 6,
     "metadata": {},
     "output_type": "execute_result"
    }
   ],
   "source": [
    "#【numpy归一化】\n",
    "import numpy as np\n",
    "X = np.array([[-1, 2], [-0.5, 6], [0, 10], [1, 18]])\n",
    "#归一化\n",
    "X_nor = (X - X.min(axis=0)) / (X.max(axis=0) - X.min(axis=0))\n",
    "X_nor"
   ]
  },
  {
   "cell_type": "code",
   "execution_count": 10,
   "metadata": {},
   "outputs": [
    {
     "name": "stdout",
     "output_type": "stream",
     "text": [
      "[[-1.18321596 -1.18321596]\n",
      " [-0.50709255 -0.50709255]\n",
      " [ 0.16903085  0.16903085]\n",
      " [ 1.52127766  1.52127766]]\n"
     ]
    },
    {
     "data": {
      "text/plain": [
       "array([[-1. ,  2. ],\n",
       "       [-0.5,  6. ],\n",
       "       [ 0. , 10. ],\n",
       "       [ 1. , 18. ]])"
      ]
     },
     "execution_count": 10,
     "metadata": {},
     "output_type": "execute_result"
    }
   ],
   "source": [
    "#【 sklearn 标准化】\n",
    "from sklearn.preprocessing import StandardScaler\n",
    "data = [[-1, 2], [-0.5, 6], [0, 10], [1, 18]]\n",
    "scaler = StandardScaler() #1 实例化\n",
    "scaler.fit(data) #2 fit，本质是生成均值和方差\n",
    "# scaler.mean_ #查看均值的属性mean_\n",
    "# scaler.var_ #查看方差的属性var_\n",
    "x_std = scaler.transform(data) #3 通过接口导出结果\n",
    "print(x_std)\n",
    "# x_std.mean() #导出的结果是一个数组，用mean()查看均值\n",
    "# x_std.std() #用std()查看方差\n",
    "scaler.fit_transform(data) #使用fit_transform(data)一步达成结果\n",
    "scaler.inverse_transform(x_std) #使用inverse_transform逆转标准化"
   ]
  },
  {
   "cell_type": "markdown",
   "metadata": {},
   "source": [
    "# 3.2 缺失值处理"
   ]
  }
 ],
 "metadata": {
  "kernelspec": {
   "display_name": "Python 3.9.18 ('DL_learning')",
   "language": "python",
   "name": "python3"
  },
  "language_info": {
   "codemirror_mode": {
    "name": "ipython",
    "version": 3
   },
   "file_extension": ".py",
   "mimetype": "text/x-python",
   "name": "python",
   "nbconvert_exporter": "python",
   "pygments_lexer": "ipython3",
   "version": "3.9.18"
  },
  "orig_nbformat": 4,
  "vscode": {
   "interpreter": {
    "hash": "77feb16fd9e4e4b3cd0f40ea339973555488f60eecac6ad805404005d2d1bac1"
   }
  }
 },
 "nbformat": 4,
 "nbformat_minor": 2
}
