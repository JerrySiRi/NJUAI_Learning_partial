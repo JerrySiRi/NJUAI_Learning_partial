{
 "cells": [
  {
   "cell_type": "markdown",
   "metadata": {},
   "source": [
    "## Homework Assignment #2\n",
    "\n",
    "* Due on **Wednesday, Feb-08-2021**, before class (~10 AM)\n",
    "* Late submission is not accepted (because solutions will be posted in Moodle)\n",
    "* Please comment your code and upload your ipynb file using the following dropbox link: \n",
    "    - https://www.dropbox.com/request/xqGltxCVtWopqgoGLv8q"
   ]
  },
  {
   "cell_type": "markdown",
   "metadata": {},
   "source": [
    "### 1. Step through a Python dictionary (30%)\n",
    "*  **Create a dictionary** named **planets**, with the terrestrial-planet names as the keys and the corresponding planet mass (in kg) as the values (HINT: Terrestrial planets include Mercury, Venus, Earth and Mars)\n",
    "* **Expand the dictionary** by adding the outer planets to the dictionary (HINT: Jupiter, Saturn, Uranus, Neptune)\n",
    "* Write a **for** loop to step through all the planets in your dictionary, and print out the mass of each planet, using the following format: \"*The planet X has mass Y kg.*\", *X* is the name of a planet and *Y* is the mass of that planet\n",
    "* Now using the **for** loop you've written, calculate the *Schwarzschild radius* ($R_s$) of each planet using their mass, following the equation $R_s = \\frac{2GM}{c^2}$, where $M$ is the mass of the planet, $G = 6.67408 \\times 10^{-11} m^3/kg\\cdot s^2$ is the gravitational constant, and $c = 3\\times 10^8$ m/s is the speed of light.\n",
    "* Write a code to find the **maximum** *Schwarzschild radius* of solar system planets.  \n",
    "\n",
    "You can find infomation about solar planets here: https://nssdc.gsfc.nasa.gov/planetary/factsheet/. In case you're interested in the idea behind a Schwarzschild radius, check out this: https://youtu.be/Q7E-KA-MYjc"
   ]
  },
  {
   "cell_type": "code",
   "execution_count": 1,
   "metadata": {},
   "outputs": [
    {
     "name": "stdout",
     "output_type": "stream",
     "text": [
      "The planet Mercury has mass 3.3e+23 kg.\n",
      "The planet Mercury has Schwarzschild Radius 0.0004894325333333334 m.\n",
      "The planet Venus has mass 4.87e+24 kg.\n",
      "The planet Venus has Schwarzschild Radius 0.007222837688888889 m.\n",
      "The planet Earth has mass 5.97e+24 kg.\n",
      "The planet Earth has Schwarzschild Radius 0.008854279466666668 m.\n",
      "The planet Mars has mass 6.42e+23 kg.\n",
      "The planet Mars has Schwarzschild Radius 0.0009521687466666668 m.\n",
      "The planet Jupiter has mass 1.898e+27 kg.\n",
      "The planet Jupiter has Schwarzschild Radius 2.814978631111111 m.\n",
      "The planet Satur has mass 5.68e+26 kg.\n",
      "The planet Satur has Schwarzschild Radius 0.8424172088888889 m.\n",
      "The planet Uranus has mass 8.68e+25 kg.\n",
      "The planet Uranus has Schwarzschild Radius 0.12873558755555556 m.\n",
      "The planet Neptune has mass 1.02e+26 kg.\n",
      "The planet Neptune has Schwarzschild Radius 0.1512791466666667 m.\n",
      "The maximim Schwarzschild Radius is 2.814978631111111\n"
     ]
    }
   ],
   "source": [
    "# create a dictionary\n",
    "planets = {'Mercury':0.33e24, 'Venus':4.87e24,'Earth':5.97e24, 'Mars':0.642e24}\n",
    "\n",
    "# expand the dictionary\n",
    "planets['Jupiter'] = 1898e24\n",
    "planets['Satur'] = 568e24\n",
    "planets['Uranus'] = 86.8e24\n",
    "planets['Neptune'] = 102e24\n",
    "\n",
    "# Define the constants G and c\n",
    "Rs_max = 0\n",
    "G = 6.67408e-11\n",
    "c = 3e8\n",
    "\n",
    "# a for-loop to print out all the mass\n",
    "for name in planets.keys():\n",
    "    print('The planet', name,'has mass', planets[name],'kg.')\n",
    "    # calculate the Schwarzschild Radius \n",
    "    Rs = 2*G*planets[name]/c**2\n",
    "    print('The planet', name,'has Schwarzschild Radius', Rs,'m.')\n",
    "    # compare whether it is greater than Rs_max\n",
    "    if Rs>Rs_max:\n",
    "        Rs_max = Rs\n",
    "# now all the calculation is done, print out the maximim Rs, which is now stored in Rs_max\n",
    "print('The maximim Schwarzschild Radius is', Rs_max)"
   ]
  },
  {
   "cell_type": "markdown",
   "metadata": {},
   "source": [
    "### 2. Program control (20%)\n",
    "\n",
    "* Write a Python program (use a **for** loop with **if** statements) that print all the numbers between 0 to 10 **except** 3 and 7\n",
    "* Write a Python program (use a **for** loop with **if** statements, together with the **type** function) that prints the type of each elements from the following list named **datalist**, **except** for _booleans_ and _integers_:   \n",
    "\n",
    " **datalist** = [1, 22, 11.3, 1+2j, True, 'electrons', 3.14, 9, 25569, (0,-1),[5,8],{\"class\":\"V\",\"grade\":\"A\"}]"
   ]
  },
  {
   "cell_type": "code",
   "execution_count": 2,
   "metadata": {},
   "outputs": [
    {
     "name": "stdout",
     "output_type": "stream",
     "text": [
      "0\n",
      "1\n",
      "2\n",
      "4\n",
      "5\n",
      "6\n",
      "8\n",
      "9\n",
      "10\n"
     ]
    }
   ],
   "source": [
    "# a for-loop to print out numbers with exceptions\n",
    "for i in range(11): # loop over intergers from 0 to 10 - remember in range(11), the number 11 is excluded\n",
    "    if (i!=3) and (i!=7): # make a decision, i needs to be neither 3 nor 7, otherwise skip the print() function\n",
    "        print(i) # print the results"
   ]
  },
  {
   "cell_type": "code",
   "execution_count": 3,
   "metadata": {},
   "outputs": [
    {
     "name": "stdout",
     "output_type": "stream",
     "text": [
      "<class 'float'>\n",
      "<class 'complex'>\n",
      "<class 'str'>\n",
      "<class 'float'>\n",
      "<class 'tuple'>\n",
      "<class 'list'>\n",
      "<class 'dict'>\n"
     ]
    }
   ],
   "source": [
    "datalist = [1, 22, 11.3, 1+2j, True, 'electrons', 3.14, 9, 25569, (0,-1),[5,8],{\"class\":\"V\",\"grade\":\"A\"}]\n",
    "for item in datalist: # item is a variable looping through \"datalist\"\n",
    "    if (type(item)==int) or (type(item)==bool): # check the type of item, if they are int or bool, pass\n",
    "        pass\n",
    "    else: # otherwise print the type of \"item\"\n",
    "        print(type(item))"
   ]
  },
  {
   "cell_type": "markdown",
   "metadata": {},
   "source": [
    "### 3. Generate a dictionary (10%)\n",
    "\n",
    "Use Python to generate a dictionary where the keys are numbers between 1 and 25 (both included) and the values are string variables that equals to the square of the keys (i.e., use the **str()** function to convert integers to strings). For example, the dictionary should look like: \n",
    "\n",
    "example_dict = {1: '1', 2: '4', 3: '9', 4: '16', 5: '25' ... }\n",
    "\n",
    "Print out your dictionary"
   ]
  },
  {
   "cell_type": "code",
   "execution_count": 4,
   "metadata": {},
   "outputs": [
    {
     "name": "stdout",
     "output_type": "stream",
     "text": [
      "{1: '1', 2: '4', 3: '9', 4: '16', 5: '25', 6: '36', 7: '49', 8: '64', 9: '81', 10: '100', 11: '121', 12: '144', 13: '169', 14: '196', 15: '225', 16: '256', 17: '289', 18: '324', 19: '361', 20: '400', 21: '441', 22: '484', 23: '529', 24: '576', 25: '625'}\n"
     ]
    }
   ],
   "source": [
    "my_dict = {} # define an empty dictionary to start\n",
    "for i in range(1,26): # loop over integer from 1 to 25\n",
    "    my_dict[i]=str(i**2) # calculate i**2 and then convert to strings\n",
    "\n",
    "print(my_dict) # print the results"
   ]
  },
  {
   "cell_type": "markdown",
   "metadata": {},
   "source": [
    "### 4. Functions  working with numbers (20%)\n",
    "\n",
    "* **Write a Python function** using the **for**-loop to calculate the sum of the Basel series:\n",
    "$f(n)=\\sum^n_1\\frac{1}{n^2}=\\frac{1}{1^2}+\\frac{1}{2^2}+\\frac{1}{3^2}+...+\\frac{1}{n^2}$\n",
    "* calculate $f(10)$, $f(100)$ and $f(1000)$\n",
    "* show that when $n$ becomes very large, $f(n)\\approx \\pi^2/6$"
   ]
  },
  {
   "cell_type": "code",
   "execution_count": 28,
   "metadata": {},
   "outputs": [
    {
     "name": "stdout",
     "output_type": "stream",
     "text": [
      "Basel( 10 ) =  1.5497677311665408\n",
      "Basel( 100 ) =  1.6349839001848923\n",
      "Basel( 1000 ) =  1.6439345666815615\n",
      "Basel(100000) =  1.64493306684877\n",
      "pi =             1.6449340668482264\n"
     ]
    }
   ],
   "source": [
    "import math as mt # access pi from the math module\n",
    "\n",
    "def basel(n):\n",
    "    \"\"\"\n",
    "    Basel series\n",
    "    INPUT: n\n",
    "    OUTPUT: f(n) = 1/1^2 + 1/2^2 + ... + 1/n^2\n",
    "    \"\"\"\n",
    "    fn = 0 # fn is the sum of the series starting from zero\n",
    "    for i in range(1,n+1): # loop over 1 to n, i is the looping variable\n",
    "        fn = fn + 1/i**2   # sum over the Basel series\n",
    "    return fn # output\n",
    "\n",
    "list_n = [10, 100, 1000]\n",
    "for n in list_n:\n",
    "    print('Basel(',n,') = ',basel(n))\n",
    "    \n",
    "# now lets try use a much larger n, e.g., n=1000000 and compare with pi**2/6\n",
    "print('Basel(100000) = ',basel(1000000))\n",
    "print('pi =            ',mt.pi**2/6)"
   ]
  },
  {
   "cell_type": "markdown",
   "metadata": {},
   "source": [
    "### 5 Find Perfect Numbers (20%)\n",
    "\n",
    "* **Write a Python function** to return all the divisors of an integer, output the divisors to a list.  For exmaple, the number 8 has four divisors: 1,2,4,8, you can store all the divisors to a list. (HINT: use the % operator to decide whether an integer is a divisor of a given number)\n",
    "* **Write another Python function** to return the sum of a given list of numbers\n",
    "* Then **Write a main() program** to print all the numbers within 1000 whose sum of divisors (including 1 but excluding itself) equal to the number itself\n",
    "* That's called a *perfect* number\n",
    "\n",
    "For example, the integer 6 has three divisors: [1, 2, 3], the sum of the divisors is 1 + 2 + 3 = 6, which makes 6 a perfect number! Find all the perfect numbers less than 10000"
   ]
  },
  {
   "cell_type": "code",
   "execution_count": 21,
   "metadata": {},
   "outputs": [
    {
     "name": "stdout",
     "output_type": "stream",
     "text": [
      "6\n",
      "28\n",
      "496\n",
      "8128\n"
     ]
    }
   ],
   "source": [
    "def divisors(N):\n",
    "    \"\"\"\n",
    "    return the all divisors of an integer N using the % operator\n",
    "    by looping over intergers 1<i<N, given that N>1\n",
    "    \"\"\"\n",
    "    divs = [] # an empty list for storing all the divisors\n",
    "    for i in range(1,N,1): # loop over a list of intergers between 1 and N-1\n",
    "        if (N%i)==0: # if N%i==0, then i is a divisor\n",
    "            divs.append(i) # append the divisor to the list called divs\n",
    "    return divs # return the list contains all the divisors of N\n",
    "\n",
    "def add_up(mylist):\n",
    "    \"\"\"\n",
    "    You've done this function before so I'm not explaining it again\n",
    "    \"\"\"\n",
    "    total = 0\n",
    "    for number in mylist:\n",
    "        total = total + number\n",
    "    return total\n",
    "\n",
    "def main():    \n",
    "    \"\"\"\n",
    "    the main() function which calls both your functions to do the job\n",
    "    \"\"\"\n",
    "    for i in range(2,10001): # loop over integers from 2 to 1000\n",
    "        divs = divisors(i)  # calculate the divisors for each integer i\n",
    "        if add_up(divs)==i: # decide whether the sum of the divisors equals to i\n",
    "            print(i)        # if so, print out that number, it's called a perfect number\n",
    "\n",
    "main()"
   ]
  },
  {
   "cell_type": "markdown",
   "metadata": {},
   "source": [
    "### [Extra Credit] Fermat's last theorem and Pizza (30%) \n",
    "\n",
    " - write a function to compute the solutions (x,y) to the equation $x^2+y^2 = N$, where x,  y, N are positive **integers**. \n",
    " - the input of the function should be N, and the output of the function should be a list of [x, y]. [hint]: you may think about use nested for-loops to go through integers x and y (e.g., 0<x<N, 0<y<N) respectively.\n",
    " - Test your function to see if the results are correct, print out the results. e.g., call the function Fermat(666) and you should get [15, 21] as the solutions for x and y.\n"
   ]
  },
  {
   "cell_type": "code",
   "execution_count": 38,
   "metadata": {},
   "outputs": [
    {
     "data": {
      "text/plain": [
       "[15, 21]"
      ]
     },
     "execution_count": 38,
     "metadata": {},
     "output_type": "execute_result"
    }
   ],
   "source": [
    "def Fermat(N):\n",
    "    \"\"\"\n",
    "    doc str here\n",
    "    \"\"\"\n",
    "    solution = []\n",
    "    for x in range(N):\n",
    "        for y in range(x,N):\n",
    "            if(x**2+y**2)==N:\n",
    "                solution.append(x)\n",
    "                solution.append(y)\n",
    "                break\n",
    "                \n",
    "    return solution\n",
    "\n",
    "Fermat(666)"
   ]
  },
  {
   "cell_type": "markdown",
   "metadata": {},
   "source": [
    "### [Extra Credit] Python for Ordering Pizza (30%)\n",
    "\n",
    "- Try use for-loops to find three integers $(a,b,c)$ such that:\n",
    "$\\frac{a}{b+c}+\\frac{b}{c+a}+\\frac{c}{a+b}=4$. The easiest set of solutions can be found between (-20, 20) \n",
    "* can you find a set of solutions for positive integers $(a,b,c)$?\n",
    "\n",
    "_This problem is from a pizza restaurant in Shanghai during the lockdown in early 2022. Due to the huge amount of Pizza orders during the pandamic, the restaurant decided to offer Pizza to customers who knows some math. Here you go - see if you can order a Pizza using Python_"
   ]
  },
  {
   "cell_type": "code",
   "execution_count": 39,
   "metadata": {},
   "outputs": [
    {
     "name": "stdout",
     "output_type": "stream",
     "text": [
      "-11 -9 5 4.0\n",
      "-5 9 11 4.0\n",
      "-1 4 11 4.0\n"
     ]
    }
   ],
   "source": [
    "eps = 1e-10\n",
    "test = 0\n",
    "for a in range(-20,21,1):\n",
    "    for b in range(a,21,1):\n",
    "        for c in range(b,21,1):\n",
    "            if ((a+b)!=0)and((c+b)!=0)and((a+c)!=0):\n",
    "                test = a/(b+c)+b/(c+a)+c/(a+b)\n",
    "            if test==4:\n",
    "                print(a,b,c,test)   "
   ]
  }
 ],
 "metadata": {
  "kernelspec": {
   "display_name": "Python 3.7.1 ('bert_chinese')",
   "language": "python",
   "name": "python3"
  },
  "language_info": {
   "codemirror_mode": {
    "name": "ipython",
    "version": 3
   },
   "file_extension": ".py",
   "mimetype": "text/x-python",
   "name": "python",
   "nbconvert_exporter": "python",
   "pygments_lexer": "ipython3",
   "version": "3.7.1"
  },
  "vscode": {
   "interpreter": {
    "hash": "53212d6bd219dd71a1dd1974b202da0e24447591239b9cfd3b7797526bde5b81"
   }
  }
 },
 "nbformat": 4,
 "nbformat_minor": 2
}
