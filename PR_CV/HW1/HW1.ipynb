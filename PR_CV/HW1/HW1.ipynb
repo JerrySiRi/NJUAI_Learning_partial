{
 "cells": [
  {
   "cell_type": "markdown",
   "metadata": {},
   "source": [
    "# HW 1：KNN"
   ]
  },
  {
   "cell_type": "code",
   "execution_count": 13,
   "metadata": {},
   "outputs": [],
   "source": [
    "import numpy as np\n",
    "import random\n",
    "from collections import Counter"
   ]
  },
  {
   "cell_type": "code",
   "execution_count": 14,
   "metadata": {},
   "outputs": [],
   "source": [
    "########读取机器学习数据集的示例代码 (LIBSVM格式)\n",
    "def load_svmfile(filename):\n",
    "    X = []\n",
    "    Y = []\n",
    "    with open(filename, 'r') as f:\n",
    "        filelines = f.readlines()\n",
    "        for fileline in filelines:\n",
    "            fileline = fileline.strip().split(' ')\n",
    "            #print(fileline)\n",
    "            Y.append(int(fileline[0]))\n",
    "            tmp = []\n",
    "            for t in fileline[1:]:\n",
    "                if len(t)==0:\n",
    "                    continue\n",
    "                tmp.append(float(t.split(':')[1]))\n",
    "            X.append(tmp)\n",
    "    \n",
    "    return np.array(X), np.array(Y)"
   ]
  },
  {
   "cell_type": "code",
   "execution_count": 15,
   "metadata": {},
   "outputs": [
    {
     "name": "stdout",
     "output_type": "stream",
     "text": [
      "Start loading dataset svmguide1.txt\n",
      "trainset X shape (3089, 4), train label Y shape (3089,)\n",
      "testset X_test shape (4000, 4), test label Y shape (4000,)\n"
     ]
    }
   ],
   "source": [
    "########从这个网址下载数据集：https://www.csie.ntu.edu.tw/~cjlin/libsvmtools/datasets/binary.html#svmguide1\n",
    "########将数据集保存在当前目录下\n",
    "########读取数据集\n",
    "\n",
    "# Tip：此时把文件以.txt扩展名存储，故修改了原有关于dataset的命名~\n",
    "dataset = 'svmguide1.txt'\n",
    "dataset_test = 'svmguide1.t.txt'\n",
    "print('Start loading dataset {}'.format(dataset))\n",
    "X, Y = load_svmfile(dataset) # train set\n",
    "X_test, Y_test = load_svmfile('{}'.format(dataset_test)) # test set\n",
    "print('trainset X shape {}, train label Y shape {}'.format(X.shape, Y.shape))\n",
    "print('testset X_test shape {}, test label Y shape {}'.format(X_test.shape, Y_test.shape))"
   ]
  },
  {
   "cell_type": "code",
   "execution_count": 16,
   "metadata": {},
   "outputs": [],
   "source": [
    "########实现一个KNN分类器的模型，需要完成的功能包括train, test和_calculate_distances三部分\n",
    "import copy\n",
    "\n",
    "class KNN_model():\n",
    "    def __init__(self, k=1):\n",
    "        self.k = k\n",
    "    \n",
    "    def train(self, x_train, y_train):\n",
    "        \"\"\"Implement the training code for KNN\n",
    "        Input: \n",
    "            x_train: Training instances of size (N, D), where N denotes the number of instances and D denotes the feature dimension\n",
    "            y_train: Training labels of size (N, )\n",
    "        \"\"\"\n",
    "        # Lazy Train\n",
    "        self.x_train = x_train\n",
    "        self.y_train = y_train\n",
    "    \n",
    "    \n",
    "    def test(self, x_test):\n",
    "        \"\"\"\n",
    "        Input: Test instances of size (N, D), where N denotes the number of instances and D denotes the feature dimension\n",
    "        Return: Predicted labels of size (N, )\n",
    "        \"\"\"\n",
    "        self.y_pre = []\n",
    "        for x in range(len(x_test)):\n",
    "            all_d = self._calculate_distances(x_test[x])\n",
    "            sorted_d = copy.deepcopy(all_d)\n",
    "            sorted_d.sort()\n",
    "            \n",
    "            label = []\n",
    "            for i in range(self.k):\n",
    "                label.append(self.y_train[all_d.index(sorted_d[i])])\n",
    "            \n",
    "            count_label = []\n",
    "            for i in label:\n",
    "                count_label.append(label.count(i))\n",
    "            m = max(count_label)\n",
    "            c = 0\n",
    "            for i in range(len(count_label)):\n",
    "                if m == count_label[i]:\n",
    "                    c = i\n",
    "                    break\n",
    "            self.y_pre.append(label[c])\n",
    "        self.y_pre = np.array(self.y_pre)\n",
    "        return(self.y_pre)\n",
    "\n",
    "    # _开头的函数为类的built in函数，只能类内访问\n",
    "    def _calculate_distances(self, point):\n",
    "        \"\"\"Calculate the euclidean distance between a【一个】 test instance and all【所有】 points in the training set x_train\n",
    "        Input: a single point of size (D, )\n",
    "        Return: distance matrix of size (N, )\n",
    "        \"\"\"\n",
    "        distances = []\n",
    "        for i in self.x_train:\n",
    "            dis = 0\n",
    "            for j in range(len(i)):\n",
    "                dis += (i[j] - point[j]) ** 2\n",
    "            distances.append(dis ** 0.5)\n",
    "        return distances"
   ]
  },
  {
   "cell_type": "code",
   "execution_count": 17,
   "metadata": {},
   "outputs": [
    {
     "name": "stdout",
     "output_type": "stream",
     "text": [
      "trainset X_train shape (2472, 4), validset X_valid shape (617, 4)\n"
     ]
    }
   ],
   "source": [
    "######### 将原来的训练集划分成两部分：训练和验证\n",
    "random.seed(777777) #定下随机种子\n",
    "N = X.shape[0] \n",
    "valid_frac = 0.2 # 设置验证集的比例为20%\n",
    "valid_size = int(N*valid_frac)\n",
    "\n",
    "# 出于简单起见，这里直接使用random shuffle来划分\n",
    "shuffle_index = [i for i in range(N)]\n",
    "random.shuffle(shuffle_index)\n",
    "valid_index, train_index = shuffle_index[:valid_size], shuffle_index[valid_size:]\n",
    "X_valid, Y_valid = X[valid_index], Y[valid_index]\n",
    "X_train, Y_train = X[train_index], Y[train_index]\n",
    "print('trainset X_train shape {}, validset X_valid shape {}'.format(X_train.shape, X_valid.shape))"
   ]
  },
  {
   "cell_type": "code",
   "execution_count": 18,
   "metadata": {},
   "outputs": [],
   "source": [
    "######### 这里需要实现计算准确率的函数，注意我们期望的输出是百分制，如准确率是0.95，我们期望的输出是95\n",
    "def cal_accuracy(y_pred, y_gt):\n",
    "    '''\n",
    "    y_pred: predicted labels (N,)\n",
    "    y_gt: ground truth labels (N,)\n",
    "    Return: Accuracy (%)\n",
    "    '''\n",
    "    accuracy = 0\n",
    "    for i in range(len(y_pred)):\n",
    "        if y_pred[i] == y_gt[i]:\n",
    "            accuracy += 1\n",
    "    accuracy = (accuracy / len(y_pred)) * 100\n",
    "    return accuracy\n",
    "\n",
    "assert abs(cal_accuracy(np.zeros(Y.shape[0]), Y)-100*1089.0/3089.0)<1e-3"
   ]
  },
  {
   "cell_type": "code",
   "execution_count": 19,
   "metadata": {},
   "outputs": [
    {
     "name": "stdout",
     "output_type": "stream",
     "text": [
      "k=1, accuracy on validation=96.27228525121556%\n",
      "k=3, accuracy on validation=96.27228525121556%\n",
      "k=5, accuracy on validation=96.27228525121556%\n",
      "k=7, accuracy on validation=96.43435980551054%\n",
      "k=9, accuracy on validation=96.11021069692059%\n",
      "k=11, accuracy on validation=95.62398703403565%\n"
     ]
    },
    {
     "data": {
      "text/plain": [
       "[<matplotlib.lines.Line2D at 0x1fc57be80f0>]"
      ]
     },
     "execution_count": 19,
     "metadata": {},
     "output_type": "execute_result"
    },
    {
     "data": {
      "image/png": "[encoded data removed]",
      "text/plain": [
       "<Figure size 640x480 with 1 Axes>"
      ]
     },
     "metadata": {},
     "output_type": "display_data"
    }
   ],
   "source": [
    "#####使用验证集来选择超参数\n",
    "possible_k_list = [1,3,5,7,9,11] # 在本次实验中候选的超参数取值\n",
    "# Tip：只有奇数才不会出现平票的情况（只有两个类时）\n",
    "\n",
    "accs = [] # 将每个取值k对应的验证集准确率加入列表\n",
    "for k in possible_k_list:\n",
    "    #####模型的超参数设置为k\n",
    "    knn = KNN_model(k)\n",
    "    #####在训练集上训练, 提示: model.train()\n",
    "    knn.train(X_train, Y_train)\n",
    "    #####在验证集X_valid上给出预测结果 Y_pred_valid, 提示：model.test()\n",
    "    Y_pred_valid = knn.test(X_valid)\n",
    "    #####计算验证集上的准确率\n",
    "    acc_k = cal_accuracy(Y_pred_valid, Y_valid)\n",
    "    #####将每个取值k对应的验证集准确率加入列表\n",
    "    accs.append(acc_k)\n",
    "    print('k={}, accuracy on validation={}%'.format(k, acc_k))\n",
    "\n",
    "import matplotlib.pyplot as plt\n",
    "plt.plot(possible_k_list, accs) #画出每个k对应的验证集准确率"
   ]
  },
  {
   "cell_type": "code",
   "execution_count": 20,
   "metadata": {},
   "outputs": [
    {
     "name": "stdout",
     "output_type": "stream",
     "text": [
      "Test Accuracy=96.575%\n"
     ]
    }
   ],
   "source": [
    "#####基于上面的结果确定验证集上的最好的超参数k，根据这个k最终在测试集上进行测试\n",
    "\n",
    "#####定义最好的k对应的模型\n",
    "knn1 = KNN_model(7)\n",
    "knn1.train(X,Y)\n",
    "Y_pred_test = knn1.test(X_test)\n",
    "\n",
    "#####在训练集上训练，注意这里可以使用全部的训练数据\n",
    "\n",
    "#####在测试集上测试生成预测 Y_pred_test\n",
    "print('Test Accuracy={}%'.format(cal_accuracy(Y_pred_test, Y_test)))"
   ]
  },
  {
   "cell_type": "code",
   "execution_count": 21,
   "metadata": {},
   "outputs": [
    {
     "name": "stdout",
     "output_type": "stream",
     "text": [
      "******k=1******\n",
      "Valid Accuracy on Fold-1: 94.81361426256078%\n",
      "Valid Accuracy on Fold-2: 95.62398703403565%\n",
      "Valid Accuracy on Fold-3: 95.9481361426256%\n",
      "Valid Accuracy on Fold-4: 94.97568881685575%\n",
      "Valid Accuracy on Fold-5: 96.45732689210949%\n",
      "k=1, Accuracy 95.56375062963744+-0.6096524335597422%\n",
      "******k=3******\n",
      "Valid Accuracy on Fold-1: 96.92058346839546%\n",
      "Valid Accuracy on Fold-2: 96.92058346839546%\n",
      "Valid Accuracy on Fold-3: 95.78606158833063%\n",
      "Valid Accuracy on Fold-4: 96.92058346839546%\n",
      "Valid Accuracy on Fold-5: 96.94041867954911%\n",
      "k=3, Accuracy 96.69764613461322+-0.45585700783857647%\n",
      "******k=5******\n",
      "Valid Accuracy on Fold-1: 96.5964343598055%\n",
      "Valid Accuracy on Fold-2: 96.5964343598055%\n",
      "Valid Accuracy on Fold-3: 96.11021069692059%\n",
      "Valid Accuracy on Fold-4: 96.27228525121556%\n",
      "Valid Accuracy on Fold-5: 97.42351046698873%\n",
      "k=5, Accuracy 96.59977502694719+-0.45287640294841575%\n",
      "******k=7******\n",
      "Valid Accuracy on Fold-1: 96.5964343598055%\n",
      "Valid Accuracy on Fold-2: 97.08265802269044%\n",
      "Valid Accuracy on Fold-3: 95.62398703403565%\n",
      "Valid Accuracy on Fold-4: 96.92058346839546%\n",
      "Valid Accuracy on Fold-5: 97.58454106280193%\n",
      "k=7, Accuracy 96.7616407895458+-0.6522313900318886%\n",
      "******k=9******\n",
      "Valid Accuracy on Fold-1: 96.5964343598055%\n",
      "Valid Accuracy on Fold-2: 96.92058346839546%\n",
      "Valid Accuracy on Fold-3: 95.62398703403565%\n",
      "Valid Accuracy on Fold-4: 97.08265802269044%\n",
      "Valid Accuracy on Fold-5: 97.42351046698873%\n",
      "k=9, Accuracy 96.72943467038316+-0.613636597727099%\n",
      "******k=11******\n",
      "Valid Accuracy on Fold-1: 95.78606158833063%\n",
      "Valid Accuracy on Fold-2: 97.08265802269044%\n",
      "Valid Accuracy on Fold-3: 95.9481361426256%\n",
      "Valid Accuracy on Fold-4: 96.92058346839546%\n",
      "Valid Accuracy on Fold-5: 97.74557165861513%\n",
      "k=11, Accuracy 96.69660217613145+-0.7333252043225262%\n"
     ]
    }
   ],
   "source": [
    "#####以下需要实现5折交叉验证，可以参考之前训练集和验证集划分的方式\n",
    "\n",
    "folds = 5\n",
    "shuffle_index = [i for i in range(N)]\n",
    "size = int(N / folds)\n",
    "random.shuffle(shuffle_index)\n",
    "\n",
    "for k in possible_k_list: # 遍历所有可能的k\n",
    "    print('******k={}******'.format(k))\n",
    "    valid_accs = []\n",
    "\n",
    "    for i in range(folds): # 第i折的实验\n",
    "        ##### 生成第i折的训练集 X_train_i, Y_train_i和验证集 X_valid_i, Y_valid_i; 提示：可参考之前random shuffle的方式来生成index\n",
    "\n",
    "        if i < folds - 1:\n",
    "            X_valid_i, Y_valid_i = X[shuffle_index[i*size: (i+1)*size]], Y[shuffle_index[i*size: (i+1)*size]]\n",
    "            rest_index = [j for j in range(N) if j not in shuffle_index[i*size: (i+1)*size]]\n",
    "            X_train_i, Y_train_i = X[rest_index], Y[rest_index]\n",
    "        \n",
    "        else:\n",
    "            X_valid_i, Y_valid_i = X[shuffle_index[i*size:]], Y[shuffle_index[i*size:]]\n",
    "            rest_index = [j for j in range(N) if j not in shuffle_index[i*size:]]\n",
    "            X_train_i, Y_train_i = X[rest_index], Y[rest_index]\n",
    "        \n",
    "        ##### 定义超参数设置为k的模型\n",
    "        knn2 = KNN_model(k)\n",
    "        ##### 在Fold-i上进行训练\n",
    "        knn2.train(X_train_i, Y_train_i)\n",
    "        ##### 给出Fold-i验证集X_valid_i上的预测结果 Y_pred_valid_i\n",
    "        Y_pred_valid_i = knn2.test(X_valid_i)\n",
    "        acc = cal_accuracy(Y_pred_valid_i, Y_valid_i)\n",
    "        valid_accs.append(acc)\n",
    "        print('Valid Accuracy on Fold-{}: {}%'.format(i+1, acc))\n",
    "    \n",
    "    print('k={}, Accuracy {}+-{}%'.format(k, np.mean(valid_accs), np.std(valid_accs)))\n"
   ]
  },
  {
   "cell_type": "code",
   "execution_count": 22,
   "metadata": {},
   "outputs": [
    {
     "name": "stdout",
     "output_type": "stream",
     "text": [
      "Test Accuracy chosing k using cross-validation=96.575%\n"
     ]
    }
   ],
   "source": [
    "#####基于交叉验证确定验证集上的最好的超参数k，根据这个k最终在测试集上进行测试\n",
    "#####定义最好的k对应的模型\n",
    "knn_best = KNN_model(7)\n",
    "#####在训练集上训练，注意这里可以使用全部的训练数据\n",
    "knn_best.train(X, Y)\n",
    "#####在测试集上测试生成预测 Y_pred_test\n",
    "Y_pred_test = knn_best.test(X_test)\n",
    "print('Test Accuracy chosing k using cross-validation={}%'.format(cal_accuracy(Y_pred_test, Y_test)))"
   ]
  },
  {
   "cell_type": "code",
   "execution_count": 23,
   "metadata": {},
   "outputs": [
    {
     "name": "stdout",
     "output_type": "stream",
     "text": [
      "Counter({0: 2000, 1: 800})\n",
      "772 75 1925 28\n",
      "\n",
      "Precision: 0.911452184179457 \\\n",
      "Recall: 0.965 \\\n",
      "F1: 0.9374620522161505\n",
      "\n"
     ]
    }
   ],
   "source": [
    "#####如果训练/测试集不均衡如果评估模型呢？\n",
    "#####生成一个不均衡的测试集，由于示例数据集中所有的标签1都在后面所以出于方便直接这样来生成一个不均衡的测试集\n",
    "\n",
    "N_test = int(X_test.shape[0]*0.7)\n",
    "X_test, Y_test = X_test[:N_test], Y_test[:N_test]\n",
    "print(Counter(Y_test)) # 输出新的测试集中的标签分布\n",
    "\n",
    "best_k = 5\n",
    "model = KNN_model(k=best_k) # 此处请填入交叉验证确定的最好的k\n",
    "model.train(X, Y)\n",
    "Y_pred_test = model.test(X_test)\n",
    "\n",
    "#实现计算percision， recall和F1 score的函数\n",
    "def cal_prec_recall_f1(Y_pred, Y_gt):\n",
    "    '''\n",
    "    Input: predicted labels y_pred, ground truth labels Y_gt\n",
    "    Retur: precision, recall, and F1 score\n",
    "    '''\n",
    "    tp = 0\n",
    "    fp = 0\n",
    "    tn = 0\n",
    "    fn = 0\n",
    "    for i in range(len(Y_pred)):\n",
    "        if Y_gt[i] == 1:\n",
    "            if Y_pred[i] == 1:\n",
    "                tp += 1\n",
    "            else:\n",
    "                fn += 1\n",
    "        else:\n",
    "            if Y_pred[i] == 1:\n",
    "                fp += 1\n",
    "            else:\n",
    "                tn += 1\n",
    "    print(tp, fp, tn, fn)\n",
    "    precision = tp / (tp + fp)\n",
    "    recall = tp / (tp + fn)\n",
    "    f1 = 2*precision*recall / (precision + recall)\n",
    "    return precision, recall, f1\n",
    "\n",
    "p, r, f1 = cal_prec_recall_f1(Y_pred_test, Y_test)\n",
    "print(f\"\"\"\n",
    "Precision: {p} \\n\n",
    "Recall: {r} \\n\n",
    "F1: {f1}\n",
    "\"\"\")"
   ]
  }
 ],
 "metadata": {
  "kernelspec": {
   "display_name": "bert_chinese",
   "language": "python",
   "name": "python3"
  },
  "language_info": {
   "codemirror_mode": {
    "name": "ipython",
    "version": 3
   },
   "file_extension": ".py",
   "mimetype": "text/x-python",
   "name": "python",
   "nbconvert_exporter": "python",
   "pygments_lexer": "ipython3",
   "version": "3.7.1"
  }
 },
 "nbformat": 4,
 "nbformat_minor": 2
}
